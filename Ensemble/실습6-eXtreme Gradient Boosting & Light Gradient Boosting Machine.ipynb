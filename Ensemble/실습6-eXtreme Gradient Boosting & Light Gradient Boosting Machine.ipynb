{
 "cells": [
  {
   "cell_type": "code",
   "execution_count": 75,
   "metadata": {},
   "outputs": [],
   "source": [
    "import warnings\n",
    "warnings.filterwarnings('ignore')\n",
    "import numpy as np\n",
    "import numpy as np\n",
    "import xgboost as xgb"
   ]
  },
  {
   "cell_type": "code",
   "execution_count": 76,
   "metadata": {},
   "outputs": [],
   "source": [
    "X = np.load(\"./tatanic_X_train.npy\")\n",
    "y = np.load(\"./tatanic_y_train.npy\")"
   ]
  },
  {
   "cell_type": "code",
   "execution_count": 77,
   "metadata": {},
   "outputs": [],
   "source": [
    "from sklearn.model_selection import train_test_split"
   ]
  },
  {
   "cell_type": "code",
   "execution_count": 78,
   "metadata": {},
   "outputs": [],
   "source": [
    "X_train, X_test, y_train, y_test = train_test_split(X, y, test_size =0.3)"
   ]
  },
  {
   "cell_type": "code",
   "execution_count": 82,
   "metadata": {},
   "outputs": [],
   "source": [
    "from xgboost import XGBClassifier\n",
    "\n",
    "model = XGBClassifier(n_estimators=1000, max_depth=2, learning_rate=0.5, nthread=7)  #라운드 1000번 max_depth를 짧게 variance낮은 모델 #cost function을 떨어뜨리는 learning_rate\n",
    "model.fit(X_train, y_train)\n",
    "y_pred = model.predict(X_test)"
   ]
  },
  {
   "cell_type": "code",
   "execution_count": 83,
   "metadata": {},
   "outputs": [
    {
     "data": {
      "text/plain": [
       "0.7752808988764045"
      ]
     },
     "execution_count": 83,
     "metadata": {},
     "output_type": "execute_result"
    }
   ],
   "source": [
    "from sklearn.metrics import accuracy_score\n",
    "\n",
    "accuracy_score(y_test, y_pred)"
   ]
  },
  {
   "cell_type": "code",
   "execution_count": 84,
   "metadata": {},
   "outputs": [],
   "source": [
    "dtrain = xgb.DMatrix(X_train, label=y_train)  #여기서부터 학습과정 보여주는 코드 \n",
    "dtest = xgb.DMatrix(X_test, label=y_test)"
   ]
  },
  {
   "cell_type": "code",
   "execution_count": 85,
   "metadata": {},
   "outputs": [],
   "source": [
    "param = {'max_depth': 2, 'eta': 0.5, 'silent': 1, 'objective': 'binary:logistic'} #파라미터 조정\n",
    "param['nthread'] = 7\n",
    "param['eval_metric'] = 'auc'\n",
    "evallist = [(dtest, 'eval'), (dtrain, 'train')]\n",
    "plst = param.items()"
   ]
  },
  {
   "cell_type": "code",
   "execution_count": 89,
   "metadata": {},
   "outputs": [
    {
     "name": "stdout",
     "output_type": "stream",
     "text": [
      "[0]\teval-auc:0.791547\ttrain-auc:0.835036\n",
      "[1]\teval-auc:0.827175\ttrain-auc:0.865661\n",
      "[2]\teval-auc:0.84269\ttrain-auc:0.880466\n",
      "[3]\teval-auc:0.850391\ttrain-auc:0.881838\n",
      "[4]\teval-auc:0.855074\ttrain-auc:0.885557\n",
      "[5]\teval-auc:0.85335\ttrain-auc:0.888847\n",
      "[6]\teval-auc:0.859125\ttrain-auc:0.893359\n",
      "[7]\teval-auc:0.856798\ttrain-auc:0.897279\n",
      "[8]\teval-auc:0.859355\ttrain-auc:0.89913\n",
      "[9]\teval-auc:0.859413\ttrain-auc:0.898238\n",
      "[10]\teval-auc:0.861481\ttrain-auc:0.901428\n",
      "[11]\teval-auc:0.863119\ttrain-auc:0.906084\n",
      "[12]\teval-auc:0.86513\ttrain-auc:0.908833\n",
      "[13]\teval-auc:0.865791\ttrain-auc:0.910166\n",
      "[14]\teval-auc:0.853005\ttrain-auc:0.914052\n",
      "[15]\teval-auc:0.851281\ttrain-auc:0.916919\n",
      "[16]\teval-auc:0.852086\ttrain-auc:0.918045\n",
      "[17]\teval-auc:0.85289\ttrain-auc:0.922004\n",
      "[18]\teval-auc:0.85766\ttrain-auc:0.923443\n",
      "[19]\teval-auc:0.857057\ttrain-auc:0.925121\n",
      "[20]\teval-auc:0.857689\ttrain-auc:0.925506\n",
      "[21]\teval-auc:0.857344\ttrain-auc:0.925913\n",
      "[22]\teval-auc:0.857804\ttrain-auc:0.926175\n",
      "[23]\teval-auc:0.858091\ttrain-auc:0.926209\n",
      "[24]\teval-auc:0.858522\ttrain-auc:0.926158\n",
      "[25]\teval-auc:0.858235\ttrain-auc:0.926515\n",
      "[26]\teval-auc:0.85835\ttrain-auc:0.928902\n",
      "[27]\teval-auc:0.85947\ttrain-auc:0.931707\n",
      "[28]\teval-auc:0.861194\ttrain-auc:0.931763\n",
      "[29]\teval-auc:0.860936\ttrain-auc:0.932036\n",
      "[30]\teval-auc:0.86128\ttrain-auc:0.932694\n",
      "[31]\teval-auc:0.861654\ttrain-auc:0.93338\n",
      "[32]\teval-auc:0.86309\ttrain-auc:0.934897\n",
      "[33]\teval-auc:0.863636\ttrain-auc:0.936977\n",
      "[34]\teval-auc:0.866739\ttrain-auc:0.937802\n",
      "[35]\teval-auc:0.86582\ttrain-auc:0.938817\n",
      "[36]\teval-auc:0.865763\ttrain-auc:0.940088\n",
      "[37]\teval-auc:0.863636\ttrain-auc:0.94107\n",
      "[38]\teval-auc:0.86536\ttrain-auc:0.942659\n",
      "[39]\teval-auc:0.865016\ttrain-auc:0.943813\n",
      "[40]\teval-auc:0.864039\ttrain-auc:0.944092\n",
      "[41]\teval-auc:0.866366\ttrain-auc:0.945123\n",
      "[42]\teval-auc:0.866711\ttrain-auc:0.946295\n",
      "[43]\teval-auc:0.866883\ttrain-auc:0.946668\n",
      "[44]\teval-auc:0.865992\ttrain-auc:0.94775\n",
      "[45]\teval-auc:0.862774\ttrain-auc:0.949378\n",
      "[46]\teval-auc:0.863579\ttrain-auc:0.950059\n",
      "[47]\teval-auc:0.863234\ttrain-auc:0.949835\n",
      "[48]\teval-auc:0.864211\ttrain-auc:0.95075\n",
      "[49]\teval-auc:0.864154\ttrain-auc:0.950516\n"
     ]
    }
   ],
   "source": [
    "num_round = 50\n",
    "bst = xgb.train(plst, dtrain, num_round, evallist)  #여기까지"
   ]
  },
  {
   "cell_type": "code",
   "execution_count": 90,
   "metadata": {},
   "outputs": [],
   "source": [
    "ypred = bst.predict(dtest, ntree_limit=bst.best_ntree_limit)"
   ]
  },
  {
   "cell_type": "code",
   "execution_count": 94,
   "metadata": {},
   "outputs": [
    {
     "data": {
      "text/plain": [
       "0.8202247191011236"
      ]
     },
     "execution_count": 94,
     "metadata": {},
     "output_type": "execute_result"
    }
   ],
   "source": [
    "(sum((ypred>0.5) == y_test)) / 267.0"
   ]
  },
  {
   "cell_type": "code",
   "execution_count": 95,
   "metadata": {},
   "outputs": [],
   "source": [
    "from sklearn.metrics import mean_squared_error\n",
    "from sklearn.model_selection import GridSearchCV\n",
    "import numpy as np"
   ]
  },
  {
   "cell_type": "code",
   "execution_count": 98,
   "metadata": {},
   "outputs": [],
   "source": [
    "X = np.load(\"./tatanic_X_train.npy\")\n",
    "y = np.load(\"./tatanic_y_train.npy\")"
   ]
  },
  {
   "cell_type": "code",
   "execution_count": 101,
   "metadata": {},
   "outputs": [],
   "source": [
    "from sklearn.cross_validation import train_test_split\n",
    "X_train, X_test, y_train, y_test = train_test_split(X, y, test_size=0.3)"
   ]
  },
  {
   "cell_type": "code",
   "execution_count": 102,
   "metadata": {},
   "outputs": [
    {
     "name": "stdout",
     "output_type": "stream",
     "text": [
      "Best parameters found by grid search are: {'learning_rate': 0.5, 'n_estimators': 80}\n"
     ]
    }
   ],
   "source": [
    "import lightgbm as lgb\n",
    "\n",
    "estimator = lgb.LGBMClassifier(num_leaves=2)\n",
    "\n",
    "param_grid = {\n",
    "    'learning_rate': [0.01, 0.1, 0.05, 0.5, 1],\n",
    "    'n_estimators': [20, 40, 60, 80, 100, 120]\n",
    "}\n",
    "\n",
    "gbm = GridSearchCV(estimator, param_grid, cv=5, scoring='roc_auc')\n",
    "\n",
    "gbm.fit(X, y)\n",
    "\n",
    "print('Best parameters found by grid search are:', gbm.best_params_)"
   ]
  },
  {
   "cell_type": "code",
   "execution_count": 103,
   "metadata": {},
   "outputs": [
    {
     "data": {
      "text/plain": [
       "0.846441947565543"
      ]
     },
     "execution_count": 103,
     "metadata": {},
     "output_type": "execute_result"
    }
   ],
   "source": [
    "sum(gbm.best_estimator_.predict(X_test) == y_test) / (len(y_test)*1.0)"
   ]
  },
  {
   "cell_type": "code",
   "execution_count": 108,
   "metadata": {},
   "outputs": [
    {
     "data": {
      "text/plain": [
       "0.8426966292134831"
      ]
     },
     "execution_count": 108,
     "metadata": {},
     "output_type": "execute_result"
    }
   ],
   "source": [
    "sum(\n",
    "    (gbm.best_estimator_.predict_proba(X_test)[:,1]> 0.51 ) == y_test) / (len(y_test)*1.0)"
   ]
  },
  {
   "cell_type": "code",
   "execution_count": 109,
   "metadata": {},
   "outputs": [],
   "source": [
    "\n",
    "from xgboost.sklearn import XGBClassifier\n",
    "estimator = XGBClassifier()"
   ]
  },
  {
   "cell_type": "code",
   "execution_count": 110,
   "metadata": {},
   "outputs": [],
   "source": [
    "parameters = {'nthread':[4], #when use hyperthread, xgboost may become slower\n",
    "              'objective':['binary:logistic'],\n",
    "              'learning_rate': [0.05], #so called `eta` value\n",
    "              'max_depth': [6],\n",
    "              'min_child_weight': [11],\n",
    "              'silent': [1],\n",
    "              'subsample': [0.8],\n",
    "              'colsample_bytree': [0.7],\n",
    "              'n_estimators': [5], #number of trees, change it to 1000 for better results\n",
    "              'missing':[-999],\n",
    "              'seed': [1337]}"
   ]
  },
  {
   "cell_type": "code",
   "execution_count": 111,
   "metadata": {},
   "outputs": [
    {
     "name": "stdout",
     "output_type": "stream",
     "text": [
      "Fitting 5 folds for each of 1 candidates, totalling 5 fits\n"
     ]
    },
    {
     "name": "stderr",
     "output_type": "stream",
     "text": [
      "[Parallel(n_jobs=5)]: Done   2 out of   5 | elapsed:    2.1s remaining:    3.1s\n",
      "[Parallel(n_jobs=5)]: Done   5 out of   5 | elapsed:    4.0s remaining:    0.0s\n",
      "[Parallel(n_jobs=5)]: Done   5 out of   5 | elapsed:    4.0s finished\n"
     ]
    },
    {
     "name": "stdout",
     "output_type": "stream",
     "text": [
      "Best parameters found by grid search are: {'learning_rate': 0.5, 'n_estimators': 80}\n"
     ]
    }
   ],
   "source": [
    "\n",
    "clf = GridSearchCV(estimator, parameters, n_jobs=5, \n",
    "                   cv=5, \n",
    "                   scoring='roc_auc',\n",
    "                   verbose=2, refit=True)\n",
    "\n",
    "clf.fit(X, y)\n",
    "print('Best parameters found by grid search are:', gbm.best_params_)"
   ]
  },
  {
   "cell_type": "code",
   "execution_count": 112,
   "metadata": {},
   "outputs": [
    {
     "data": {
      "text/plain": [
       "0.8352059925093633"
      ]
     },
     "execution_count": 112,
     "metadata": {},
     "output_type": "execute_result"
    }
   ],
   "source": [
    "sum(clf.best_estimator_.predict(X_test) == y_test) / (len(y_test)*1.0)"
   ]
  },
  {
   "cell_type": "code",
   "execution_count": 113,
   "metadata": {},
   "outputs": [
    {
     "data": {
      "text/plain": [
       "0.8202247191011236"
      ]
     },
     "execution_count": 113,
     "metadata": {},
     "output_type": "execute_result"
    }
   ],
   "source": [
    "sum(\n",
    "    (clf.best_estimator_.predict_proba(X_test)[:,1]> 0.51 ) == y_test) / (len(y_test)*1.0)"
   ]
  }
 ],
 "metadata": {
  "kernelspec": {
   "display_name": "Python 3",
   "language": "python",
   "name": "python3"
  },
  "language_info": {
   "codemirror_mode": {
    "name": "ipython",
    "version": 3
   },
   "file_extension": ".py",
   "mimetype": "text/x-python",
   "name": "python",
   "nbconvert_exporter": "python",
   "pygments_lexer": "ipython3",
   "version": "3.7.1"
  }
 },
 "nbformat": 4,
 "nbformat_minor": 2
}
