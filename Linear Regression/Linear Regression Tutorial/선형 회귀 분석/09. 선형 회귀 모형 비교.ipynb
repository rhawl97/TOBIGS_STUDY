{
 "cells": [
  {
   "cell_type": "markdown",
   "metadata": {
    "school_cell_uuid": "10c90e4350d0490183d1a29405b51566"
   },
   "source": [
    "# 선형 회귀 모형 비교"
   ]
  },
  {
   "cell_type": "markdown",
   "metadata": {
    "school_cell_uuid": "cfbf63afa53b415a830f19fc6a239143"
   },
   "source": [
    "두 개의 서로 다른 선형 회귀 모형의 성능을 비교할 때는 보통 다음과 같은 선택 기준을 사용한다.\n",
    "\n",
    "* 조정 결정 계수 (Adjusted determination coefficient)\n",
    "* AIC (Akaike Information Criterion)\n",
    "* BIC (Bayesian Information Criterion) "
   ]
  },
  {
   "cell_type": "markdown",
   "metadata": {
    "school_cell_uuid": "809b1a9ac79a4bcda839f82fad339810"
   },
   "source": [
    "## 조정 결정 계수"
   ]
  },
  {
   "cell_type": "markdown",
   "metadata": {
    "school_cell_uuid": "bb2a470d0c9748db962a4294f2b6a8f3"
   },
   "source": [
    "선형 회귀 모형에서 독립 변수가 추가되면 결정 계수의 값은 항상 증가한다. 이는 다음과 같이 확인할 수 있다.\n",
    "\n",
    "종속 변수 $y$를 회귀 분석하기 위한 기존의 독립 변수가 $X$이고 여기에 추가적인 독립 변수 $z$가 더해졌을 때, 다음과 같은 관계가 성립한다.\n",
    "\n",
    "$$\n",
    "R^2_{Xz} = R^2_{X} + (1-R^2_{X})r^{\\ast 2}_{yz}\n",
    "$$\n",
    "\n",
    "여기에서 \n",
    "* $R^2_{X}$: 기존의 독립 변수 $X$를 사용한 경우의 결정 계수\n",
    "* $R^2_{Xz}$: 기존의 독립 변수 $X$와 추가적인 독립 변수 $z$를 모두 사용한 경우의 결정 계수\n",
    "* $r^{\\ast 2}_{yz}$: 추가적인 독립 변수 $z$와 종속 변수 $y$간의 상관 관계 계수\n",
    "\n",
    "\n",
    "이고 이 항목들은 모두 양수이므로 \n",
    "\n",
    "$$\n",
    "R^2_{Xz} \\geq R^2_{X}\n",
    "$$"
   ]
  },
  {
   "cell_type": "markdown",
   "metadata": {
    "school_cell_uuid": "cc57abcae2cf4f189da669e0de3b77c9"
   },
   "source": [
    "이러한 독립 변수 추가 효과를 상쇄시키기 위한 다양한 기준들이 제시되었다. 그 중 하나가 다음과 같이 독립 변수의 갯수 $K$에 따라 결정 계수의 값을 조정하는 조정 결정 계수이다\n",
    "\n",
    "$$\n",
    "R_{adj}^2 = 1 - \\frac{n-1}{n-K}(1-R^2) = \\dfrac{(n-1)R^2 +1-K}{n-K}\n",
    "$$\n",
    "\n"
   ]
  },
  {
   "cell_type": "markdown",
   "metadata": {
    "school_cell_uuid": "1804a76e91bc471cbdaf4988ba437d50"
   },
   "source": [
    "## 정보량 규준"
   ]
  },
  {
   "cell_type": "markdown",
   "metadata": {
    "school_cell_uuid": "9294f4c662f64b5390a7b6abc51c552b"
   },
   "source": [
    "조정 결정 계수와 함께 많이 쓰이는 모형 비교 기준은 최대 우도에 독립 변수의 갯수에 대한 손실(penalty)분을 반영하는 방법이다. \n",
    "이를 정보량 규준(information criterion)이라고 하며 손실 가중치의 계산 법에 따라 AIC (Akaike Information Criterion)와 BIC (Bayesian Information Criterion) 두 가지를 사용한다."
   ]
  },
  {
   "cell_type": "markdown",
   "metadata": {
    "school_cell_uuid": "d160bcdcd9d344059129cab4340f47fc"
   },
   "source": [
    "$$\n",
    "\\text{AIC} = -2\\log L + 2K\n",
    "$$\n",
    "\n",
    "$$\n",
    "\\text{BIC} = -2\\log L + K\\log n\n",
    "$$"
   ]
  }
 ],
 "metadata": {
  "celltoolbar": "Edit Metadata",
  "kernelspec": {
   "display_name": "Python 2",
   "language": "python",
   "name": "python2"
  },
  "language_info": {
   "codemirror_mode": {
    "name": "ipython",
    "version": 2
   },
   "file_extension": ".py",
   "mimetype": "text/x-python",
   "name": "python",
   "nbconvert_exporter": "python",
   "pygments_lexer": "ipython2",
   "version": "2.7.11"
  }
 },
 "nbformat": 4,
 "nbformat_minor": 0
}