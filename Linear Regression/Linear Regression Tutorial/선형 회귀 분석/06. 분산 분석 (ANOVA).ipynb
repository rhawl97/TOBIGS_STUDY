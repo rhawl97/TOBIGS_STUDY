{
 "cells": [
  {
   "cell_type": "markdown",
   "metadata": {
    "school_cell_uuid": "2577e475d74c49d39d526854fc8e611e"
   },
   "source": [
    "# 분산 분석 (ANOVA)"
   ]
  },
  {
   "cell_type": "markdown",
   "metadata": {
    "collapsed": true,
    "school_cell_uuid": "5e86f952c67d4f3b8e04cb5eec45e282"
   },
   "source": [
    "선형 회귀 분석의 결과가 어느 정도의 성능을 가지는지는 단순히 잔차 제곱합(RSS: Residula Sum of Square)으로 평가할 수 없다. 변수의 스케일이 달라지면 회귀 분석과 상관없이 잔차 제곱합도 같이 커지기 때문이다.\n",
    "\n",
    "분산 분석(ANOVA:Analysis of Variance)은 종속 변수의 분산과 독립 변수의 분산간의 관계를 사용하여 선형 회귀 분석의 성능을 평가하고자 하는 방법이다. 분산 분석은 서로 다른 두 개의 선형 회귀 분석의 성능 비교에 응용할 수 있으며 독립 변수가 카테고리 변수인 경우 각 카테고리 값에 따른 영향을 정량적으로 분석하는데도 사용된다."
   ]
  },
  {
   "cell_type": "markdown",
   "metadata": {
    "school_cell_uuid": "86b6d989ce9e4fccaa25a8ab5e68666e"
   },
   "source": [
    "## 분산"
   ]
  },
  {
   "cell_type": "markdown",
   "metadata": {
    "school_cell_uuid": "9a024e84041e4d59bb8ff1215f21be1c"
   },
   "source": [
    "$\\bar{y}$를 종속 변수 $y$의 샘플 평균이라고 하자.\n",
    "\n",
    "$$\\bar{y}=\\frac{1}{N}\\sum_{i=1}^N y_i $$"
   ]
  },
  {
   "cell_type": "markdown",
   "metadata": {
    "school_cell_uuid": "628d1c9b2ec24efdb1cc7e1ec24c01ac"
   },
   "source": [
    "종속 변수의 분산을 나타내는 TSS(total sum of square)라는 값을 정의한다.\n",
    "\n",
    "$$\\text{TSS} = \\sum_i (y_i-\\bar{y})^2$$\n",
    "\n",
    "마찬가지로 회귀 분석에 의해 예측한 종속 변수의 분산을 나타내는 ESS(explained sum of squares),\n",
    "\n",
    "$$\\text{ESS}=\\sum_i (\\hat{y}_i -\\bar{y})^2,$$\n",
    "\n",
    "오차의 분산을 나타내는 RSS(residual sum of squares)도 정의한다.\n",
    "\n",
    "$$\\text{RSS}=\\sum_i (y_i - \\hat{y}_i)^2\\,$$\n",
    "\n"
   ]
  },
  {
   "cell_type": "markdown",
   "metadata": {
    "school_cell_uuid": "0c0a3c34f958480583b9e2b5a0151708"
   },
   "source": [
    "이 때 이들 분산 간에는 다음과 같은 관계가 성립한다. \n",
    "\n",
    "$$\\text{TSS} = \\text{ESS} + \\text{RSS}$$"
   ]
  },
  {
   "cell_type": "markdown",
   "metadata": {
    "school_cell_uuid": "0882f84ed11f4393a7241255d0084ee4"
   },
   "source": [
    "\n",
    "\n",
    "이는 다음과 같이 증명한다.\n",
    "\n",
    "우선 회귀 분석으로 구한 가중치 벡터를 $\\hat{w}$, 독립 변수(설명 변수) $x$에 의한 종속 변수의 추정값을 $\\hat{y}$, 잔차를 $e$ 라고 하면 다음 식이 성립한다.\n",
    "\n",
    "$$ y = X\\hat{w} + e = \\hat{y} + e $$\n",
    "\n",
    "따라서\n",
    "\n",
    "$$\n",
    "y_i - \\bar{y} = \\hat{y}_i - \\bar{y} + e_i = (x_i - \\bar{x})\\hat{w} + e_i\n",
    "$$\n",
    "를 벡터화하면\n",
    "$$\n",
    "y - \\bar{y} = \\hat{y} - \\bar{y} + e_i = (X- \\bar{X})\\hat{w} + e\n",
    "$$\n",
    "\n",
    "여기에서 $\\bar{X}$는 각 열이 $X$의 해당 열의 평균인 행렬이다.\n",
    "\n",
    "\n",
    "이 식에 나온 $X-\\bar{X}$와 잔차 $e$는 다음과 같은 독립 관계가 성립한다. \n",
    "\n",
    "$$ X^Te = \\bar{X}Te = 0 $$\n",
    "\n",
    "이 식들을 정리하면 다음과 같다.\n",
    "\n",
    "\n",
    "$$\n",
    "\\begin{eqnarray}\n",
    "\\text{TSS} \n",
    "&=& (y - \\bar{y})^T(y - \\bar{y} ) \\\\\n",
    "&=& (\\hat{y} - \\bar{y} + e)^T(\\hat{y} - \\bar{y} + e) \\\\\n",
    "&=& (\\hat{y} - \\bar{y})^T(\\hat{y} - \\bar{y}) + e^Te + 2(\\hat{y} - \\bar{y})^Te \\\\\n",
    "&=& (\\hat{y} - \\bar{y})^T(\\hat{y} - \\bar{y}) + e^Te + 2\\hat{w}^T(X - \\bar{X})^Te \\\\\n",
    "&=& (\\hat{y} - \\bar{y})^T(\\hat{y} - \\bar{y}) + e^Te \\\\\n",
    "&=& \\text{ESS} + \\text{RSS}\n",
    "\\end{eqnarray}\n",
    "$$\n"
   ]
  },
  {
   "cell_type": "markdown",
   "metadata": {
    "school_cell_uuid": "fd4d5737a0844dd2873fbf3c05717db7"
   },
   "source": [
    "## 결정 계수 (Coefficient of Determination)"
   ]
  },
  {
   "cell_type": "markdown",
   "metadata": {
    "school_cell_uuid": "83cea00a9df7491aab3a6303eeb3ae9a"
   },
   "source": [
    "위의 분산 관계식에서 다음과 같이 결정 계수(Coefficient of Determination) $R^2$를 정의할 수 있다.\n",
    "\n",
    "$$R^2 \\equiv 1 - \\dfrac{\\text{RSS}}{\\text{TSS}}\\ = \\dfrac{\\text{ESS}}{\\text{TSS}}\\ $$"
   ]
  },
  {
   "cell_type": "markdown",
   "metadata": {
    "school_cell_uuid": "f33a1c752ecd442f8b1e1e47978d2dc9"
   },
   "source": [
    "분산 관계식과 모든 분산값이 0보다 크다는 점을 이용하면 $R^2$의 값은 다음과 같은 조건을 만족함을 알 수 있다.\n",
    "\n",
    "$$0 \\leq R^2  \\leq 1$$"
   ]
  },
  {
   "cell_type": "markdown",
   "metadata": {
    "school_cell_uuid": "5eb5e0c7bead471b8970e41aaf7c5bc5"
   },
   "source": [
    "여기에서 $R^2$가 0이라는 것은 오차의 분산 RSS가 최대이고 회귀 분석 결과의 분산 ESS가 0인 경우이므로 회귀 분석의 결과가 아무런 의미가 없다는 뜻이다.\n",
    "\n",
    "반대로 $R^2$가 1이라는 것은 오차의 분산 RSS가 0이고 회귀 분석 결과의 분산 ESS가 TSS와 같은 경우이므로 회귀 분석의 결과가 완벽하다는 뜻이다.\n",
    "\n",
    "따라서 결정 계수값은 회귀 분석의 성능을 나타내는 수치라고 할 수 있다."
   ]
  },
  {
   "cell_type": "markdown",
   "metadata": {
    "school_cell_uuid": "bc9f2535e1db4f2595f1d0a0ed93f2a3"
   },
   "source": [
    "## F-검정"
   ]
  },
  {
   "cell_type": "markdown",
   "metadata": {
    "school_cell_uuid": "fe50463800f045f398aacf4dc721e0cf"
   },
   "source": [
    "$R^2 = 0$인 경우에 다음 값은 F-분포를 따른다.\n",
    "\n",
    "$$ \\dfrac{R^2/(K-1)}{(1-R^2)(N-K)} \\sim F(K-1, N-K) $$\n",
    "\n",
    "따라서 이 값은 $R^2 = 0$인 귀무가설에 대한 검정 통계량으로 사용할 수 있다. 이러한 검정을 Loss-of-Fit test (Regression F-test)이라고 한다."
   ]
  },
  {
   "cell_type": "markdown",
   "metadata": {
    "school_cell_uuid": "8743771052744a988f129b007031ddd1"
   },
   "source": [
    "## 분산 분석표"
   ]
  },
  {
   "cell_type": "markdown",
   "metadata": {
    "school_cell_uuid": "e22ce8312a3743f0a544575dc38b6d8c"
   },
   "source": [
    "분산 분석의 결과는 보통 다음과 같은 분산 분석표를 사용하여 표시한다."
   ]
  },
  {
   "cell_type": "markdown",
   "metadata": {
    "school_cell_uuid": "654460492333480c938200912a4e4896"
   },
   "source": [
    "\n",
    "| | source  | degree of freedom | mean square | F statstics | \n",
    "|-|-|-|-|-|\n",
    "| Regression | $$\\text{ESS}$$ | $$K-1$$ | $$s_{\\hat{y}}^2 = \\dfrac{\\text{ESS}}{K-1}$$   | $$F$$ |\n",
    "| Residual   | $$\\text{RSS}$$ | $$N-K$$ | $$s_e^2= \\dfrac{\\text{RSS}}{N-K}$$ |\n",
    "| Total      | $$\\text{TSS}$$ | $$N-1$$ | $$s_y^2= \\dfrac{\\text{TSS}}{N-1}$$ |\n",
    "| $R^2$      | $$\\text{ESS} / \\text{TSS}$$ | \n"
   ]
  },
  {
   "cell_type": "markdown",
   "metadata": {
    "school_cell_uuid": "d58f96b3cf7e430e9a739f3a4e6ecc0c"
   },
   "source": [
    "statsmodels 에서는 다음과 같이 `anova_lm` 명령을 사용하여 분산 분석표를 출력할 수 있다. 다만 이 명령을 사용하기 위해서는 모형을 `from_formula` 메서드로 생성하여야 한다."
   ]
  },
  {
   "cell_type": "code",
   "execution_count": 6,
   "metadata": {
    "collapsed": false,
    "school_cell_uuid": "5b73fce8a26742658e991fddcdce6943"
   },
   "outputs": [
    {
     "data": {
      "text/html": [
       "<div>\n",
       "<table border=\"1\" class=\"dataframe\">\n",
       "  <thead>\n",
       "    <tr style=\"text-align: right;\">\n",
       "      <th></th>\n",
       "      <th>df</th>\n",
       "      <th>sum_sq</th>\n",
       "      <th>mean_sq</th>\n",
       "      <th>F</th>\n",
       "      <th>PR(&gt;F)</th>\n",
       "    </tr>\n",
       "  </thead>\n",
       "  <tbody>\n",
       "    <tr>\n",
       "      <th>X</th>\n",
       "      <td>1.0</td>\n",
       "      <td>186547.426039</td>\n",
       "      <td>186547.426039</td>\n",
       "      <td>400.311154</td>\n",
       "      <td>2.209335e-36</td>\n",
       "    </tr>\n",
       "    <tr>\n",
       "      <th>Residual</th>\n",
       "      <td>98.0</td>\n",
       "      <td>45668.594467</td>\n",
       "      <td>466.006066</td>\n",
       "      <td>NaN</td>\n",
       "      <td>NaN</td>\n",
       "    </tr>\n",
       "  </tbody>\n",
       "</table>\n",
       "</div>"
      ],
      "text/plain": [
       "            df         sum_sq        mean_sq           F        PR(>F)\n",
       "X          1.0  186547.426039  186547.426039  400.311154  2.209335e-36\n",
       "Residual  98.0   45668.594467     466.006066         NaN           NaN"
      ]
     },
     "execution_count": 6,
     "metadata": {},
     "output_type": "execute_result"
    }
   ],
   "source": [
    "from sklearn.datasets import make_regression\n",
    "X0, y, coef = make_regression(n_samples=100, n_features=1, noise=20, coef=True, random_state=0)\n",
    "dfX0 = pd.DataFrame(X0, columns=[\"X\"])\n",
    "dfX = sm.add_constant(dfX0)\n",
    "dfy = pd.DataFrame(y, columns=[\"Y\"])\n",
    "df = pd.concat([dfX, dfy], axis=1)\n",
    "model = sm.OLS.from_formula(\"Y ~ X\", data=df)\n",
    "result = model.fit()\n",
    "table = sm.stats.anova_lm(result)\n",
    "table"
   ]
  },
  {
   "cell_type": "markdown",
   "metadata": {
    "school_cell_uuid": "13b6c0d451f04f33826c399b3c21e9a2"
   },
   "source": [
    "## 다변수 분산 분석"
   ]
  },
  {
   "cell_type": "markdown",
   "metadata": {
    "school_cell_uuid": "e998b873aa7e4bb3bf16a1fdc2a1dcd8"
   },
   "source": [
    "독립 변수가 복수인 경우에는 각 독립 변수에 대한 F 검정 통계량을 구할 수 있다. 이 값은 각 변수만을 가진 복수의 모형의 성능을 비교하는 것과 같으므로 독립 변수의 영향력을 측정하는 것이 가능하다."
   ]
  },
  {
   "cell_type": "code",
   "execution_count": 10,
   "metadata": {
    "collapsed": false,
    "school_cell_uuid": "dfb92e8bc944407e9e9283464c627c6e"
   },
   "outputs": [
    {
     "data": {
      "text/html": [
       "<div>\n",
       "<table border=\"1\" class=\"dataframe\">\n",
       "  <thead>\n",
       "    <tr style=\"text-align: right;\">\n",
       "      <th></th>\n",
       "      <th>df</th>\n",
       "      <th>sum_sq</th>\n",
       "      <th>mean_sq</th>\n",
       "      <th>F</th>\n",
       "      <th>PR(&gt;F)</th>\n",
       "    </tr>\n",
       "  </thead>\n",
       "  <tbody>\n",
       "    <tr>\n",
       "      <th>C(CHAS)</th>\n",
       "      <td>1.0</td>\n",
       "      <td>1312.079271</td>\n",
       "      <td>1312.079271</td>\n",
       "      <td>58.260551</td>\n",
       "      <td>1.201699e-13</td>\n",
       "    </tr>\n",
       "    <tr>\n",
       "      <th>CRIM</th>\n",
       "      <td>1.0</td>\n",
       "      <td>6062.112643</td>\n",
       "      <td>6062.112643</td>\n",
       "      <td>269.177351</td>\n",
       "      <td>1.438012e-48</td>\n",
       "    </tr>\n",
       "    <tr>\n",
       "      <th>ZN</th>\n",
       "      <td>1.0</td>\n",
       "      <td>3798.889752</td>\n",
       "      <td>3798.889752</td>\n",
       "      <td>168.682956</td>\n",
       "      <td>2.263508e-33</td>\n",
       "    </tr>\n",
       "    <tr>\n",
       "      <th>INDUS</th>\n",
       "      <td>1.0</td>\n",
       "      <td>2875.615124</td>\n",
       "      <td>2875.615124</td>\n",
       "      <td>127.686585</td>\n",
       "      <td>1.755926e-26</td>\n",
       "    </tr>\n",
       "    <tr>\n",
       "      <th>NOX</th>\n",
       "      <td>1.0</td>\n",
       "      <td>79.909636</td>\n",
       "      <td>79.909636</td>\n",
       "      <td>3.548246</td>\n",
       "      <td>6.019793e-02</td>\n",
       "    </tr>\n",
       "    <tr>\n",
       "      <th>RM</th>\n",
       "      <td>1.0</td>\n",
       "      <td>10931.344559</td>\n",
       "      <td>10931.344559</td>\n",
       "      <td>485.386951</td>\n",
       "      <td>2.365303e-75</td>\n",
       "    </tr>\n",
       "    <tr>\n",
       "      <th>AGE</th>\n",
       "      <td>1.0</td>\n",
       "      <td>90.700931</td>\n",
       "      <td>90.700931</td>\n",
       "      <td>4.027414</td>\n",
       "      <td>4.531310e-02</td>\n",
       "    </tr>\n",
       "    <tr>\n",
       "      <th>DIS</th>\n",
       "      <td>1.0</td>\n",
       "      <td>1778.461941</td>\n",
       "      <td>1778.461941</td>\n",
       "      <td>78.969446</td>\n",
       "      <td>1.193021e-17</td>\n",
       "    </tr>\n",
       "    <tr>\n",
       "      <th>RAD</th>\n",
       "      <td>1.0</td>\n",
       "      <td>38.542194</td>\n",
       "      <td>38.542194</td>\n",
       "      <td>1.711398</td>\n",
       "      <td>1.914150e-01</td>\n",
       "    </tr>\n",
       "    <tr>\n",
       "      <th>TAX</th>\n",
       "      <td>1.0</td>\n",
       "      <td>329.239071</td>\n",
       "      <td>329.239071</td>\n",
       "      <td>14.619277</td>\n",
       "      <td>1.484560e-04</td>\n",
       "    </tr>\n",
       "    <tr>\n",
       "      <th>PTRATIO</th>\n",
       "      <td>1.0</td>\n",
       "      <td>1311.756023</td>\n",
       "      <td>1311.756023</td>\n",
       "      <td>58.246198</td>\n",
       "      <td>1.209564e-13</td>\n",
       "    </tr>\n",
       "    <tr>\n",
       "      <th>B</th>\n",
       "      <td>1.0</td>\n",
       "      <td>607.249318</td>\n",
       "      <td>607.249318</td>\n",
       "      <td>26.963828</td>\n",
       "      <td>3.039662e-07</td>\n",
       "    </tr>\n",
       "    <tr>\n",
       "      <th>LSTAT</th>\n",
       "      <td>1.0</td>\n",
       "      <td>2420.118669</td>\n",
       "      <td>2420.118669</td>\n",
       "      <td>107.461074</td>\n",
       "      <td>6.595808e-23</td>\n",
       "    </tr>\n",
       "    <tr>\n",
       "      <th>Residual</th>\n",
       "      <td>492.0</td>\n",
       "      <td>11080.276284</td>\n",
       "      <td>22.520887</td>\n",
       "      <td>NaN</td>\n",
       "      <td>NaN</td>\n",
       "    </tr>\n",
       "  </tbody>\n",
       "</table>\n",
       "</div>"
      ],
      "text/plain": [
       "             df        sum_sq       mean_sq           F        PR(>F)\n",
       "C(CHAS)     1.0   1312.079271   1312.079271   58.260551  1.201699e-13\n",
       "CRIM        1.0   6062.112643   6062.112643  269.177351  1.438012e-48\n",
       "ZN          1.0   3798.889752   3798.889752  168.682956  2.263508e-33\n",
       "INDUS       1.0   2875.615124   2875.615124  127.686585  1.755926e-26\n",
       "NOX         1.0     79.909636     79.909636    3.548246  6.019793e-02\n",
       "RM          1.0  10931.344559  10931.344559  485.386951  2.365303e-75\n",
       "AGE         1.0     90.700931     90.700931    4.027414  4.531310e-02\n",
       "DIS         1.0   1778.461941   1778.461941   78.969446  1.193021e-17\n",
       "RAD         1.0     38.542194     38.542194    1.711398  1.914150e-01\n",
       "TAX         1.0    329.239071    329.239071   14.619277  1.484560e-04\n",
       "PTRATIO     1.0   1311.756023   1311.756023   58.246198  1.209564e-13\n",
       "B           1.0    607.249318    607.249318   26.963828  3.039662e-07\n",
       "LSTAT       1.0   2420.118669   2420.118669  107.461074  6.595808e-23\n",
       "Residual  492.0  11080.276284     22.520887         NaN           NaN"
      ]
     },
     "execution_count": 10,
     "metadata": {},
     "output_type": "execute_result"
    }
   ],
   "source": [
    "from sklearn.datasets import load_boston\n",
    "boston = load_boston()\n",
    "dfX0_boston = pd.DataFrame(boston.data, columns=boston.feature_names)\n",
    "dfy_boston = pd.DataFrame(boston.target, columns=[\"MEDV\"])\n",
    "\n",
    "import statsmodels.api as sm\n",
    "dfX_boston = sm.add_constant(dfX0_boston)\n",
    "\n",
    "df_boston = pd.concat([dfX_boston, dfy_boston], axis=1)\n",
    "model = sm.OLS.from_formula(\"MEDV ~ CRIM + ZN +INDUS + NOX + RM + AGE + DIS + RAD + TAX + PTRATIO + B + LSTAT + C(CHAS)\", data=df_boston)\n",
    "result = model.fit()\n",
    "table = sm.stats.anova_lm(result)\n",
    "table"
   ]
  }
 ],
 "metadata": {
  "kernelspec": {
   "display_name": "Python 2",
   "language": "python",
   "name": "python2"
  },
  "language_info": {
   "codemirror_mode": {
    "name": "ipython",
    "version": 2
   },
   "file_extension": ".py",
   "mimetype": "text/x-python",
   "name": "python",
   "nbconvert_exporter": "python",
   "pygments_lexer": "ipython2",
   "version": "2.7.11"
  }
 },
 "nbformat": 4,
 "nbformat_minor": 0
}