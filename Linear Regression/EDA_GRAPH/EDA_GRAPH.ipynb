{
 "cells": [
  {
   "cell_type": "code",
   "execution_count": null,
   "metadata": {},
   "outputs": [],
   "source": []
  },
  {
   "cell_type": "code",
   "execution_count": null,
   "metadata": {},
   "outputs": [],
   "source": []
  },
  {
   "cell_type": "code",
   "execution_count": null,
   "metadata": {},
   "outputs": [],
   "source": []
  },
  {
   "cell_type": "code",
   "execution_count": null,
   "metadata": {},
   "outputs": [],
   "source": []
  },
  {
   "cell_type": "code",
   "execution_count": 1,
   "metadata": {},
   "outputs": [
    {
     "ename": "ImportError",
     "evalue": "cannot import name 'cross_validation' from 'sklearn' (C:\\ProgramData\\Anaconda3\\lib\\site-packages\\sklearn\\__init__.py)",
     "output_type": "error",
     "traceback": [
      "\u001b[1;31m---------------------------------------------------------------------------\u001b[0m",
      "\u001b[1;31mImportError\u001b[0m                               Traceback (most recent call last)",
      "\u001b[1;32m<ipython-input-1-cdceff7c662d>\u001b[0m in \u001b[0;36m<module>\u001b[1;34m\u001b[0m\n\u001b[0;32m     10\u001b[0m \u001b[1;33m\u001b[0m\u001b[0m\n\u001b[0;32m     11\u001b[0m \u001b[1;32mfrom\u001b[0m \u001b[0msklearn\u001b[0m\u001b[1;33m.\u001b[0m\u001b[0mlinear_model\u001b[0m \u001b[1;32mimport\u001b[0m \u001b[0mLinearRegression\u001b[0m\u001b[1;33m\u001b[0m\u001b[1;33m\u001b[0m\u001b[0m\n\u001b[1;32m---> 12\u001b[1;33m \u001b[1;32mfrom\u001b[0m \u001b[0msklearn\u001b[0m \u001b[1;32mimport\u001b[0m \u001b[0mcross_validation\u001b[0m \u001b[1;32mas\u001b[0m \u001b[0mCV\u001b[0m\u001b[1;33m\u001b[0m\u001b[1;33m\u001b[0m\u001b[0m\n\u001b[0m\u001b[0;32m     13\u001b[0m \u001b[1;33m\u001b[0m\u001b[0m\n\u001b[0;32m     14\u001b[0m \u001b[1;31m#디렉토리 경로 적어주세요\u001b[0m\u001b[1;33m\u001b[0m\u001b[1;33m\u001b[0m\u001b[1;33m\u001b[0m\u001b[0m\n",
      "\u001b[1;31mImportError\u001b[0m: cannot import name 'cross_validation' from 'sklearn' (C:\\ProgramData\\Anaconda3\\lib\\site-packages\\sklearn\\__init__.py)"
     ]
    }
   ],
   "source": [
    "import pandas as pd\n",
    "import numpy as np\n",
    "import os\n",
    "from tqdm import tnrange,tqdm_notebook\n",
    "import seaborn as sns\n",
    "import matplotlib.pyplot as plt\n",
    "import datetime\n",
    "from sklearn.cluster import KMeans\n",
    "from pandas.plotting import scatter_matrix\n",
    "\n",
    "from sklearn.linear_model import LinearRegression\n",
    "from sklearn import cross_validation as CV\n",
    "\n",
    "#디렉토리 경로 적어주세요\n",
    "os.chdir(\"C:/Users/q/code_ref\")\n"
   ]
  },
  {
   "cell_type": "code",
   "execution_count": 2,
   "metadata": {},
   "outputs": [],
   "source": [
    "#데이터 불러오기\n",
    "AM_train = pd.read_csv(\"Auction_master_train.csv\")\n"
   ]
  },
  {
   "cell_type": "markdown",
   "metadata": {},
   "source": [
    "# 데이터 날짜변수랑 위치변수 가지고 놀기"
   ]
  },
  {
   "cell_type": "code",
   "execution_count": 3,
   "metadata": {},
   "outputs": [
    {
     "data": {
      "text/html": [
       "<div>\n",
       "<style scoped>\n",
       "    .dataframe tbody tr th:only-of-type {\n",
       "        vertical-align: middle;\n",
       "    }\n",
       "\n",
       "    .dataframe tbody tr th {\n",
       "        vertical-align: top;\n",
       "    }\n",
       "\n",
       "    .dataframe thead th {\n",
       "        text-align: right;\n",
       "    }\n",
       "</style>\n",
       "<table border=\"1\" class=\"dataframe\">\n",
       "  <thead>\n",
       "    <tr style=\"text-align: right;\">\n",
       "      <th></th>\n",
       "      <th>Auction_key</th>\n",
       "      <th>Auction_class</th>\n",
       "      <th>Bid_class</th>\n",
       "      <th>Claim_price</th>\n",
       "      <th>Appraisal_company</th>\n",
       "      <th>Appraisal_date</th>\n",
       "      <th>Auction_count</th>\n",
       "      <th>Auction_miscarriage_count</th>\n",
       "      <th>Total_land_gross_area</th>\n",
       "      <th>Total_land_real_area</th>\n",
       "      <th>...</th>\n",
       "      <th>Specific</th>\n",
       "      <th>Share_auction_YorN</th>\n",
       "      <th>road_name</th>\n",
       "      <th>road_bunji1</th>\n",
       "      <th>road_bunji2</th>\n",
       "      <th>Close_date</th>\n",
       "      <th>Close_result</th>\n",
       "      <th>point.y</th>\n",
       "      <th>point.x</th>\n",
       "      <th>Hammer_price</th>\n",
       "    </tr>\n",
       "  </thead>\n",
       "  <tbody>\n",
       "    <tr>\n",
       "      <th>0</th>\n",
       "      <td>2687</td>\n",
       "      <td>임의</td>\n",
       "      <td>개별</td>\n",
       "      <td>1766037301</td>\n",
       "      <td>정명감정</td>\n",
       "      <td>2017-07-26 00:00:00</td>\n",
       "      <td>2</td>\n",
       "      <td>1</td>\n",
       "      <td>12592.0</td>\n",
       "      <td>37.35</td>\n",
       "      <td>...</td>\n",
       "      <td>NaN</td>\n",
       "      <td>N</td>\n",
       "      <td>해운대해변로</td>\n",
       "      <td>30.0</td>\n",
       "      <td>NaN</td>\n",
       "      <td>2018-06-14 00:00:00</td>\n",
       "      <td>배당</td>\n",
       "      <td>35.162717</td>\n",
       "      <td>129.137048</td>\n",
       "      <td>760000000</td>\n",
       "    </tr>\n",
       "    <tr>\n",
       "      <th>1</th>\n",
       "      <td>2577</td>\n",
       "      <td>임의</td>\n",
       "      <td>일반</td>\n",
       "      <td>152946867</td>\n",
       "      <td>희감정</td>\n",
       "      <td>2016-09-12 00:00:00</td>\n",
       "      <td>2</td>\n",
       "      <td>1</td>\n",
       "      <td>42478.1</td>\n",
       "      <td>18.76</td>\n",
       "      <td>...</td>\n",
       "      <td>NaN</td>\n",
       "      <td>N</td>\n",
       "      <td>마린시티2로</td>\n",
       "      <td>33.0</td>\n",
       "      <td>NaN</td>\n",
       "      <td>2017-03-30 00:00:00</td>\n",
       "      <td>배당</td>\n",
       "      <td>35.156633</td>\n",
       "      <td>129.145068</td>\n",
       "      <td>971889999</td>\n",
       "    </tr>\n",
       "    <tr>\n",
       "      <th>2</th>\n",
       "      <td>2197</td>\n",
       "      <td>임의</td>\n",
       "      <td>개별</td>\n",
       "      <td>11326510</td>\n",
       "      <td>혜림감정</td>\n",
       "      <td>2016-11-22 00:00:00</td>\n",
       "      <td>3</td>\n",
       "      <td>2</td>\n",
       "      <td>149683.1</td>\n",
       "      <td>71.00</td>\n",
       "      <td>...</td>\n",
       "      <td>NaN</td>\n",
       "      <td>N</td>\n",
       "      <td>모라로110번길</td>\n",
       "      <td>88.0</td>\n",
       "      <td>NaN</td>\n",
       "      <td>2017-12-13 00:00:00</td>\n",
       "      <td>배당</td>\n",
       "      <td>35.184601</td>\n",
       "      <td>128.996765</td>\n",
       "      <td>93399999</td>\n",
       "    </tr>\n",
       "    <tr>\n",
       "      <th>3</th>\n",
       "      <td>2642</td>\n",
       "      <td>임의</td>\n",
       "      <td>일반</td>\n",
       "      <td>183581724</td>\n",
       "      <td>신라감정</td>\n",
       "      <td>2016-12-13 00:00:00</td>\n",
       "      <td>2</td>\n",
       "      <td>1</td>\n",
       "      <td>24405.0</td>\n",
       "      <td>32.98</td>\n",
       "      <td>...</td>\n",
       "      <td>NaN</td>\n",
       "      <td>N</td>\n",
       "      <td>황령대로319번가길</td>\n",
       "      <td>110.0</td>\n",
       "      <td>NaN</td>\n",
       "      <td>2017-12-27 00:00:00</td>\n",
       "      <td>배당</td>\n",
       "      <td>35.154180</td>\n",
       "      <td>129.089081</td>\n",
       "      <td>256899000</td>\n",
       "    </tr>\n",
       "    <tr>\n",
       "      <th>4</th>\n",
       "      <td>1958</td>\n",
       "      <td>강제</td>\n",
       "      <td>일반</td>\n",
       "      <td>45887671</td>\n",
       "      <td>나라감정</td>\n",
       "      <td>2016-03-07 00:00:00</td>\n",
       "      <td>2</td>\n",
       "      <td>1</td>\n",
       "      <td>774.0</td>\n",
       "      <td>45.18</td>\n",
       "      <td>...</td>\n",
       "      <td>NaN</td>\n",
       "      <td>N</td>\n",
       "      <td>오작로</td>\n",
       "      <td>51.0</td>\n",
       "      <td>NaN</td>\n",
       "      <td>2016-10-04 00:00:00</td>\n",
       "      <td>배당</td>\n",
       "      <td>35.099630</td>\n",
       "      <td>128.998874</td>\n",
       "      <td>158660000</td>\n",
       "    </tr>\n",
       "    <tr>\n",
       "      <th>5</th>\n",
       "      <td>2238</td>\n",
       "      <td>강제</td>\n",
       "      <td>일반</td>\n",
       "      <td>105437195</td>\n",
       "      <td>한마음감정</td>\n",
       "      <td>2017-01-03 00:00:00</td>\n",
       "      <td>2</td>\n",
       "      <td>1</td>\n",
       "      <td>8635.0</td>\n",
       "      <td>41.39</td>\n",
       "      <td>...</td>\n",
       "      <td>NaN</td>\n",
       "      <td>N</td>\n",
       "      <td>일산봉로</td>\n",
       "      <td>58.0</td>\n",
       "      <td>NaN</td>\n",
       "      <td>2017-10-25 00:00:00</td>\n",
       "      <td>배당</td>\n",
       "      <td>35.086933</td>\n",
       "      <td>129.065706</td>\n",
       "      <td>206989000</td>\n",
       "    </tr>\n",
       "    <tr>\n",
       "      <th>6</th>\n",
       "      <td>1923</td>\n",
       "      <td>임의</td>\n",
       "      <td>일반</td>\n",
       "      <td>137548730</td>\n",
       "      <td>미래새한감정</td>\n",
       "      <td>2016-01-19 00:00:00</td>\n",
       "      <td>3</td>\n",
       "      <td>2</td>\n",
       "      <td>7927.0</td>\n",
       "      <td>81.77</td>\n",
       "      <td>...</td>\n",
       "      <td>NaN</td>\n",
       "      <td>N</td>\n",
       "      <td>동삼서로</td>\n",
       "      <td>61.0</td>\n",
       "      <td>NaN</td>\n",
       "      <td>2016-11-03 00:00:00</td>\n",
       "      <td>배당</td>\n",
       "      <td>35.084049</td>\n",
       "      <td>129.070231</td>\n",
       "      <td>135500000</td>\n",
       "    </tr>\n",
       "    <tr>\n",
       "      <th>7</th>\n",
       "      <td>2527</td>\n",
       "      <td>임의</td>\n",
       "      <td>일반</td>\n",
       "      <td>506916971</td>\n",
       "      <td>부일감정</td>\n",
       "      <td>2016-04-28 00:00:00</td>\n",
       "      <td>2</td>\n",
       "      <td>1</td>\n",
       "      <td>331281.0</td>\n",
       "      <td>92.22</td>\n",
       "      <td>...</td>\n",
       "      <td>NaN</td>\n",
       "      <td>N</td>\n",
       "      <td>분포로</td>\n",
       "      <td>111.0</td>\n",
       "      <td>NaN</td>\n",
       "      <td>2016-11-22 00:00:00</td>\n",
       "      <td>배당</td>\n",
       "      <td>35.127808</td>\n",
       "      <td>129.112206</td>\n",
       "      <td>640299999</td>\n",
       "    </tr>\n",
       "    <tr>\n",
       "      <th>8</th>\n",
       "      <td>2259</td>\n",
       "      <td>강제</td>\n",
       "      <td>일반</td>\n",
       "      <td>40782876</td>\n",
       "      <td>금정감정</td>\n",
       "      <td>2016-03-08 00:00:00</td>\n",
       "      <td>2</td>\n",
       "      <td>1</td>\n",
       "      <td>1017.0</td>\n",
       "      <td>66.44</td>\n",
       "      <td>...</td>\n",
       "      <td>NaN</td>\n",
       "      <td>N</td>\n",
       "      <td>천마로27번길</td>\n",
       "      <td>10.0</td>\n",
       "      <td>NaN</td>\n",
       "      <td>2016-09-27 00:00:00</td>\n",
       "      <td>배당</td>\n",
       "      <td>35.080817</td>\n",
       "      <td>129.020155</td>\n",
       "      <td>77380000</td>\n",
       "    </tr>\n",
       "    <tr>\n",
       "      <th>9</th>\n",
       "      <td>2666</td>\n",
       "      <td>임의</td>\n",
       "      <td>일반</td>\n",
       "      <td>150000000</td>\n",
       "      <td>연산감정</td>\n",
       "      <td>2017-03-27 00:00:00</td>\n",
       "      <td>2</td>\n",
       "      <td>1</td>\n",
       "      <td>27447.2</td>\n",
       "      <td>78.52</td>\n",
       "      <td>...</td>\n",
       "      <td>NaN</td>\n",
       "      <td>N</td>\n",
       "      <td>재반로84번길</td>\n",
       "      <td>96.0</td>\n",
       "      <td>7.0</td>\n",
       "      <td>2017-12-27 00:00:00</td>\n",
       "      <td>배당</td>\n",
       "      <td>35.187903</td>\n",
       "      <td>129.130913</td>\n",
       "      <td>177070000</td>\n",
       "    </tr>\n",
       "  </tbody>\n",
       "</table>\n",
       "<p>10 rows × 41 columns</p>\n",
       "</div>"
      ],
      "text/plain": [
       "   Auction_key Auction_class Bid_class  Claim_price Appraisal_company  \\\n",
       "0         2687            임의        개별   1766037301              정명감정   \n",
       "1         2577            임의        일반    152946867               희감정   \n",
       "2         2197            임의        개별     11326510              혜림감정   \n",
       "3         2642            임의        일반    183581724              신라감정   \n",
       "4         1958            강제        일반     45887671              나라감정   \n",
       "5         2238            강제        일반    105437195             한마음감정   \n",
       "6         1923            임의        일반    137548730            미래새한감정   \n",
       "7         2527            임의        일반    506916971              부일감정   \n",
       "8         2259            강제        일반     40782876              금정감정   \n",
       "9         2666            임의        일반    150000000              연산감정   \n",
       "\n",
       "        Appraisal_date  Auction_count  Auction_miscarriage_count  \\\n",
       "0  2017-07-26 00:00:00              2                          1   \n",
       "1  2016-09-12 00:00:00              2                          1   \n",
       "2  2016-11-22 00:00:00              3                          2   \n",
       "3  2016-12-13 00:00:00              2                          1   \n",
       "4  2016-03-07 00:00:00              2                          1   \n",
       "5  2017-01-03 00:00:00              2                          1   \n",
       "6  2016-01-19 00:00:00              3                          2   \n",
       "7  2016-04-28 00:00:00              2                          1   \n",
       "8  2016-03-08 00:00:00              2                          1   \n",
       "9  2017-03-27 00:00:00              2                          1   \n",
       "\n",
       "   Total_land_gross_area  Total_land_real_area     ...       Specific  \\\n",
       "0                12592.0                 37.35     ...            NaN   \n",
       "1                42478.1                 18.76     ...            NaN   \n",
       "2               149683.1                 71.00     ...            NaN   \n",
       "3                24405.0                 32.98     ...            NaN   \n",
       "4                  774.0                 45.18     ...            NaN   \n",
       "5                 8635.0                 41.39     ...            NaN   \n",
       "6                 7927.0                 81.77     ...            NaN   \n",
       "7               331281.0                 92.22     ...            NaN   \n",
       "8                 1017.0                 66.44     ...            NaN   \n",
       "9                27447.2                 78.52     ...            NaN   \n",
       "\n",
       "   Share_auction_YorN   road_name  road_bunji1  road_bunji2  \\\n",
       "0                   N      해운대해변로         30.0          NaN   \n",
       "1                   N      마린시티2로         33.0          NaN   \n",
       "2                   N    모라로110번길         88.0          NaN   \n",
       "3                   N  황령대로319번가길        110.0          NaN   \n",
       "4                   N         오작로         51.0          NaN   \n",
       "5                   N        일산봉로         58.0          NaN   \n",
       "6                   N        동삼서로         61.0          NaN   \n",
       "7                   N         분포로        111.0          NaN   \n",
       "8                   N     천마로27번길         10.0          NaN   \n",
       "9                   N     재반로84번길         96.0          7.0   \n",
       "\n",
       "            Close_date Close_result    point.y     point.x Hammer_price  \n",
       "0  2018-06-14 00:00:00           배당  35.162717  129.137048    760000000  \n",
       "1  2017-03-30 00:00:00           배당  35.156633  129.145068    971889999  \n",
       "2  2017-12-13 00:00:00           배당  35.184601  128.996765     93399999  \n",
       "3  2017-12-27 00:00:00           배당  35.154180  129.089081    256899000  \n",
       "4  2016-10-04 00:00:00           배당  35.099630  128.998874    158660000  \n",
       "5  2017-10-25 00:00:00           배당  35.086933  129.065706    206989000  \n",
       "6  2016-11-03 00:00:00           배당  35.084049  129.070231    135500000  \n",
       "7  2016-11-22 00:00:00           배당  35.127808  129.112206    640299999  \n",
       "8  2016-09-27 00:00:00           배당  35.080817  129.020155     77380000  \n",
       "9  2017-12-27 00:00:00           배당  35.187903  129.130913    177070000  \n",
       "\n",
       "[10 rows x 41 columns]"
      ]
     },
     "execution_count": 3,
     "metadata": {},
     "output_type": "execute_result"
    }
   ],
   "source": [
    "#데이터 10개정도 탐색해보기\n",
    "AM_train.head(10)"
   ]
  },
  {
   "cell_type": "code",
   "execution_count": 4,
   "metadata": {},
   "outputs": [
    {
     "name": "stdout",
     "output_type": "stream",
     "text": [
      "(1933, 41)\n"
     ]
    }
   ],
   "source": [
    "# 데이터 shape, 행1933개 , 열 41개\n",
    "print(AM_train.shape)"
   ]
  },
  {
   "cell_type": "code",
   "execution_count": 5,
   "metadata": {},
   "outputs": [],
   "source": [
    "#오늘로부터 이 날짜가 얼마나 지났느냐를 보려고 만든 함수\n",
    "def change_datetime(x):\n",
    "    today = datetime.date.today()\n",
    "    #년, 월 , 일 int(숫자형식)으로 바꿔서 datetime형식으로 넣음\n",
    "    someday = datetime.date(int(x[:4]), int(x[5:7]), int(x[8:10]))\n",
    "    #오늘 뺴기 헤당 날짜\n",
    "    diff = today - someday\n",
    "    return diff.days"
   ]
  },
  {
   "cell_type": "code",
   "execution_count": 6,
   "metadata": {},
   "outputs": [
    {
     "data": {
      "text/plain": [
       "0    2017-07-26 00:00:00\n",
       "1    2016-09-12 00:00:00\n",
       "2    2016-11-22 00:00:00\n",
       "3    2016-12-13 00:00:00\n",
       "4    2016-03-07 00:00:00\n",
       "Name: Appraisal_date, dtype: object"
      ]
     },
     "execution_count": 6,
     "metadata": {},
     "output_type": "execute_result"
    }
   ],
   "source": [
    "#보시다시피 한 행의 10번째 인덱스까지 날짜가 나와있다\n",
    "AM_train[\"Appraisal_date\"].head()"
   ]
  },
  {
   "cell_type": "code",
   "execution_count": 7,
   "metadata": {},
   "outputs": [],
   "source": [
    "#날짜까지만 뽑게 apply시켜준다\n",
    "AM_train[\"Appraisal_date\"] = AM_train[\"Appraisal_date\"].apply(lambda x : x[:10])\n",
    "AM_train[\"First_auction_date\"] = AM_train[\"First_auction_date\"].apply(lambda x : x[:10])\n",
    "AM_train[\"Final_auction_date\"] = AM_train[\"Final_auction_date\"].apply(lambda x : x[:10])\n",
    "AM_train[\"Preserve_regist_date\"] = AM_train[\"Preserve_regist_date\"].apply(lambda x : x[:10])\n",
    "AM_train[\"Close_date\"] = AM_train[\"Close_date\"].apply(lambda x : x[:10])"
   ]
  },
  {
   "cell_type": "code",
   "execution_count": 8,
   "metadata": {},
   "outputs": [],
   "source": [
    "#오늘로부터 얼마나 지났는지 모두 바꾸는 apply\n",
    "AM_train[\"Appraisal_date\"] = AM_train[\"Appraisal_date\"].apply(change_datetime)\n",
    "AM_train[\"First_auction_date\"] = AM_train[\"First_auction_date\"].apply(change_datetime)\n",
    "AM_train[\"Final_auction_date\"] = AM_train[\"Final_auction_date\"].apply(change_datetime)\n",
    "AM_train[\"Preserve_regist_date\"] = AM_train[\"Preserve_regist_date\"].apply(change_datetime)\n",
    "AM_train[\"Close_date\"] = AM_train[\"Close_date\"].apply(change_datetime)"
   ]
  },
  {
   "cell_type": "code",
   "execution_count": 9,
   "metadata": {},
   "outputs": [],
   "source": [
    "#총감정가 - 최저매각가격\n",
    "#최종 감정된 가격에 비해 최저로 매각해야하는 가격과 얼마나 차이가 났는가\n",
    "AM_train[\"Diff_price\"] = AM_train['Total_appraisal_price'] - AM_train['Minimum_sales_price']\n"
   ]
  },
  {
   "cell_type": "code",
   "execution_count": 10,
   "metadata": {},
   "outputs": [
    {
     "name": "stdout",
     "output_type": "stream",
     "text": [
      "['임의' '강제']\n"
     ]
    }
   ],
   "source": [
    "#경매구분은 '임의'와 '강제'로 나뉜다\n",
    "print(AM_train.Auction_class.unique())\n"
   ]
  },
  {
   "cell_type": "code",
   "execution_count": 11,
   "metadata": {},
   "outputs": [
    {
     "name": "stdout",
     "output_type": "stream",
     "text": [
      "[0 1]\n"
     ]
    }
   ],
   "source": [
    "#임의와 강제로 나누어 더미변수화한다\n",
    "AM_train.Auction_class.replace({'임의':0, '강제':1},inplace=True)\n",
    "print(AM_train.Auction_class.unique())"
   ]
  },
  {
   "cell_type": "code",
   "execution_count": 12,
   "metadata": {},
   "outputs": [
    {
     "name": "stdout",
     "output_type": "stream",
     "text": [
      "['부산' '서울']\n"
     ]
    }
   ],
   "source": [
    "#부산과 서울\n",
    "print(AM_train.addr_do.unique())"
   ]
  },
  {
   "cell_type": "code",
   "execution_count": 13,
   "metadata": {},
   "outputs": [],
   "source": [
    "#부산과 서울 더미변수화\n",
    "AM_train.addr_do.replace({'부산':0, '서울':1},inplace=True)"
   ]
  },
  {
   "cell_type": "code",
   "execution_count": 14,
   "metadata": {},
   "outputs": [
    {
     "name": "stdout",
     "output_type": "stream",
     "text": [
      "[0 1]\n"
     ]
    }
   ],
   "source": [
    "print(AM_train.addr_do.unique())"
   ]
  },
  {
   "cell_type": "code",
   "execution_count": 15,
   "metadata": {},
   "outputs": [
    {
     "name": "stdout",
     "output_type": "stream",
     "text": [
      "['주상복합' '아파트']\n"
     ]
    }
   ],
   "source": [
    "#건물(토지)의 대표용도의 하위변수\n",
    "print(AM_train.Apartment_usage.unique())"
   ]
  },
  {
   "cell_type": "code",
   "execution_count": 16,
   "metadata": {},
   "outputs": [
    {
     "name": "stdout",
     "output_type": "stream",
     "text": [
      "[0 1]\n"
     ]
    }
   ],
   "source": [
    "#주상복합과 아파트 더미변수화\n",
    "AM_train.Apartment_usage.replace({'주상복합':0, '아파트':1},inplace=True)\n",
    "print(AM_train.Apartment_usage.unique())"
   ]
  },
  {
   "cell_type": "code",
   "execution_count": 17,
   "metadata": {},
   "outputs": [],
   "source": [
    "#부산과 서울 기준으로 데이터를 2개로 분리한다\n",
    "AM_train1 = AM_train[AM_train.addr_do == 0]\n",
    "AM_train2 = AM_train[AM_train.addr_do == 1]"
   ]
  },
  {
   "cell_type": "code",
   "execution_count": 18,
   "metadata": {},
   "outputs": [
    {
     "data": {
      "text/html": [
       "<div>\n",
       "<style scoped>\n",
       "    .dataframe tbody tr th:only-of-type {\n",
       "        vertical-align: middle;\n",
       "    }\n",
       "\n",
       "    .dataframe tbody tr th {\n",
       "        vertical-align: top;\n",
       "    }\n",
       "\n",
       "    .dataframe thead th {\n",
       "        text-align: right;\n",
       "    }\n",
       "</style>\n",
       "<table border=\"1\" class=\"dataframe\">\n",
       "  <thead>\n",
       "    <tr style=\"text-align: right;\">\n",
       "      <th></th>\n",
       "      <th>Auction_key</th>\n",
       "      <th>Auction_class</th>\n",
       "      <th>Bid_class</th>\n",
       "      <th>Claim_price</th>\n",
       "      <th>Appraisal_company</th>\n",
       "      <th>Appraisal_date</th>\n",
       "      <th>Auction_count</th>\n",
       "      <th>Auction_miscarriage_count</th>\n",
       "      <th>Total_land_gross_area</th>\n",
       "      <th>Total_land_real_area</th>\n",
       "      <th>...</th>\n",
       "      <th>Share_auction_YorN</th>\n",
       "      <th>road_name</th>\n",
       "      <th>road_bunji1</th>\n",
       "      <th>road_bunji2</th>\n",
       "      <th>Close_date</th>\n",
       "      <th>Close_result</th>\n",
       "      <th>point.y</th>\n",
       "      <th>point.x</th>\n",
       "      <th>Hammer_price</th>\n",
       "      <th>Diff_price</th>\n",
       "    </tr>\n",
       "  </thead>\n",
       "  <tbody>\n",
       "    <tr>\n",
       "      <th>1521</th>\n",
       "      <td>10</td>\n",
       "      <td>1</td>\n",
       "      <td>일괄</td>\n",
       "      <td>8955865567</td>\n",
       "      <td>대신감정</td>\n",
       "      <td>1337</td>\n",
       "      <td>4</td>\n",
       "      <td>3</td>\n",
       "      <td>0.0</td>\n",
       "      <td>2665.84</td>\n",
       "      <td>...</td>\n",
       "      <td>N</td>\n",
       "      <td>남현길</td>\n",
       "      <td>96.0</td>\n",
       "      <td>NaN</td>\n",
       "      <td>643</td>\n",
       "      <td>배당</td>\n",
       "      <td>37.473014</td>\n",
       "      <td>126.974663</td>\n",
       "      <td>15151000000</td>\n",
       "      <td>13554200000</td>\n",
       "    </tr>\n",
       "  </tbody>\n",
       "</table>\n",
       "<p>1 rows × 42 columns</p>\n",
       "</div>"
      ],
      "text/plain": [
       "      Auction_key  Auction_class Bid_class  Claim_price Appraisal_company  \\\n",
       "1521           10              1        일괄   8955865567              대신감정   \n",
       "\n",
       "      Appraisal_date  Auction_count  Auction_miscarriage_count  \\\n",
       "1521            1337              4                          3   \n",
       "\n",
       "      Total_land_gross_area  Total_land_real_area     ...       \\\n",
       "1521                    0.0               2665.84     ...        \n",
       "\n",
       "      Share_auction_YorN  road_name  road_bunji1  road_bunji2  Close_date  \\\n",
       "1521                   N        남현길         96.0          NaN         643   \n",
       "\n",
       "      Close_result    point.y     point.x Hammer_price   Diff_price  \n",
       "1521            배당  37.473014  126.974663  15151000000  13554200000  \n",
       "\n",
       "[1 rows x 42 columns]"
      ]
     },
     "execution_count": 18,
     "metadata": {},
     "output_type": "execute_result"
    }
   ],
   "source": [
    "#어떤 낙찰가가 max값인지 살펴보기\n",
    "AM_train.loc[AM_train.Hammer_price == AM_train.Hammer_price.max()]"
   ]
  },
  {
   "cell_type": "code",
   "execution_count": 19,
   "metadata": {},
   "outputs": [
    {
     "data": {
      "text/html": [
       "<div>\n",
       "<style scoped>\n",
       "    .dataframe tbody tr th:only-of-type {\n",
       "        vertical-align: middle;\n",
       "    }\n",
       "\n",
       "    .dataframe tbody tr th {\n",
       "        vertical-align: top;\n",
       "    }\n",
       "\n",
       "    .dataframe thead th {\n",
       "        text-align: right;\n",
       "    }\n",
       "</style>\n",
       "<table border=\"1\" class=\"dataframe\">\n",
       "  <thead>\n",
       "    <tr style=\"text-align: right;\">\n",
       "      <th></th>\n",
       "      <th>Auction_key</th>\n",
       "      <th>Auction_class</th>\n",
       "      <th>Bid_class</th>\n",
       "      <th>Claim_price</th>\n",
       "      <th>Appraisal_company</th>\n",
       "      <th>Appraisal_date</th>\n",
       "      <th>Auction_count</th>\n",
       "      <th>Auction_miscarriage_count</th>\n",
       "      <th>Total_land_gross_area</th>\n",
       "      <th>Total_land_real_area</th>\n",
       "      <th>...</th>\n",
       "      <th>Share_auction_YorN</th>\n",
       "      <th>road_name</th>\n",
       "      <th>road_bunji1</th>\n",
       "      <th>road_bunji2</th>\n",
       "      <th>Close_date</th>\n",
       "      <th>Close_result</th>\n",
       "      <th>point.y</th>\n",
       "      <th>point.x</th>\n",
       "      <th>Hammer_price</th>\n",
       "      <th>Diff_price</th>\n",
       "    </tr>\n",
       "  </thead>\n",
       "  <tbody>\n",
       "    <tr>\n",
       "      <th>1521</th>\n",
       "      <td>10</td>\n",
       "      <td>1</td>\n",
       "      <td>일괄</td>\n",
       "      <td>8955865567</td>\n",
       "      <td>대신감정</td>\n",
       "      <td>1337</td>\n",
       "      <td>4</td>\n",
       "      <td>3</td>\n",
       "      <td>0.0</td>\n",
       "      <td>2665.84</td>\n",
       "      <td>...</td>\n",
       "      <td>N</td>\n",
       "      <td>남현길</td>\n",
       "      <td>96.0</td>\n",
       "      <td>NaN</td>\n",
       "      <td>643</td>\n",
       "      <td>배당</td>\n",
       "      <td>37.473014</td>\n",
       "      <td>126.974663</td>\n",
       "      <td>15151000000</td>\n",
       "      <td>13554200000</td>\n",
       "    </tr>\n",
       "  </tbody>\n",
       "</table>\n",
       "<p>1 rows × 42 columns</p>\n",
       "</div>"
      ],
      "text/plain": [
       "      Auction_key  Auction_class Bid_class  Claim_price Appraisal_company  \\\n",
       "1521           10              1        일괄   8955865567              대신감정   \n",
       "\n",
       "      Appraisal_date  Auction_count  Auction_miscarriage_count  \\\n",
       "1521            1337              4                          3   \n",
       "\n",
       "      Total_land_gross_area  Total_land_real_area     ...       \\\n",
       "1521                    0.0               2665.84     ...        \n",
       "\n",
       "      Share_auction_YorN  road_name  road_bunji1  road_bunji2  Close_date  \\\n",
       "1521                   N        남현길         96.0          NaN         643   \n",
       "\n",
       "      Close_result    point.y     point.x Hammer_price   Diff_price  \n",
       "1521            배당  37.473014  126.974663  15151000000  13554200000  \n",
       "\n",
       "[1 rows x 42 columns]"
      ]
     },
     "execution_count": 19,
     "metadata": {},
     "output_type": "execute_result"
    }
   ],
   "source": [
    "#어떤 총 감정가가 max값인지 살펴보기\n",
    "AM_train[AM_train.Total_appraisal_price == AM_train.Total_appraisal_price.max()]"
   ]
  },
  {
   "cell_type": "code",
   "execution_count": 20,
   "metadata": {},
   "outputs": [
    {
     "data": {
      "text/plain": [
       "42"
      ]
     },
     "execution_count": 20,
     "metadata": {},
     "output_type": "execute_result"
    }
   ],
   "source": [
    "#이제 컬럼은 42개다\n",
    "len(AM_train.columns.tolist())"
   ]
  },
  {
   "cell_type": "code",
   "execution_count": 21,
   "metadata": {},
   "outputs": [
    {
     "data": {
      "text/plain": [
       "Index(['Auction_key', 'Auction_class', 'Bid_class', 'Claim_price',\n",
       "       'Appraisal_company', 'Appraisal_date', 'Auction_count',\n",
       "       'Auction_miscarriage_count', 'Total_land_gross_area',\n",
       "       'Total_land_real_area', 'Total_land_auction_area',\n",
       "       'Total_building_area', 'Total_building_auction_area',\n",
       "       'Total_appraisal_price', 'Minimum_sales_price', 'First_auction_date',\n",
       "       'Final_auction_date', 'Final_result', 'Creditor', 'addr_do', 'addr_si',\n",
       "       'addr_dong', 'addr_li', 'addr_san', 'addr_bunji1', 'addr_bunji2',\n",
       "       'addr_etc', 'Apartment_usage', 'Preserve_regist_date', 'Total_floor',\n",
       "       'Current_floor', 'Specific', 'Share_auction_YorN', 'road_name',\n",
       "       'road_bunji1', 'road_bunji2', 'Close_date', 'Close_result', 'point.y',\n",
       "       'point.x', 'Hammer_price', 'Diff_price'],\n",
       "      dtype='object')"
      ]
     },
     "execution_count": 21,
     "metadata": {},
     "output_type": "execute_result"
    }
   ],
   "source": [
    "#컬럼명 보기\n",
    "AM_train.columns"
   ]
  },
  {
   "cell_type": "code",
   "execution_count": 22,
   "metadata": {},
   "outputs": [],
   "source": [
    "#피쳐들을 한 변수에 넣는다\n",
    "selected_features = AM_train.columns.tolist()\n",
    "#피쳐들 넣은 변수에서 경매 아파트 고유 키값 없애기,\n",
    "selected_features.remove('Auction_key')"
   ]
  },
  {
   "cell_type": "code",
   "execution_count": 23,
   "metadata": {},
   "outputs": [
    {
     "data": {
      "text/plain": [
       "['Auction_class',\n",
       " 'Bid_class',\n",
       " 'Claim_price',\n",
       " 'Appraisal_company',\n",
       " 'Appraisal_date',\n",
       " 'Auction_count',\n",
       " 'Auction_miscarriage_count',\n",
       " 'Total_land_gross_area',\n",
       " 'Total_land_real_area',\n",
       " 'Total_land_auction_area',\n",
       " 'Total_building_area',\n",
       " 'Total_building_auction_area',\n",
       " 'Total_appraisal_price',\n",
       " 'Minimum_sales_price',\n",
       " 'First_auction_date',\n",
       " 'Final_auction_date',\n",
       " 'Final_result',\n",
       " 'Creditor',\n",
       " 'addr_do',\n",
       " 'addr_si',\n",
       " 'addr_dong',\n",
       " 'addr_li',\n",
       " 'addr_san',\n",
       " 'addr_bunji1',\n",
       " 'addr_bunji2',\n",
       " 'addr_etc',\n",
       " 'Apartment_usage',\n",
       " 'Preserve_regist_date',\n",
       " 'Total_floor',\n",
       " 'Current_floor',\n",
       " 'Specific',\n",
       " 'Share_auction_YorN',\n",
       " 'road_name',\n",
       " 'road_bunji1',\n",
       " 'road_bunji2',\n",
       " 'Close_date',\n",
       " 'Close_result',\n",
       " 'point.y',\n",
       " 'point.x',\n",
       " 'Hammer_price',\n",
       " 'Diff_price']"
      ]
     },
     "execution_count": 23,
     "metadata": {},
     "output_type": "execute_result"
    }
   ],
   "source": [
    "#피쳐들\n",
    "selected_features"
   ]
  },
  {
   "cell_type": "code",
   "execution_count": 24,
   "metadata": {},
   "outputs": [
    {
     "data": {
      "text/plain": [
       "<matplotlib.axes._subplots.AxesSubplot at 0x295aff39a90>"
      ]
     },
     "execution_count": 24,
     "metadata": {},
     "output_type": "execute_result"
    },
    {
     "data": {
      "image/png": "[encoded data removed]",
      "text/plain": [
       "<Figure size 432x288 with 1 Axes>"
      ]
     },
     "metadata": {
      "needs_background": "light"
     },
     "output_type": "display_data"
    }
   ],
   "source": [
    "#부산과 서울별로 위도 시각화\n",
    "#부산은 0, 서울은 1\n",
    "##hue별로 색깔이 달라짐\n",
    "sns.scatterplot(x=\"point.x\", y=\"point.y\", hue = \"addr_do\", data = AM_train)"
   ]
  },
  {
   "cell_type": "markdown",
   "metadata": {},
   "source": [
    "# 데이터 탐색"
   ]
  },
  {
   "cell_type": "code",
   "execution_count": 25,
   "metadata": {},
   "outputs": [
    {
     "name": "stdout",
     "output_type": "stream",
     "text": [
      "<class 'pandas.core.frame.DataFrame'>\n",
      "RangeIndex: 1933 entries, 0 to 1932\n",
      "Data columns (total 42 columns):\n",
      "Auction_key                    1933 non-null int64\n",
      "Auction_class                  1933 non-null int64\n",
      "Bid_class                      1933 non-null object\n",
      "Claim_price                    1933 non-null int64\n",
      "Appraisal_company              1933 non-null object\n",
      "Appraisal_date                 1933 non-null int64\n",
      "Auction_count                  1933 non-null int64\n",
      "Auction_miscarriage_count      1933 non-null int64\n",
      "Total_land_gross_area          1933 non-null float64\n",
      "Total_land_real_area           1933 non-null float64\n",
      "Total_land_auction_area        1933 non-null float64\n",
      "Total_building_area            1933 non-null float64\n",
      "Total_building_auction_area    1933 non-null float64\n",
      "Total_appraisal_price          1933 non-null int64\n",
      "Minimum_sales_price            1933 non-null int64\n",
      "First_auction_date             1933 non-null int64\n",
      "Final_auction_date             1933 non-null int64\n",
      "Final_result                   1933 non-null object\n",
      "Creditor                       1933 non-null object\n",
      "addr_do                        1933 non-null int64\n",
      "addr_si                        1933 non-null object\n",
      "addr_dong                      1933 non-null object\n",
      "addr_li                        23 non-null object\n",
      "addr_san                       1933 non-null object\n",
      "addr_bunji1                    1929 non-null float64\n",
      "addr_bunji2                    889 non-null float64\n",
      "addr_etc                       1933 non-null object\n",
      "Apartment_usage                1933 non-null int64\n",
      "Preserve_regist_date           1933 non-null int64\n",
      "Total_floor                    1933 non-null int64\n",
      "Current_floor                  1933 non-null int64\n",
      "Specific                       64 non-null object\n",
      "Share_auction_YorN             1933 non-null object\n",
      "road_name                      1933 non-null object\n",
      "road_bunji1                    1909 non-null float64\n",
      "road_bunji2                    155 non-null float64\n",
      "Close_date                     1933 non-null int64\n",
      "Close_result                   1933 non-null object\n",
      "point.y                        1933 non-null float64\n",
      "point.x                        1933 non-null float64\n",
      "Hammer_price                   1933 non-null int64\n",
      "Diff_price                     1933 non-null int64\n",
      "dtypes: float64(11), int64(18), object(13)\n",
      "memory usage: 634.3+ KB\n"
     ]
    }
   ],
   "source": [
    "#자료형 맨 오른쪽에 나오고\n",
    "#null값은 다행이 없다\n",
    "#데이터 갯수도 왼편에 나온다\n",
    "AM_train.info()"
   ]
  },
  {
   "cell_type": "code",
   "execution_count": 26,
   "metadata": {},
   "outputs": [
    {
     "data": {
      "text/html": [
       "<div>\n",
       "<style scoped>\n",
       "    .dataframe tbody tr th:only-of-type {\n",
       "        vertical-align: middle;\n",
       "    }\n",
       "\n",
       "    .dataframe tbody tr th {\n",
       "        vertical-align: top;\n",
       "    }\n",
       "\n",
       "    .dataframe thead th {\n",
       "        text-align: right;\n",
       "    }\n",
       "</style>\n",
       "<table border=\"1\" class=\"dataframe\">\n",
       "  <thead>\n",
       "    <tr style=\"text-align: right;\">\n",
       "      <th></th>\n",
       "      <th>Auction_key</th>\n",
       "      <th>Auction_class</th>\n",
       "      <th>Claim_price</th>\n",
       "      <th>Appraisal_date</th>\n",
       "      <th>Auction_count</th>\n",
       "      <th>Auction_miscarriage_count</th>\n",
       "      <th>Total_land_gross_area</th>\n",
       "      <th>Total_land_real_area</th>\n",
       "      <th>Total_land_auction_area</th>\n",
       "      <th>Total_building_area</th>\n",
       "      <th>...</th>\n",
       "      <th>Preserve_regist_date</th>\n",
       "      <th>Total_floor</th>\n",
       "      <th>Current_floor</th>\n",
       "      <th>road_bunji1</th>\n",
       "      <th>road_bunji2</th>\n",
       "      <th>Close_date</th>\n",
       "      <th>point.y</th>\n",
       "      <th>point.x</th>\n",
       "      <th>Hammer_price</th>\n",
       "      <th>Diff_price</th>\n",
       "    </tr>\n",
       "  </thead>\n",
       "  <tbody>\n",
       "    <tr>\n",
       "      <th>count</th>\n",
       "      <td>1933.000000</td>\n",
       "      <td>1933.000000</td>\n",
       "      <td>1.933000e+03</td>\n",
       "      <td>1933.000000</td>\n",
       "      <td>1933.000000</td>\n",
       "      <td>1933.000000</td>\n",
       "      <td>1.933000e+03</td>\n",
       "      <td>1933.000000</td>\n",
       "      <td>1933.000000</td>\n",
       "      <td>1933.000000</td>\n",
       "      <td>...</td>\n",
       "      <td>1933.000000</td>\n",
       "      <td>1933.000000</td>\n",
       "      <td>1933.000000</td>\n",
       "      <td>1909.000000</td>\n",
       "      <td>155.000000</td>\n",
       "      <td>1933.000000</td>\n",
       "      <td>1933.000000</td>\n",
       "      <td>1933.000000</td>\n",
       "      <td>1.933000e+03</td>\n",
       "      <td>1.933000e+03</td>\n",
       "    </tr>\n",
       "    <tr>\n",
       "      <th>mean</th>\n",
       "      <td>1380.271081</td>\n",
       "      <td>0.255561</td>\n",
       "      <td>3.703908e+08</td>\n",
       "      <td>979.528712</td>\n",
       "      <td>1.836006</td>\n",
       "      <td>0.788412</td>\n",
       "      <td>3.458714e+04</td>\n",
       "      <td>42.333802</td>\n",
       "      <td>41.310776</td>\n",
       "      <td>96.417693</td>\n",
       "      <td>...</td>\n",
       "      <td>14497.593895</td>\n",
       "      <td>16.980859</td>\n",
       "      <td>8.817900</td>\n",
       "      <td>127.441069</td>\n",
       "      <td>12.748387</td>\n",
       "      <td>2680.862390</td>\n",
       "      <td>36.698018</td>\n",
       "      <td>127.731667</td>\n",
       "      <td>4.726901e+08</td>\n",
       "      <td>8.176369e+07</td>\n",
       "    </tr>\n",
       "    <tr>\n",
       "      <th>std</th>\n",
       "      <td>801.670470</td>\n",
       "      <td>0.436289</td>\n",
       "      <td>1.337869e+09</td>\n",
       "      <td>306.357673</td>\n",
       "      <td>0.938319</td>\n",
       "      <td>0.831715</td>\n",
       "      <td>9.442101e+04</td>\n",
       "      <td>65.274404</td>\n",
       "      <td>65.385900</td>\n",
       "      <td>106.323240</td>\n",
       "      <td>...</td>\n",
       "      <td>47934.552645</td>\n",
       "      <td>9.509021</td>\n",
       "      <td>8.044644</td>\n",
       "      <td>188.394217</td>\n",
       "      <td>10.735663</td>\n",
       "      <td>25983.865371</td>\n",
       "      <td>1.150269</td>\n",
       "      <td>0.993055</td>\n",
       "      <td>5.574493e+08</td>\n",
       "      <td>3.350529e+08</td>\n",
       "    </tr>\n",
       "    <tr>\n",
       "      <th>min</th>\n",
       "      <td>1.000000</td>\n",
       "      <td>0.000000</td>\n",
       "      <td>0.000000e+00</td>\n",
       "      <td>405.000000</td>\n",
       "      <td>1.000000</td>\n",
       "      <td>0.000000</td>\n",
       "      <td>0.000000e+00</td>\n",
       "      <td>0.000000</td>\n",
       "      <td>0.000000</td>\n",
       "      <td>9.390000</td>\n",
       "      <td>...</td>\n",
       "      <td>584.000000</td>\n",
       "      <td>3.000000</td>\n",
       "      <td>0.000000</td>\n",
       "      <td>1.000000</td>\n",
       "      <td>1.000000</td>\n",
       "      <td>153.000000</td>\n",
       "      <td>35.051385</td>\n",
       "      <td>126.809393</td>\n",
       "      <td>6.303000e+06</td>\n",
       "      <td>0.000000e+00</td>\n",
       "    </tr>\n",
       "    <tr>\n",
       "      <th>25%</th>\n",
       "      <td>691.000000</td>\n",
       "      <td>0.000000</td>\n",
       "      <td>7.746112e+07</td>\n",
       "      <td>766.000000</td>\n",
       "      <td>1.000000</td>\n",
       "      <td>0.000000</td>\n",
       "      <td>2.997000e+03</td>\n",
       "      <td>25.870000</td>\n",
       "      <td>24.570000</td>\n",
       "      <td>61.520000</td>\n",
       "      <td>...</td>\n",
       "      <td>4860.000000</td>\n",
       "      <td>12.000000</td>\n",
       "      <td>3.000000</td>\n",
       "      <td>24.000000</td>\n",
       "      <td>5.000000</td>\n",
       "      <td>443.000000</td>\n",
       "      <td>35.188590</td>\n",
       "      <td>126.959167</td>\n",
       "      <td>1.975550e+08</td>\n",
       "      <td>0.000000e+00</td>\n",
       "    </tr>\n",
       "    <tr>\n",
       "      <th>50%</th>\n",
       "      <td>1395.000000</td>\n",
       "      <td>0.000000</td>\n",
       "      <td>1.728143e+08</td>\n",
       "      <td>954.000000</td>\n",
       "      <td>2.000000</td>\n",
       "      <td>1.000000</td>\n",
       "      <td>1.424140e+04</td>\n",
       "      <td>37.510000</td>\n",
       "      <td>36.790000</td>\n",
       "      <td>84.900000</td>\n",
       "      <td>...</td>\n",
       "      <td>6958.000000</td>\n",
       "      <td>15.000000</td>\n",
       "      <td>7.000000</td>\n",
       "      <td>57.000000</td>\n",
       "      <td>9.000000</td>\n",
       "      <td>659.000000</td>\n",
       "      <td>37.500862</td>\n",
       "      <td>127.065003</td>\n",
       "      <td>3.544500e+08</td>\n",
       "      <td>4.080000e+07</td>\n",
       "    </tr>\n",
       "    <tr>\n",
       "      <th>75%</th>\n",
       "      <td>2062.000000</td>\n",
       "      <td>1.000000</td>\n",
       "      <td>3.565089e+08</td>\n",
       "      <td>1137.000000</td>\n",
       "      <td>2.000000</td>\n",
       "      <td>1.000000</td>\n",
       "      <td>4.140310e+04</td>\n",
       "      <td>51.790000</td>\n",
       "      <td>51.320000</td>\n",
       "      <td>114.940000</td>\n",
       "      <td>...</td>\n",
       "      <td>9637.000000</td>\n",
       "      <td>21.000000</td>\n",
       "      <td>12.000000</td>\n",
       "      <td>145.000000</td>\n",
       "      <td>17.500000</td>\n",
       "      <td>819.000000</td>\n",
       "      <td>37.566116</td>\n",
       "      <td>129.018054</td>\n",
       "      <td>5.599000e+08</td>\n",
       "      <td>9.600000e+07</td>\n",
       "    </tr>\n",
       "    <tr>\n",
       "      <th>max</th>\n",
       "      <td>2762.000000</td>\n",
       "      <td>1.000000</td>\n",
       "      <td>2.286481e+10</td>\n",
       "      <td>3126.000000</td>\n",
       "      <td>13.000000</td>\n",
       "      <td>9.000000</td>\n",
       "      <td>3.511936e+06</td>\n",
       "      <td>2665.840000</td>\n",
       "      <td>2665.840000</td>\n",
       "      <td>4255.070000</td>\n",
       "      <td>...</td>\n",
       "      <td>331343.000000</td>\n",
       "      <td>80.000000</td>\n",
       "      <td>65.000000</td>\n",
       "      <td>1716.000000</td>\n",
       "      <td>55.000000</td>\n",
       "      <td>331343.000000</td>\n",
       "      <td>37.685575</td>\n",
       "      <td>129.255872</td>\n",
       "      <td>1.515100e+10</td>\n",
       "      <td>1.355420e+10</td>\n",
       "    </tr>\n",
       "  </tbody>\n",
       "</table>\n",
       "<p>8 rows × 29 columns</p>\n",
       "</div>"
      ],
      "text/plain": [
       "       Auction_key  Auction_class   Claim_price  Appraisal_date  \\\n",
       "count  1933.000000    1933.000000  1.933000e+03     1933.000000   \n",
       "mean   1380.271081       0.255561  3.703908e+08      979.528712   \n",
       "std     801.670470       0.436289  1.337869e+09      306.357673   \n",
       "min       1.000000       0.000000  0.000000e+00      405.000000   \n",
       "25%     691.000000       0.000000  7.746112e+07      766.000000   \n",
       "50%    1395.000000       0.000000  1.728143e+08      954.000000   \n",
       "75%    2062.000000       1.000000  3.565089e+08     1137.000000   \n",
       "max    2762.000000       1.000000  2.286481e+10     3126.000000   \n",
       "\n",
       "       Auction_count  Auction_miscarriage_count  Total_land_gross_area  \\\n",
       "count    1933.000000                1933.000000           1.933000e+03   \n",
       "mean        1.836006                   0.788412           3.458714e+04   \n",
       "std         0.938319                   0.831715           9.442101e+04   \n",
       "min         1.000000                   0.000000           0.000000e+00   \n",
       "25%         1.000000                   0.000000           2.997000e+03   \n",
       "50%         2.000000                   1.000000           1.424140e+04   \n",
       "75%         2.000000                   1.000000           4.140310e+04   \n",
       "max        13.000000                   9.000000           3.511936e+06   \n",
       "\n",
       "       Total_land_real_area  Total_land_auction_area  Total_building_area  \\\n",
       "count           1933.000000              1933.000000          1933.000000   \n",
       "mean              42.333802                41.310776            96.417693   \n",
       "std               65.274404                65.385900           106.323240   \n",
       "min                0.000000                 0.000000             9.390000   \n",
       "25%               25.870000                24.570000            61.520000   \n",
       "50%               37.510000                36.790000            84.900000   \n",
       "75%               51.790000                51.320000           114.940000   \n",
       "max             2665.840000              2665.840000          4255.070000   \n",
       "\n",
       "           ...       Preserve_regist_date  Total_floor  Current_floor  \\\n",
       "count      ...                1933.000000  1933.000000    1933.000000   \n",
       "mean       ...               14497.593895    16.980859       8.817900   \n",
       "std        ...               47934.552645     9.509021       8.044644   \n",
       "min        ...                 584.000000     3.000000       0.000000   \n",
       "25%        ...                4860.000000    12.000000       3.000000   \n",
       "50%        ...                6958.000000    15.000000       7.000000   \n",
       "75%        ...                9637.000000    21.000000      12.000000   \n",
       "max        ...              331343.000000    80.000000      65.000000   \n",
       "\n",
       "       road_bunji1  road_bunji2     Close_date      point.y      point.x  \\\n",
       "count  1909.000000   155.000000    1933.000000  1933.000000  1933.000000   \n",
       "mean    127.441069    12.748387    2680.862390    36.698018   127.731667   \n",
       "std     188.394217    10.735663   25983.865371     1.150269     0.993055   \n",
       "min       1.000000     1.000000     153.000000    35.051385   126.809393   \n",
       "25%      24.000000     5.000000     443.000000    35.188590   126.959167   \n",
       "50%      57.000000     9.000000     659.000000    37.500862   127.065003   \n",
       "75%     145.000000    17.500000     819.000000    37.566116   129.018054   \n",
       "max    1716.000000    55.000000  331343.000000    37.685575   129.255872   \n",
       "\n",
       "       Hammer_price    Diff_price  \n",
       "count  1.933000e+03  1.933000e+03  \n",
       "mean   4.726901e+08  8.176369e+07  \n",
       "std    5.574493e+08  3.350529e+08  \n",
       "min    6.303000e+06  0.000000e+00  \n",
       "25%    1.975550e+08  0.000000e+00  \n",
       "50%    3.544500e+08  4.080000e+07  \n",
       "75%    5.599000e+08  9.600000e+07  \n",
       "max    1.515100e+10  1.355420e+10  \n",
       "\n",
       "[8 rows x 29 columns]"
      ]
     },
     "execution_count": 26,
     "metadata": {},
     "output_type": "execute_result"
    }
   ],
   "source": [
    "AM_train.describe()"
   ]
  },
  {
   "cell_type": "code",
   "execution_count": 27,
   "metadata": {},
   "outputs": [
    {
     "data": {
      "text/plain": [
       "Hammer_price                   1.000000\n",
       "Minimum_sales_price            0.994592\n",
       "Total_appraisal_price          0.953464\n",
       "Total_building_auction_area    0.772839\n",
       "Total_building_area            0.768454\n",
       "Diff_price                     0.747443\n",
       "Total_land_auction_area        0.700639\n",
       "Total_land_real_area           0.696099\n",
       "addr_do                        0.306488\n",
       "point.y                        0.295698\n",
       "Claim_price                    0.267728\n",
       "Total_floor                    0.220830\n",
       "road_bunji2                    0.206681\n",
       "Current_floor                  0.198013\n",
       "Preserve_regist_date           0.074827\n",
       "Total_land_gross_area          0.070466\n",
       "road_bunji1                    0.020404\n",
       "Appraisal_date                 0.020075\n",
       "First_auction_date             0.012063\n",
       "Apartment_usage                0.004344\n",
       "Final_auction_date             0.004150\n",
       "Close_date                    -0.000111\n",
       "addr_bunji1                   -0.003139\n",
       "addr_bunji2                   -0.003641\n",
       "Auction_miscarriage_count     -0.011296\n",
       "Auction_count                 -0.016999\n",
       "Auction_class                 -0.054813\n",
       "point.x                       -0.296312\n",
       "Auction_key                   -0.418769\n",
       "Name: Hammer_price, dtype: float64"
      ]
     },
     "execution_count": 27,
     "metadata": {},
     "output_type": "execute_result"
    }
   ],
   "source": [
    "#연속형 변수 label과 상관계수 본다음 정렬하기(ascending=False는 내림차순)\n",
    "corr_matrix = AM_train.corr()\n",
    "corr_matrix[\"Hammer_price\"].sort_values(ascending=False)"
   ]
  },
  {
   "cell_type": "code",
   "execution_count": 28,
   "metadata": {
    "scrolled": true
   },
   "outputs": [
    {
     "data": {
      "text/plain": [
       "Hammer_price                   1.000000\n",
       "Minimum_sales_price            0.994592\n",
       "Total_appraisal_price          0.953464\n",
       "Total_building_auction_area    0.772839\n",
       "Total_building_area            0.768454\n",
       "Diff_price                     0.747443\n",
       "Total_land_auction_area        0.700639\n",
       "Total_land_real_area           0.696099\n",
       "Auction_key                    0.418769\n",
       "addr_do                        0.306488\n",
       "point.x                        0.296312\n",
       "point.y                        0.295698\n",
       "Claim_price                    0.267728\n",
       "Total_floor                    0.220830\n",
       "road_bunji2                    0.206681\n",
       "Current_floor                  0.198013\n",
       "Preserve_regist_date           0.074827\n",
       "Total_land_gross_area          0.070466\n",
       "Auction_class                  0.054813\n",
       "road_bunji1                    0.020404\n",
       "Appraisal_date                 0.020075\n",
       "Auction_count                  0.016999\n",
       "First_auction_date             0.012063\n",
       "Auction_miscarriage_count      0.011296\n",
       "Apartment_usage                0.004344\n",
       "Final_auction_date             0.004150\n",
       "addr_bunji2                    0.003641\n",
       "addr_bunji1                    0.003139\n",
       "Close_date                     0.000111\n",
       "Name: Hammer_price, dtype: float64"
      ]
     },
     "execution_count": 28,
     "metadata": {},
     "output_type": "execute_result"
    }
   ],
   "source": [
    "#생각해보면 상관계수는 절대값이 더 중요하다\n",
    "#절대값 넣는 함수 abs\n",
    "abs(corr_matrix[\"Hammer_price\"]).sort_values(ascending=False)"
   ]
  },
  {
   "cell_type": "code",
   "execution_count": 29,
   "metadata": {},
   "outputs": [],
   "source": [
    "# 상관계수 낮은 15개 버리기 피쳐\n",
    "cor_a = abs(corr_matrix[\"Hammer_price\"]).sort_values(ascending=False)\n",
    "low_cor_index = cor_a.tail(15).index"
   ]
  },
  {
   "cell_type": "code",
   "execution_count": 30,
   "metadata": {},
   "outputs": [],
   "source": [
    "new_AM_train = AM_train.drop(list(low_cor_index),axis=1)"
   ]
  },
  {
   "cell_type": "code",
   "execution_count": 31,
   "metadata": {},
   "outputs": [
    {
     "data": {
      "text/plain": [
       "(1933, 27)"
      ]
     },
     "execution_count": 31,
     "metadata": {},
     "output_type": "execute_result"
    }
   ],
   "source": [
    "#27개로 줄은 피쳐\n",
    "new_AM_train.shape"
   ]
  },
  {
   "cell_type": "code",
   "execution_count": 32,
   "metadata": {},
   "outputs": [
    {
     "data": {
      "text/plain": [
       "Index(['Auction_key', 'Bid_class', 'Claim_price', 'Appraisal_company',\n",
       "       'Total_land_real_area', 'Total_land_auction_area',\n",
       "       'Total_building_area', 'Total_building_auction_area',\n",
       "       'Total_appraisal_price', 'Minimum_sales_price', 'Final_result',\n",
       "       'Creditor', 'addr_do', 'addr_si', 'addr_dong', 'addr_li', 'addr_san',\n",
       "       'addr_etc', 'Total_floor', 'Specific', 'Share_auction_YorN',\n",
       "       'road_name', 'Close_result', 'point.y', 'point.x', 'Hammer_price',\n",
       "       'Diff_price'],\n",
       "      dtype='object')"
      ]
     },
     "execution_count": 32,
     "metadata": {},
     "output_type": "execute_result"
    }
   ],
   "source": [
    "new_AM_train.columns"
   ]
  },
  {
   "cell_type": "code",
   "execution_count": 70,
   "metadata": {},
   "outputs": [
    {
     "data": {
      "text/plain": [
       "count    1.933000e+03\n",
       "mean     4.726901e+08\n",
       "std      5.574493e+08\n",
       "min      6.303000e+06\n",
       "25%      1.975550e+08\n",
       "50%      3.544500e+08\n",
       "75%      5.599000e+08\n",
       "max      1.515100e+10\n",
       "Name: Hammer_price, dtype: float64"
      ]
     },
     "execution_count": 70,
     "metadata": {},
     "output_type": "execute_result"
    }
   ],
   "source": [
    "#레이블 summary\n",
    "AM_train.Hammer_price.describe()"
   ]
  },
  {
   "cell_type": "code",
   "execution_count": 33,
   "metadata": {},
   "outputs": [
    {
     "data": {
      "text/plain": [
       "<matplotlib.axes._subplots.AxesSubplot at 0x295b214ca90>"
      ]
     },
     "execution_count": 33,
     "metadata": {},
     "output_type": "execute_result"
    },
    {
     "data": {
      "image/png": "[encoded data removed]",
      "text/plain": [
       "<Figure size 576x576 with 3 Axes>"
      ]
     },
     "metadata": {
      "needs_background": "light"
     },
     "output_type": "display_data"
    }
   ],
   "source": [
    "#Share_auction_YorN,addr_do시각화\n",
    "fig, axs = plt.subplots(ncols=3, figsize=(8, 8))\n",
    "sns.boxplot(x='Share_auction_YorN', y='Hammer_price',data=AM_train, ax=axs[1])\n",
    "sns.boxplot(y = 'Hammer_price', x = 'addr_do', data = AM_train, ax=axs[0])\n",
    "sns.boxplot(x='Apartment_usage', y='Hammer_price',data=AM_train, ax=axs[2])\n"
   ]
  },
  {
   "cell_type": "code",
   "execution_count": 34,
   "metadata": {},
   "outputs": [
    {
     "data": {
      "text/plain": [
       "array(['베리타스자산관리대부', '흥국저축은행', '국민은행', '고려저축은행', 'Private', '서울보증보험',\n",
       "       '천마(새)', '대형선망수협', '디에이치대부', '코카콜라음료'], dtype=object)"
      ]
     },
     "execution_count": 34,
     "metadata": {},
     "output_type": "execute_result"
    }
   ],
   "source": [
    "#Creditor를 시각화 해보겠음\n",
    "AM_train.Creditor.unique()[:10]"
   ]
  },
  {
   "cell_type": "code",
   "execution_count": 35,
   "metadata": {},
   "outputs": [
    {
     "data": {
      "text/plain": [
       "array(['Company', 'Private'], dtype=object)"
      ]
     },
     "execution_count": 35,
     "metadata": {},
     "output_type": "execute_result"
    }
   ],
   "source": [
    "AM_train.Creditor = AM_train.Creditor.apply(lambda x : x if x == 'Private' else 'Company')\n",
    "AM_train.Creditor.unique()\n"
   ]
  },
  {
   "cell_type": "code",
   "execution_count": 41,
   "metadata": {},
   "outputs": [
    {
     "data": {
      "text/plain": [
       "Creditor  addr_do\n",
       "Company   0          2.485329e+08\n",
       "          1          6.120714e+08\n",
       "Private   0          2.285114e+08\n",
       "          1          5.649978e+08\n",
       "Name: Hammer_price, dtype: float64"
      ]
     },
     "execution_count": 41,
     "metadata": {},
     "output_type": "execute_result"
    }
   ],
   "source": [
    "#AM_train를 creditor와 addr_do로 평균내보기\n",
    "AM_train.groupby(['Creditor', 'addr_do'])['Hammer_price'].mean()"
   ]
  },
  {
   "cell_type": "code",
   "execution_count": 49,
   "metadata": {
    "scrolled": true
   },
   "outputs": [
    {
     "data": {
      "text/plain": [
       "<matplotlib.axes._subplots.AxesSubplot at 0x295b3375fd0>"
      ]
     },
     "execution_count": 49,
     "metadata": {},
     "output_type": "execute_result"
    },
    {
     "data": {
      "image/png": "[encoded data removed]",
      "text/plain": [
       "<Figure size 1152x576 with 5 Axes>"
      ]
     },
     "metadata": {
      "needs_background": "light"
     },
     "output_type": "display_data"
    }
   ],
   "source": [
    "#시각화, 이상치때문에 이쁘게 안됨, ylim을 조절하거나 이상치를 빼는 것도 방법이다\n",
    "# 서울만 scatterplot 시각화\n",
    "fig, axs = plt.subplots(ncols=5, figsize=(16, 8))\n",
    "sns.scatterplot(x='Total_land_gross_area',y = 'Hammer_price' ,data=AM_train[AM_train.addr_do == 1], linewidth=2.5, ax=axs[0])\n",
    "sns.scatterplot(x='Total_land_real_area',y = 'Hammer_price',data=AM_train[AM_train.addr_do == 1], linewidth=2.5, ax=axs[1])\n",
    "sns.scatterplot(x='Total_land_auction_area',y = 'Hammer_price',data=AM_train[AM_train.addr_do == 1], linewidth=2.5, ax=axs[2])\n",
    "sns.scatterplot(x='Total_building_area',y = 'Hammer_price',data=AM_train[AM_train.addr_do == 1], linewidth=2.5, ax=axs[3])\n",
    "sns.scatterplot(x='Total_building_auction_area',y = 'Hammer_price',data=AM_train[AM_train.addr_do == 1], linewidth=2.5, ax=axs[4])"
   ]
  },
  {
   "cell_type": "code",
   "execution_count": 51,
   "metadata": {},
   "outputs": [
    {
     "data": {
      "text/plain": [
       "<matplotlib.axes._subplots.AxesSubplot at 0x295b37b3898>"
      ]
     },
     "execution_count": 51,
     "metadata": {},
     "output_type": "execute_result"
    },
    {
     "data": {
      "image/png": "[encoded data removed]",
      "text/plain": [
       "<Figure size 1152x576 with 5 Axes>"
      ]
     },
     "metadata": {
      "needs_background": "light"
     },
     "output_type": "display_data"
    }
   ],
   "source": [
    "#부산 scatterplot 시각화\n",
    "fig, axs = plt.subplots(ncols=5, figsize=(16, 8))\n",
    "sns.scatterplot(x='Total_land_gross_area',y = 'Hammer_price' ,data=AM_train[AM_train.addr_do == 0], linewidth=2.5, ax=axs[0])\n",
    "sns.scatterplot(x='Total_land_real_area',y = 'Hammer_price',data=AM_train[AM_train.addr_do == 0], linewidth=2.5, ax=axs[1])\n",
    "sns.scatterplot(x='Total_land_auction_area',y = 'Hammer_price',data=AM_train[AM_train.addr_do == 0], linewidth=2.5, ax=axs[2])\n",
    "sns.scatterplot(x='Total_building_area',y = 'Hammer_price',data=AM_train[AM_train.addr_do == 0], linewidth=2.5, ax=axs[3])\n",
    "sns.scatterplot(x='Total_building_auction_area',y = 'Hammer_price',data=AM_train[AM_train.addr_do == 0], linewidth=2.5, ax=axs[4])"
   ]
  },
  {
   "cell_type": "code",
   "execution_count": 54,
   "metadata": {},
   "outputs": [
    {
     "data": {
      "text/plain": [
       "<matplotlib.axes._subplots.AxesSubplot at 0x295b25c9b00>"
      ]
     },
     "execution_count": 54,
     "metadata": {},
     "output_type": "execute_result"
    },
    {
     "data": {
      "image/png": "[encoded data removed]",
      "text/plain": [
       "<Figure size 720x648 with 4 Axes>"
      ]
     },
     "metadata": {
      "needs_background": "light"
     },
     "output_type": "display_data"
    }
   ],
   "source": [
    "#corr 히트맵이다\n",
    "#서로 너무 corr이 높은 것은 처리가 필요해보인다\n",
    "area_list = ['Total_land_gross_area', 'Total_land_real_area', 'Total_land_auction_area', 'Total_building_area', 'Total_building_auction_area', 'Hammer_price']\n",
    "AM_train[area_list][AM_train.addr_do == 0].corr()\n",
    "f, ax = plt.subplots(ncols=2, figsize=(10, 9))\n",
    "sns.heatmap(AM_train[area_list][AM_train.addr_do == 0].corr(), mask=np.zeros_like(AM_train[area_list][AM_train.addr_do == 0].corr(), dtype=np.bool), cmap=sns.diverging_palette(220, 10, as_cmap=True),\n",
    "            square=True, ax=ax[0], annot=True)\n",
    "sns.heatmap(AM_train[area_list][AM_train.addr_do == 1].corr(), mask=np.zeros_like(AM_train[area_list][AM_train.addr_do == 1].corr(), dtype=np.bool), cmap=sns.diverging_palette(220, 10, as_cmap=True),\n",
    "            square=True, ax=ax[1], annot=True)"
   ]
  },
  {
   "cell_type": "code",
   "execution_count": 55,
   "metadata": {},
   "outputs": [],
   "source": [
    "#토지에 비해 건물의 면적이 많으면 어떤 영향을 줄까?\n",
    "\n",
    "#총건물경매면적/총토지경매면적\n",
    "AM_train['BA_TA'] = AM_train['Total_building_auction_area'] / AM_train['Total_land_auction_area']\n",
    "#총건물면적/총토지실면적\n",
    "AM_train['BTA_TR'] = AM_train['Total_building_area'] / AM_train['Total_land_real_area']"
   ]
  },
  {
   "cell_type": "code",
   "execution_count": 56,
   "metadata": {},
   "outputs": [
    {
     "data": {
      "text/plain": [
       "<matplotlib.axes._subplots.AxesSubplot at 0x295b23a5e80>"
      ]
     },
     "execution_count": 56,
     "metadata": {},
     "output_type": "execute_result"
    },
    {
     "data": {
      "image/png": "[encoded data removed]",
      "text/plain": [
       "<Figure size 576x216 with 2 Axes>"
      ]
     },
     "metadata": {
      "needs_background": "light"
     },
     "output_type": "display_data"
    }
   ],
   "source": [
    "#만들어본 파생변수 시각화\n",
    "#plot은 나름대로 알아서 해석\n",
    "fig, axs = plt.subplots(ncols=2, figsize=(8, 3))\n",
    "sns.scatterplot(x='BA_TA',y = 'Hammer_price' ,data=AM_train[AM_train.addr_do == 0], linewidth=2.5, ax=axs[0])\n",
    "sns.scatterplot(x='BTA_TR',y = 'Hammer_price',data=AM_train[AM_train.addr_do == 0], linewidth=2.5, ax=axs[1])"
   ]
  },
  {
   "cell_type": "code",
   "execution_count": 57,
   "metadata": {},
   "outputs": [
    {
     "data": {
      "text/plain": [
       "<matplotlib.axes._subplots.AxesSubplot at 0x295b271a080>"
      ]
     },
     "execution_count": 57,
     "metadata": {},
     "output_type": "execute_result"
    },
    {
     "data": {
      "image/png": "[encoded data removed]",
      "text/plain": [
       "<Figure size 1152x576 with 4 Axes>"
      ]
     },
     "metadata": {
      "needs_background": "light"
     },
     "output_type": "display_data"
    }
   ],
   "source": [
    "#파생변수 만들어서\n",
    "AM_train['buildingOFland_gross'] = AM_train.Total_building_area / AM_train.Total_land_gross_area\n",
    "AM_train['building_auctionOFland_gross'] = AM_train.Total_building_auction_area / AM_train.Total_land_gross_area\n",
    "AM_train['buildingOFreal_land'] = AM_train[\"Total_building_area\"] / AM_train[\"Total_land_real_area\"]\n",
    "AM_train['auction_buildingOFauction_land'] = AM_train[\"Total_building_auction_area\"] / AM_train[\"Total_land_auction_area\"]\n",
    "#지역별로 시각화 요긴 서울\n",
    "\n",
    "\n",
    "\n",
    "fig, axs = plt.subplots(ncols=4, figsize=(16, 8))\n",
    "sns.scatterplot(x='buildingOFland_gross',y = 'Hammer_price' ,data=AM_train[AM_train.addr_do == 1], linewidth=2.5, ax=axs[0])\n",
    "sns.scatterplot(x='building_auctionOFland_gross',y = 'Hammer_price',data=AM_train[AM_train.addr_do == 1], linewidth=2.5, ax=axs[1])\n",
    "sns.scatterplot(x='buildingOFreal_land',y = 'Hammer_price',data=AM_train[AM_train.addr_do == 1], linewidth=2.5, ax=axs[2])\n",
    "sns.scatterplot(x='auction_buildingOFauction_land',y = 'Hammer_price',data=AM_train[AM_train.addr_do == 1], linewidth=2.5, ax=axs[3])\n"
   ]
  },
  {
   "cell_type": "code",
   "execution_count": 58,
   "metadata": {},
   "outputs": [
    {
     "data": {
      "text/plain": [
       "<matplotlib.axes._subplots.AxesSubplot at 0x295b3162ef0>"
      ]
     },
     "execution_count": 58,
     "metadata": {},
     "output_type": "execute_result"
    },
    {
     "data": {
      "image/png": "[encoded data removed]",
      "text/plain": [
       "<Figure size 1152x576 with 4 Axes>"
      ]
     },
     "metadata": {
      "needs_background": "light"
     },
     "output_type": "display_data"
    }
   ],
   "source": [
    "##여긴 부산\n",
    "\n",
    "fig, axs = plt.subplots(ncols=4, figsize=(16, 8))\n",
    "sns.scatterplot(x='buildingOFland_gross',y = 'Hammer_price' ,data=AM_train[AM_train.addr_do == 0], linewidth=2.5, ax=axs[0])\n",
    "sns.scatterplot(x='building_auctionOFland_gross',y = 'Hammer_price',data=AM_train[AM_train.addr_do == 0], linewidth=2.5, ax=axs[1])\n",
    "sns.scatterplot(x='buildingOFreal_land',y = 'Hammer_price',data=AM_train[AM_train.addr_do == 0], linewidth=2.5, ax=axs[2])\n",
    "sns.scatterplot(x='auction_buildingOFauction_land',y = 'Hammer_price',data=AM_train[AM_train.addr_do == 0], linewidth=2.5, ax=axs[3])"
   ]
  },
  {
   "cell_type": "code",
   "execution_count": 62,
   "metadata": {},
   "outputs": [],
   "source": [
    "#경매횟수, 유찰횟수 등 파생변수 만들어보기\n",
    "AM_train['Auction_carriage_count'] = AM_train[\"Auction_count\"] - AM_train[\"Auction_miscarriage_count\"]\n",
    "AM_train['Per_miscarriage_count'] = AM_train[\"Auction_miscarriage_count\"] / AM_train[\"Auction_count\"]\n",
    "AM_train['Per_carriage_count'] = AM_train[\"Auction_carriage_count\"] / AM_train[\"Auction_count\"]\n",
    "\n"
   ]
  },
  {
   "cell_type": "code",
   "execution_count": 63,
   "metadata": {},
   "outputs": [
    {
     "data": {
      "text/html": [
       "<div>\n",
       "<style scoped>\n",
       "    .dataframe tbody tr th:only-of-type {\n",
       "        vertical-align: middle;\n",
       "    }\n",
       "\n",
       "    .dataframe tbody tr th {\n",
       "        vertical-align: top;\n",
       "    }\n",
       "\n",
       "    .dataframe thead th {\n",
       "        text-align: right;\n",
       "    }\n",
       "</style>\n",
       "<table border=\"1\" class=\"dataframe\">\n",
       "  <thead>\n",
       "    <tr style=\"text-align: right;\">\n",
       "      <th></th>\n",
       "      <th>Auction_count</th>\n",
       "      <th>Auction_miscarriage_count</th>\n",
       "      <th>Auction_carriage_count</th>\n",
       "      <th>Per_miscarriage_count</th>\n",
       "      <th>Per_carriage_count</th>\n",
       "    </tr>\n",
       "  </thead>\n",
       "  <tbody>\n",
       "    <tr>\n",
       "      <th>0</th>\n",
       "      <td>2</td>\n",
       "      <td>1</td>\n",
       "      <td>1</td>\n",
       "      <td>0.500000</td>\n",
       "      <td>0.500000</td>\n",
       "    </tr>\n",
       "    <tr>\n",
       "      <th>1</th>\n",
       "      <td>2</td>\n",
       "      <td>1</td>\n",
       "      <td>1</td>\n",
       "      <td>0.500000</td>\n",
       "      <td>0.500000</td>\n",
       "    </tr>\n",
       "    <tr>\n",
       "      <th>2</th>\n",
       "      <td>3</td>\n",
       "      <td>2</td>\n",
       "      <td>1</td>\n",
       "      <td>0.666667</td>\n",
       "      <td>0.333333</td>\n",
       "    </tr>\n",
       "    <tr>\n",
       "      <th>3</th>\n",
       "      <td>2</td>\n",
       "      <td>1</td>\n",
       "      <td>1</td>\n",
       "      <td>0.500000</td>\n",
       "      <td>0.500000</td>\n",
       "    </tr>\n",
       "    <tr>\n",
       "      <th>4</th>\n",
       "      <td>2</td>\n",
       "      <td>1</td>\n",
       "      <td>1</td>\n",
       "      <td>0.500000</td>\n",
       "      <td>0.500000</td>\n",
       "    </tr>\n",
       "  </tbody>\n",
       "</table>\n",
       "</div>"
      ],
      "text/plain": [
       "   Auction_count  Auction_miscarriage_count  Auction_carriage_count  \\\n",
       "0              2                          1                       1   \n",
       "1              2                          1                       1   \n",
       "2              3                          2                       1   \n",
       "3              2                          1                       1   \n",
       "4              2                          1                       1   \n",
       "\n",
       "   Per_miscarriage_count  Per_carriage_count  \n",
       "0               0.500000            0.500000  \n",
       "1               0.500000            0.500000  \n",
       "2               0.666667            0.333333  \n",
       "3               0.500000            0.500000  \n",
       "4               0.500000            0.500000  "
      ]
     },
     "execution_count": 63,
     "metadata": {},
     "output_type": "execute_result"
    }
   ],
   "source": [
    "count_list = [\"Auction_count\", \"Auction_miscarriage_count\", \"Auction_carriage_count\",\n",
    "             \"Per_miscarriage_count\", \"Per_carriage_count\"]\n",
    "AM_train[count_list].head()\n"
   ]
  },
  {
   "cell_type": "code",
   "execution_count": 64,
   "metadata": {},
   "outputs": [
    {
     "data": {
      "image/png": "[encoded data removed]",
      "text/plain": [
       "<Figure size 1152x576 with 5 Axes>"
      ]
     },
     "metadata": {
      "needs_background": "light"
     },
     "output_type": "display_data"
    }
   ],
   "source": [
    "#파생변수 만든 것들이 어떤 범위내에서 분포하는지 보기\n",
    "fig, axs = plt.subplots(ncols=5, figsize=(16, 8))\n",
    "for i,j in enumerate(count_list):\n",
    "    sns.boxplot(y=j,data=AM_train, linewidth=2.5, ax=axs[i])"
   ]
  },
  {
   "cell_type": "code",
   "execution_count": 65,
   "metadata": {},
   "outputs": [
    {
     "data": {
      "image/png": "[encoded data removed]",
      "text/plain": [
       "<Figure size 1152x576 with 5 Axes>"
      ]
     },
     "metadata": {
      "needs_background": "light"
     },
     "output_type": "display_data"
    }
   ],
   "source": [
    "#레이블과는 어떤 분포로 이루어져있는지 확인\n",
    "fig, axs = plt.subplots(ncols=5, figsize=(16, 8))\n",
    "for i,j in enumerate(count_list):\n",
    "    sns.scatterplot(x=j,y = 'Hammer_price' ,data=AM_train[AM_train.addr_do == 1], linewidth=2.5, ax=axs[i])"
   ]
  },
  {
   "cell_type": "markdown",
   "metadata": {},
   "source": [
    "## 회귀분석"
   ]
  },
  {
   "cell_type": "code",
   "execution_count": 96,
   "metadata": {},
   "outputs": [],
   "source": [
    "#상관계수로 자른 변수로 회귀분석을 해보겠음\n",
    "#처리힘든 변수는 삭제\n",
    "new_AM_train\n",
    "del new_AM_train['addr_etc']\n",
    "del new_AM_train['road_name']\n",
    "del new_AM_train['Specific']\n",
    "del new_AM_train['Appraisal_company']"
   ]
  },
  {
   "cell_type": "code",
   "execution_count": 68,
   "metadata": {},
   "outputs": [],
   "source": [
    "#Auction_key는 변수가 아니므로 삭제\n",
    "del new_AM_train['Auction_key']"
   ]
  },
  {
   "cell_type": "code",
   "execution_count": null,
   "metadata": {},
   "outputs": [],
   "source": [
    "from sklearn.linear_model import LinearRegression\n",
    "model = LinearRegression().fit(new_AM_train.Hammer_price, new_AM_train.drop('Hammer_price',axis=1))\n",
    "predictions = model_diabetes.predict(diabetes.data)\n",
    "plt.scatter(diabetes.target, predictions)"
   ]
  },
  {
   "cell_type": "code",
   "execution_count": 97,
   "metadata": {},
   "outputs": [],
   "source": [
    "#더미화 한 후 모델 만들고 crossvalidation으로 검증\n",
    "x = new_AM_train.drop('Hammer_price',axis=1)\n",
    "x = pd.get_dummies(x)\n",
    "y = new_AM_train.Hammer_price\n",
    "model = LinearRegression()\n",
    "#cv는 10-fold라는 뜻, scoring은 어떤 지표를 쓸거냐\n",
    "scores = CV.cross_val_score(model,x, y, cv=10, scoring='neg_mean_squared_error')\n"
   ]
  },
  {
   "cell_type": "code",
   "execution_count": 98,
   "metadata": {},
   "outputs": [
    {
     "data": {
      "text/plain": [
       "array([-2.12043842e+17, -3.29157682e+19, -1.23605647e+17, -2.14289869e+15,\n",
       "       -3.29990363e+15, -9.99758870e+17, -7.22600590e+17, -5.20458553e+16,\n",
       "       -7.61914000e+19, -2.56568534e+20])"
      ]
     },
     "execution_count": 98,
     "metadata": {},
     "output_type": "execute_result"
    }
   ],
   "source": [
    "scores"
   ]
  },
  {
   "cell_type": "code",
   "execution_count": 100,
   "metadata": {},
   "outputs": [
    {
     "data": {
      "text/plain": [
       "-3.6779119943082856e+19"
      ]
     },
     "execution_count": 100,
     "metadata": {},
     "output_type": "execute_result"
    }
   ],
   "source": [
    "#최종 정확도(rmse)\n",
    "scores.mean()"
   ]
  },
  {
   "cell_type": "code",
   "execution_count": 107,
   "metadata": {},
   "outputs": [
    {
     "data": {
      "text/plain": [
       "-36779119943082856448"
      ]
     },
     "execution_count": 107,
     "metadata": {},
     "output_type": "execute_result"
    }
   ],
   "source": [
    "int(-3.6779119943082856e+19)"
   ]
  },
  {
   "cell_type": "code",
   "execution_count": null,
   "metadata": {},
   "outputs": [],
   "source": []
  }
 ],
 "metadata": {
  "kernelspec": {
   "display_name": "Python 3",
   "language": "python",
   "name": "python3"
  },
  "language_info": {
   "codemirror_mode": {
    "name": "ipython",
    "version": 3
   },
   "file_extension": ".py",
   "mimetype": "text/x-python",
   "name": "python",
   "nbconvert_exporter": "python",
   "pygments_lexer": "ipython3",
   "version": "3.7.1"
  }
 },
 "nbformat": 4,
 "nbformat_minor": 2
}
