{
 "cells": [
  {
   "cell_type": "markdown",
   "metadata": {},
   "source": [
    "# Dataload and import library"
   ]
  },
  {
   "cell_type": "code",
   "execution_count": null,
   "metadata": {},
   "outputs": [],
   "source": [
    "import numpy as np\n",
    "import matplotlib.pyplot as plt\n",
    "import pandas as pd\n",
    "import random\n"
   ]
  },
  {
   "cell_type": "code",
   "execution_count": null,
   "metadata": {},
   "outputs": [],
   "source": [
    "## 본인의 디렉토리에 맞게 설정하세요 \n",
    "data = pd.read_csv('C:/Users/Kim Yuum/Desktop/투빅스/1주차 로지스틱 수정/assignment_2.csv',engine='python')\n",
    "data = data.rename(columns={'癤풪abel':'Label'})\n",
    "data.head()\n"
   ]
  },
  {
   "cell_type": "code",
   "execution_count": null,
   "metadata": {},
   "outputs": [],
   "source": [
    "data['salary']=data['salary'].apply(lambda x : x/10000)\n",
    "data.ix[0].Label"
   ]
  },
  {
   "cell_type": "markdown",
   "metadata": {},
   "source": [
    "# Logistic regression 해야하는 data 의 scatter plot"
   ]
  },
  {
   "cell_type": "code",
   "execution_count": 13,
   "metadata": {},
   "outputs": [],
   "source": [
    "# filter out the applicants that got admitted\n",
    "MALE = data[data['Label']==1]\n",
    "FEMALE = data[data['Label'] == 0]\n"
   ]
  },
  {
   "cell_type": "code",
   "execution_count": 14,
   "metadata": {},
   "outputs": [
    {
     "name": "stderr",
     "output_type": "stream",
     "text": [
      "C:\\ProgramData\\Anaconda3\\lib\\site-packages\\matplotlib\\figure.py:98: MatplotlibDeprecationWarning: \n",
      "Adding an axes using the same arguments as a previous axes currently reuses the earlier instance.  In a future version, a new instance will always be created and returned.  Meanwhile, this warning can be suppressed, and the future behavior ensured, by passing a unique label to each axes instance.\n",
      "  \"Adding an axes using the same arguments as a previous axes \"\n"
     ]
    },
    {
     "data": {
      "image/png": "[encoded data removed]",
      "text/plain": [
       "<Figure size 432x288 with 1 Axes>"
      ]
     },
     "metadata": {
      "needs_background": "light"
     },
     "output_type": "display_data"
    }
   ],
   "source": [
    "# plots\n",
    "fig = plt.figure()\n",
    "plt.scatter(MALE.iloc[:, 2], MALE.iloc[:, 3], s=10, label='Male')\n",
    "plt.scatter(FEMALE.iloc[:, 2], FEMALE.iloc[:, 3], s=10, label='Female')\n",
    "ax = fig.add_subplot(1,1,1)\n",
    "ax.set_xlabel('Experience')\n",
    "ax.set_ylabel('Salary')\n",
    "plt.legend()\n",
    "plt.show()"
   ]
  },
  {
   "cell_type": "code",
   "execution_count": 4,
   "metadata": {},
   "outputs": [],
   "source": [
    "## 독립변수들\n",
    "X = data.iloc[:, 1:]\n",
    "\n",
    "# rescaled_X \n",
    "normalized_X = (X[['experience','salary']]-X[['experience','salary']].mean())/X[['experience','salary']].std()\n",
    "normalized_X['bias'] = X['bias']\n",
    "cols = normalized_X.columns.tolist()\n",
    "cols = cols[-1:] + cols[:-1]\n",
    "normalized_X = normalized_X[cols]\n",
    "normalized_X = normalized_X.values.tolist()\n",
    "X= np.array(normalized_X)\n",
    "df = data.drop('bias', 1)\n",
    "#print(X)\n",
    "#print(cols)\n",
    "\n",
    "#Basic_X\n",
    "# X = X.values.tolist()\n",
    "# X = np.array(X)\n",
    "#X\n",
    "\n",
    "# 종속변수 Target = T \n",
    "T = data['Label']\n",
    "T = T.values.tolist()\n",
    "T = np.array(T)\n",
    "#print(T)\n",
    "\n",
    "# 회귀계수\n",
    "beta = np.random.randn(3)\n",
    "#beta= np.array([1,1,1])\n",
    "#beta"
   ]
  },
  {
   "cell_type": "markdown",
   "metadata": {},
   "source": [
    "## 회귀식\n",
    "## $$ a_n=B^TX = \\hat{B}_0 +\\hat{B}_1x_1 +\\hat{B}_2x_2 ,    \\quad\\mbox{n=데이터 수}$$\n",
    "\n",
    "\n"
   ]
  },
  {
   "cell_type": "code",
   "execution_count": 5,
   "metadata": {},
   "outputs": [
    {
     "data": {
      "text/plain": [
       "array([-1.36345298e+00, -1.04490546e+00, -1.18981740e+00, -8.14588179e-01,\n",
       "       -6.66301410e-01, -3.56131619e-01, -2.68117012e-01, -4.13028953e-01,\n",
       "       -1.27011152e-01,  2.18081992e-01, -1.21016331e+00, -1.37563679e+00,\n",
       "        3.19477225e-01, -6.39755783e-01, -1.22833121e+00, -2.48967921e-01,\n",
       "       -6.94043854e-01, -7.01224764e-01, -1.48660657e+00, -4.38162135e-01,\n",
       "       -9.07605685e-01, -2.30584396e-01, -7.65303006e-01, -9.26754776e-01,\n",
       "       -1.45179051e-01, -3.17402185e-01, -5.02456004e-01, -1.06427018e+00,\n",
       "        1.96539264e-01, -1.00421364e+00, -4.43380660e-01, -1.47703202e+00,\n",
       "       -1.33930099e+00, -1.33690736e+00, -1.78905587e-01, -1.31395218e+00,\n",
       "       -9.60265686e-01, -6.50742773e-01, -8.85631705e-01, -7.72483916e-01,\n",
       "       -3.20011447e-01, -1.03533092e+00, -1.36345298e+00, -1.07863200e+00,\n",
       "       -1.09060018e+00, -5.04418389e-01, -7.04599593e-01, -2.92269002e-01,\n",
       "       -1.63750260e+00, -2.11435305e-01, -1.03533092e+00, -5.79300111e-02,\n",
       "       -5.30964015e-01, -9.61678130e-01, -6.19194248e-01, -1.21037894e+00,\n",
       "       -8.77038352e-01, -1.10778689e+00, -1.07046990e+00, -1.24171184e+00,\n",
       "       -2.42768204e-01,  1.89142729e-01, -1.05469564e+00, -4.66120206e-01,\n",
       "       -2.00232689e-01, -1.06307336e+00, -9.47100686e-01, -1.76296325e-01,\n",
       "       -1.73902689e-01, -2.12632123e-01, -7.67912269e-01, -1.42354163e-01,\n",
       "        2.50827335e-01, -1.69897158e+00, -4.88859752e-01, -2.93465821e-01,\n",
       "       -3.88876963e-01, -8.88240967e-01, -9.32954493e-01, -1.45527367e+00,\n",
       "       -1.01596620e+00, -6.72069875e-01, -9.92029837e-01, -7.72699541e-01,\n",
       "       -3.10436901e-01, -1.12976087e+00, -1.47202912e+00, -8.72251079e-01,\n",
       "       -8.40152613e-01, -7.95223462e-01, -2.57345648e-01, -8.66266988e-01,\n",
       "       -5.41951005e-01, -1.23812138e+00, -1.10659007e+00, -1.04490546e+00,\n",
       "        4.96918883e-01, -1.42013469e+00, -4.57742478e-01, -1.55666890e+00,\n",
       "       -1.39194960e-01, -5.73283904e-01, -3.69512245e-01, -1.12541006e-02,\n",
       "        9.74955786e-01, -1.31297099e+00, -8.47117897e-01, -1.17306195e+00,\n",
       "       -1.09103143e+00, -9.10980513e-01, -4.74497933e-01, -4.73085489e-01,\n",
       "       -1.26706065e+00, -3.52756790e-01, -1.29240946e+00, -2.76494740e-01,\n",
       "       -5.58922086e-01, -6.54333228e-01, -2.20028658e-01, -8.70848997e-02,\n",
       "       -1.62292516e+00, -1.36801324e-01, -5.20192651e-01, -8.82817179e-02,\n",
       "        1.44644829e-01, -3.77997271e-02, -3.38179346e-01, -1.00998211e+00,\n",
       "       -1.16087814e+00,  1.60203466e-01, -1.11377098e+00, -1.42569789e-01,\n",
       "       -9.66465403e-01, -4.97237479e-01, -6.62710955e-01,  2.34215122e-03,\n",
       "       -8.47333522e-01, -1.29480309e+00, -6.29965612e-01, -9.72665120e-01,\n",
       "       -1.39880759e+00, -1.01476938e+00, -8.73663523e-01, -1.18361769e+00,\n",
       "       -1.46245458e+00, -1.01378819e+00, -1.24830343e-03, -2.83460023e-01,\n",
       "       -2.98253093e-01, -1.71354903e+00,  2.98689702e-02,  4.20527781e-02,\n",
       "       -2.19813032e-01, -7.23964310e-01, -7.67481017e-01, -8.84434887e-01,\n",
       "       -1.88500659e+00, -1.56624345e+00, -6.87628512e-01, -6.23000328e-01,\n",
       "       -5.53919187e-01, -3.78105599e-01, -5.11814924e-01, -2.57130023e-01,\n",
       "       -4.51758387e-01,  5.90238589e-02, -7.21786299e-01, -1.87282278e+00,\n",
       "       -1.53610737e+00, -5.24979924e-01, -4.61117307e-01, -5.14852145e-05,\n",
       "       -5.86664530e-01, -5.84270894e-01, -4.74282307e-01,  3.13493134e-01,\n",
       "       -7.60300108e-01, -1.17045269e+00, -1.38521134e+00, -1.01977228e+00,\n",
       "       -5.33573277e-01, -1.05708927e+00, -7.34951299e-01, -3.63872832e-02,\n",
       "       -8.18178634e-01, -1.41295378e+00, -1.19482030e+00, -1.40936333e+00,\n",
       "       -2.07629224e-01, -1.05828609e+00, -1.09320944e+00, -3.61134518e-01,\n",
       "       -9.08802503e-01, -8.13175735e-01, -4.01060771e-01, -7.36363743e-01,\n",
       "       -3.51344346e-01, -8.03816815e-01,  3.34054670e-01,  2.66385972e-01])"
      ]
     },
     "execution_count": 5,
     "metadata": {},
     "output_type": "execute_result"
    }
   ],
   "source": [
    "# 내적 -> 회귀계수와 X의 선형결합 \n",
    "a = X.dot(beta)\n",
    "a"
   ]
  },
  {
   "cell_type": "markdown",
   "metadata": {},
   "source": [
    "## $$ \\mbox 로그오즈 = 회귀식을\\  p에\\  대해서\\  정리 $$\n",
    "## $$ log(Odds) = \\hat{B}_0 +\\hat{B}_1x_1 + \\hat{B}_2x_2 $$\n",
    "## $$ \\mbox P는 \\ 로지스틱 \\ 함수 $$\n",
    "## $$ P = \\frac{\\mathrm{1} }{\\mathrm{1} + e^{-a_n}} = \\sigma(x,B) $$ "
   ]
  },
  {
   "cell_type": "code",
   "execution_count": 6,
   "metadata": {},
   "outputs": [
    {
     "data": {
      "text/plain": [
       "(200,)"
      ]
     },
     "execution_count": 6,
     "metadata": {},
     "output_type": "execute_result"
    }
   ],
   "source": [
    "#'''\n",
    "#함수를 구현하세요 \n",
    "#INPUT: 회귀식(a)\n",
    "#Output: P\n",
    "#'''\n",
    "\n",
    "def logoz (a):  #로지스틱 함수 수식에 따라 함수 구현\n",
    "    p = 1/(1+np.exp(-a))\n",
    "    return p\n",
    "\n",
    "p = logoz(a)\n",
    "p.shape"
   ]
  },
  {
   "cell_type": "markdown",
   "metadata": {},
   "source": [
    "## $$ \\mbox 각\\  데이터가\\  따르는\\  확률분포를\\   label\\  y와\\  엮어서\\  표현  $$\n",
    "\n",
    "## $$ P(x_i,y_i | B) = \\begin{cases} \\sigma(x,B)^{y}, & \\mbox{if }y\\mbox{ = 1} \\\\ (1-\\sigma(x,B))^{1-y}, & \\mbox{if }y\\mbox{ = 0} \\end{cases} $$"
   ]
  },
  {
   "cell_type": "markdown",
   "metadata": {},
   "source": [
    "## $$ \\mbox 위의 \\ 확률분포를 \\ 따르는 \\   데이터에서 \\ 얻은 \\ Likelihood  $$\n",
    "\n",
    "## $$ L = \\sigma(x,B)^{y}(1-\\sigma(x,B))^{1-y} $$ "
   ]
  },
  {
   "cell_type": "markdown",
   "metadata": {},
   "source": [
    "## $$ \\mbox log 변환  $$\n",
    "\n",
    "## $$ L^*=log(L) = ylog\\sigma(x,B) + (1-y)log(1-\\sigma(x,B)) $$ "
   ]
  },
  {
   "cell_type": "markdown",
   "metadata": {},
   "source": [
    "## $$ \\mbox Convex\\  function으로\\  만들기\\  위한 \\ (-) 곱   $$\n",
    "\n",
    "## $$ \\mbox J는\\ Loss\\ Function  $$\n",
    "\n",
    "## $$ J= - L^* $$\n",
    "\n",
    "## $$ \\mbox Loss\\ function \\ = \\ Negative\\ log \\ likelihood\\  $$"
   ]
  },
  {
   "cell_type": "markdown",
   "metadata": {},
   "source": [
    "## $$ \\mbox N개의 \\ 데이터에\\ 대한\\ Negative\\ \\ log Likelihood  $$\n",
    "## $$ J(x_i,y_i|B) = -y_i\\sum_{i=1}^N log\\sigma(x_i,B)- (1-y_i)\\sum_{i=1}^Nlog(1-\\sigma(x_i,B)) $$ \n"
   ]
  },
  {
   "cell_type": "code",
   "execution_count": 7,
   "metadata": {},
   "outputs": [
    {
     "data": {
      "text/plain": [
       "-0.002243278922424731"
      ]
     },
     "execution_count": 7,
     "metadata": {},
     "output_type": "execute_result"
    }
   ],
   "source": [
    "'''\n",
    "Negative_Likelihood를 구현하세요\n",
    "INPUT: P, Y(LABEL)\n",
    "OUTPUT : 각 데이터들의 Negative_Likelihood 값의 합\n",
    "\n",
    "'''\n",
    "#y = data.Label\n",
    "#L = (logoz(a)**y)*((1-logoz(a))**(1-y))\n",
    "#logL = y*logoz(i)+(1-y)*(1-logoz(i))  \n",
    "\n",
    "#p = [0]*len(data)\n",
    "#y = [0]*len(data)\n",
    "p = logoz(a)\n",
    "y = data.Label\n",
    "def J(p,y):   #p와 y 모두 array형태로 input \n",
    "    for i in range(len(data)):\n",
    "        j = (-y[i]*np.log1p(p[i]))-((1-y[i])*np.log1p(1-p[i]))   #각 데이터에 대한 총 Loss Fuction 구현\n",
    "    return j/len(data)  #데이터의 개수만큼 나눈 loss값 반환\n",
    "\n",
    "J(p,y)\n",
    "\n"
   ]
  },
  {
   "cell_type": "markdown",
   "metadata": {},
   "source": [
    "## Loss function 에 대한 Gradient를 구하기 위한 작업 "
   ]
  },
  {
   "cell_type": "markdown",
   "metadata": {},
   "source": [
    "## $$ \\mbox J를 \\ B에 \\ 대해서\\ 편미분  $$\n",
    "\n",
    "## $$ \\mbox J는 \\ P에 \\ 대한\\ 함수이고, \\ P는 \\ a에 \\ 대한 \\ 함수이고,\\ a는\\ B에 \\ 대한\\ 함수  $$\n",
    "\n",
    "## $${\\partial J\\over\\partial B} =  -\\sum_{i=1}^N {\\partial J\\over\\partial P_i} {\\partial P_i\\over\\partial a_i} {\\partial a_i\\over\\partial B} $$ "
   ]
  },
  {
   "cell_type": "markdown",
   "metadata": {},
   "source": [
    "## $${\\partial J\\over\\partial P_i} = \\frac{y_i}{P_i}- \\frac{1-y_i}{1-P_i} ,\\quad {\\partial P_i\\over\\partial a_i} = P_i(1-P_i), \\quad {\\partial a_i\\over\\partial B}=X^T $$ "
   ]
  },
  {
   "cell_type": "markdown",
   "metadata": {},
   "source": [
    "## $$ \\mbox 또한 \\ B는 \\ B_0,\\ B_1,\\ B_2이\\  있어서\\ 각각\\ 편미분    $$\n",
    "## $$ \\mbox 간단하게 \\  표현하면   $$"
   ]
  },
  {
   "cell_type": "markdown",
   "metadata": {},
   "source": [
    "## $${\\partial J\\over\\partial B} =  -\\sum_{i=1}^N {\\partial J\\over\\partial P_i} {\\partial P_i\\over\\partial a_i} {\\partial a_i\\over\\partial B} = - X^T(y-P) =  X^T(P-y)$$ "
   ]
  },
  {
   "cell_type": "code",
   "execution_count": 25,
   "metadata": {},
   "outputs": [
    {
     "name": "stdout",
     "output_type": "stream",
     "text": [
      "print -0.0019301674905789885\n"
     ]
    },
    {
     "data": {
      "text/plain": [
       "array([-1.69182491,  3.29602478, -3.20119425])"
      ]
     },
     "execution_count": 25,
     "metadata": {},
     "output_type": "execute_result"
    }
   ],
   "source": [
    "'''\n",
    "위에서 구한 Negative Likelihood 함수를 각각 베타에 편미분하여 Gradient를 계산하고\n",
    "Learning_rate와 곱하여 회귀계수를 업데이트 해주세요.\n",
    "회귀계수가 업데이트 될 때 마다, P도 다시 업데이트 되야 합니다. \n",
    "'''\n",
    "\n",
    "def gradient(X,y):\n",
    "    beta = np.random.randn(3)  #회귀계수 초기값 랜덤 지정\n",
    "    for i in range(100000) :\n",
    "        global p\n",
    "        if i /100 == 0:\n",
    "            print('print', J(p,y))  #loss가 minimum일 때를 알고자 함\n",
    "            \n",
    "        beta -= 0.001*(X.T.dot(p-y))/200   #회귀계수 업데이트\n",
    "        p = logoz(X.dot(beta))\n",
    "    return beta\n",
    "\n",
    "gradient(X, data.Label)  #최적화시킨 beta 반환"
   ]
  },
  {
   "cell_type": "code",
   "execution_count": 19,
   "metadata": {},
   "outputs": [
    {
     "name": "stderr",
     "output_type": "stream",
     "text": [
      "C:\\ProgramData\\Anaconda3\\lib\\site-packages\\ipykernel_launcher.py:2: DeprecationWarning: \n",
      ".ix is deprecated. Please use\n",
      ".loc for label based indexing or\n",
      ".iloc for positional indexing\n",
      "\n",
      "See the documentation here:\n",
      "http://pandas.pydata.org/pandas-docs/stable/indexing.html#ix-indexer-is-deprecated\n",
      "  \n"
     ]
    },
    {
     "data": {
      "text/plain": [
       "1.0"
      ]
     },
     "execution_count": 19,
     "metadata": {},
     "output_type": "execute_result"
    }
   ],
   "source": [
    "data['salary']=data['salary'].apply(lambda x : x/10000)  #salary 스케일링"
   ]
  },
  {
   "cell_type": "code",
   "execution_count": 20,
   "metadata": {},
   "outputs": [],
   "source": [
    "# filter out the applicants that got admitted\n",
    "MALE = data[data['Label']==1]\n",
    "FEMALE = data[data['Label'] == 0]\n"
   ]
  },
  {
   "cell_type": "code",
   "execution_count": 26,
   "metadata": {},
   "outputs": [
    {
     "data": {
      "image/png": "[encoded data removed]",
      "text/plain": [
       "<Figure size 432x288 with 1 Axes>"
      ]
     },
     "metadata": {
      "needs_background": "light"
     },
     "output_type": "display_data"
    }
   ],
   "source": [
    "'''추정된 회귀계수가 beta=[B0,B2,B3]이라면, 다음 코드를 통해 시각화가 가능합니다'''\n",
    "\n",
    "fig = plt.figure()\n",
    "plt.scatter(MALE.iloc[:, 2], MALE.iloc[:, 3], s=10, label='Male',alpha=0.5)\n",
    "plt.scatter(FEMALE.iloc[:, 2], FEMALE.iloc[:, 3], s=10, label='Female',alpha=0.5)\n",
    "#plt.scatter(X[:,1], X[:,2],c=T , s=10, alpha=0.8)\n",
    "x_axis = np.linspace(0, 10,50)\n",
    "y_axis = -(beta[0] + x_axis*beta[1]) / beta[2]\n",
    "\n",
    "ax = fig.add_subplot(1,1,1)\n",
    "ax.set_xlabel('Experience')\n",
    "ax.set_ylabel('Salary')\n",
    "plt.plot(x_axis, y_axis)\n",
    "plt.legend()\n",
    "plt.show()\n",
    "\n",
    "#결과 그래프를 살펴보면 회귀선이 데이터와 유사한 형태로 그려졌지만 적합이 잘 되지 않았음을 알 수 있음\n",
    "\n",
    "\n"
   ]
  },
  {
   "cell_type": "markdown",
   "metadata": {},
   "source": [
    "### 직접 구현을 한 rough한 GD이기 때문에 성능이 안좋을 수 있습니다\n",
    "### 초기값에 매우 민감하며, 기타 하이퍼 파라미터에 따라 성능이 달라집니다"
   ]
  }
 ],
 "metadata": {
  "kernelspec": {
   "display_name": "Python 3",
   "language": "python",
   "name": "python3"
  },
  "language_info": {
   "codemirror_mode": {
    "name": "ipython",
    "version": 3
   },
   "file_extension": ".py",
   "mimetype": "text/x-python",
   "name": "python",
   "nbconvert_exporter": "python",
   "pygments_lexer": "ipython3",
   "version": "3.7.1"
  }
 },
 "nbformat": 4,
 "nbformat_minor": 2
}
