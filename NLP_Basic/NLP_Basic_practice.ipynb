{
 "cells": [
  {
   "cell_type": "markdown",
   "metadata": {},
   "source": [
    "# NLP Basic 실습"
   ]
  },
  {
   "cell_type": "code",
   "execution_count": 1,
   "metadata": {
    "collapsed": true
   },
   "outputs": [],
   "source": [
    "import numpy as np\n",
    "import pandas as pd\n",
    "# !pip3 install KoNLPy"
   ]
  },
  {
   "cell_type": "code",
   "execution_count": 2,
   "metadata": {
    "collapsed": true
   },
   "outputs": [],
   "source": [
    "from konlpy.tag import *"
   ]
  },
  {
   "cell_type": "code",
   "execution_count": 3,
   "metadata": {
    "collapsed": true
   },
   "outputs": [],
   "source": [
    "twitter = Twitter()  #twitter class 객체당!\n",
    "komoran = Komoran()\n",
    "kkma = Kkma()\n",
    "# mecab = Mecab()\n",
    "# hannanum = Hannanum()"
   ]
  },
  {
   "cell_type": "code",
   "execution_count": 4,
   "metadata": {
    "collapsed": true
   },
   "outputs": [],
   "source": [
    "text = \"해질 무렵 바람도 몹시 불던 날 집에 돌아오는 길 버스 창가에 앉아\""
   ]
  },
  {
   "cell_type": "markdown",
   "metadata": {},
   "source": [
    "## 명사 추출"
   ]
  },
  {
   "cell_type": "code",
   "execution_count": 5,
   "metadata": {},
   "outputs": [
    {
     "data": {
      "text/plain": [
       "['무렵', '바람', '몹시', '날', '집', '길', '버스', '창가']"
      ]
     },
     "execution_count": 5,
     "metadata": {},
     "output_type": "execute_result"
    }
   ],
   "source": [
    "twitter.nouns(text)"
   ]
  },
  {
   "cell_type": "code",
   "execution_count": 6,
   "metadata": {},
   "outputs": [
    {
     "data": {
      "text/plain": [
       "['무렵', '바람', '날', '집', '길', '버스', '창가']"
      ]
     },
     "execution_count": 6,
     "metadata": {},
     "output_type": "execute_result"
    }
   ],
   "source": [
    "komoran.nouns(text)"
   ]
  },
  {
   "cell_type": "code",
   "execution_count": 7,
   "metadata": {},
   "outputs": [
    {
     "data": {
      "text/plain": [
       "['무렵', '바람', '불', '날', '집', '길', '버스', '창가']"
      ]
     },
     "execution_count": 7,
     "metadata": {},
     "output_type": "execute_result"
    }
   ],
   "source": [
    "kkma.nouns(text)"
   ]
  },
  {
   "cell_type": "markdown",
   "metadata": {},
   "source": [
    "## 형태소 추출"
   ]
  },
  {
   "cell_type": "code",
   "execution_count": 8,
   "metadata": {},
   "outputs": [
    {
     "data": {
      "text/plain": [
       "['해',\n",
       " '질',\n",
       " '무렵',\n",
       " '바람',\n",
       " '도',\n",
       " '몹시',\n",
       " '불',\n",
       " '던',\n",
       " '날',\n",
       " '집',\n",
       " '에',\n",
       " '돌아오는',\n",
       " '길',\n",
       " '버스',\n",
       " '창가',\n",
       " '에',\n",
       " '앉아']"
      ]
     },
     "execution_count": 8,
     "metadata": {},
     "output_type": "execute_result"
    }
   ],
   "source": [
    "twitter.morphs(text)"
   ]
  },
  {
   "cell_type": "code",
   "execution_count": 9,
   "metadata": {},
   "outputs": [
    {
     "data": {
      "text/plain": [
       "['해지',\n",
       " 'ㄹ',\n",
       " '무렵',\n",
       " '바람',\n",
       " '도',\n",
       " '몹시',\n",
       " '불',\n",
       " '던',\n",
       " '날',\n",
       " '집',\n",
       " '에',\n",
       " '돌아오',\n",
       " '는',\n",
       " '길',\n",
       " '버스',\n",
       " '창가',\n",
       " '에',\n",
       " '앉',\n",
       " '아']"
      ]
     },
     "execution_count": 9,
     "metadata": {},
     "output_type": "execute_result"
    }
   ],
   "source": [
    "komoran.morphs(text)"
   ]
  },
  {
   "cell_type": "code",
   "execution_count": 10,
   "metadata": {},
   "outputs": [
    {
     "data": {
      "text/plain": [
       "['해지',\n",
       " 'ㄹ',\n",
       " '무렵',\n",
       " '바람',\n",
       " '도',\n",
       " '몹시',\n",
       " '불',\n",
       " '덜',\n",
       " 'ㄴ',\n",
       " '날',\n",
       " '집',\n",
       " '에',\n",
       " '돌아오',\n",
       " '는',\n",
       " '길',\n",
       " '버스',\n",
       " '창가',\n",
       " '에',\n",
       " '앉',\n",
       " '아']"
      ]
     },
     "execution_count": 10,
     "metadata": {},
     "output_type": "execute_result"
    }
   ],
   "source": [
    "kkma.morphs(text)"
   ]
  },
  {
   "cell_type": "markdown",
   "metadata": {},
   "source": [
    "## 형태소 품사 태깅"
   ]
  },
  {
   "cell_type": "code",
   "execution_count": 11,
   "metadata": {},
   "outputs": [
    {
     "data": {
      "text/plain": [
       "[('해', 'Verb'),\n",
       " ('질', 'Eomi'),\n",
       " ('무렵', 'Noun'),\n",
       " ('바람', 'Noun'),\n",
       " ('도', 'Josa'),\n",
       " ('몹시', 'Noun'),\n",
       " ('불', 'Verb'),\n",
       " ('던', 'Eomi'),\n",
       " ('날', 'Noun'),\n",
       " ('집', 'Noun'),\n",
       " ('에', 'Josa'),\n",
       " ('돌아오는', 'Verb'),\n",
       " ('길', 'Noun'),\n",
       " ('버스', 'Noun'),\n",
       " ('창가', 'Noun'),\n",
       " ('에', 'Josa'),\n",
       " ('앉아', 'Verb')]"
      ]
     },
     "execution_count": 11,
     "metadata": {},
     "output_type": "execute_result"
    }
   ],
   "source": [
    "twitter.pos(text)"
   ]
  },
  {
   "cell_type": "code",
   "execution_count": 12,
   "metadata": {},
   "outputs": [
    {
     "data": {
      "text/plain": [
       "[('해지', 'VV'),\n",
       " ('ㄹ', 'ETM'),\n",
       " ('무렵', 'NNB'),\n",
       " ('바람', 'NNG'),\n",
       " ('도', 'JX'),\n",
       " ('몹시', 'MAG'),\n",
       " ('불', 'VV'),\n",
       " ('던', 'ETM'),\n",
       " ('날', 'NNG'),\n",
       " ('집', 'NNG'),\n",
       " ('에', 'JKB'),\n",
       " ('돌아오', 'VV'),\n",
       " ('는', 'ETM'),\n",
       " ('길', 'NNG'),\n",
       " ('버스', 'NNG'),\n",
       " ('창가', 'NNG'),\n",
       " ('에', 'JKB'),\n",
       " ('앉', 'VV'),\n",
       " ('아', 'EC')]"
      ]
     },
     "execution_count": 12,
     "metadata": {},
     "output_type": "execute_result"
    }
   ],
   "source": [
    "komoran.pos(text)"
   ]
  },
  {
   "cell_type": "code",
   "execution_count": 13,
   "metadata": {},
   "outputs": [
    {
     "data": {
      "text/plain": [
       "[('해지', 'VV'),\n",
       " ('ㄹ', 'ETD'),\n",
       " ('무렵', 'NNB'),\n",
       " ('바람', 'NNG'),\n",
       " ('도', 'JX'),\n",
       " ('몹시', 'MAG'),\n",
       " ('불', 'NNG'),\n",
       " ('덜', 'VV'),\n",
       " ('ㄴ', 'ETD'),\n",
       " ('날', 'NNG'),\n",
       " ('집', 'NNG'),\n",
       " ('에', 'JKM'),\n",
       " ('돌아오', 'VV'),\n",
       " ('는', 'ETD'),\n",
       " ('길', 'NNG'),\n",
       " ('버스', 'NNG'),\n",
       " ('창가', 'NNG'),\n",
       " ('에', 'JKM'),\n",
       " ('앉', 'VV'),\n",
       " ('아', 'ECD')]"
      ]
     },
     "execution_count": 13,
     "metadata": {},
     "output_type": "execute_result"
    }
   ],
   "source": [
    "kkma.pos(text)"
   ]
  },
  {
   "cell_type": "markdown",
   "metadata": {},
   "source": [
    "# Word Embedding"
   ]
  },
  {
   "cell_type": "code",
   "execution_count": 14,
   "metadata": {
    "collapsed": true
   },
   "outputs": [],
   "source": [
    "text = \"\"\"반복돼 오늘도 이렇게\n",
    "힘겨운 스물네 시간\n",
    "반복돼 오늘도 머릿속엔\n",
    "온통 너라는 사람\n",
    "또 반복해 오늘도 너에게\n",
    "하지 못한 말\n",
    "수없이 반복해 나도 모르게\n",
    "너와 함께 듣던 이 노래\n",
    "마지막까지 날 걱정해주던\n",
    "니 눈빛 잘 알아\n",
    "그만큼 우리 미치도록 사랑했잖아\n",
    "늘 안쓰러워하던 그 날들이 지나가면\n",
    "이젠 너도 맘 아플 일 없을 거니까\n",
    "흔들리지마 이젠 나는 괜찮아\n",
    "너도 이젠 너의 갈길\n",
    "그대로 그냥 가면 돼\n",
    "내가 널 놓을 수 있게\n",
    "너도 그냥 날 놓아주면 돼\n",
    "아픈 기억들만 내게 두고 제발 가\n",
    "반복돼 오늘도 이렇게\n",
    "멍청히 하루가\n",
    "또 반복해 나도 모르게\n",
    "너와 함께 듣던 이 노래\n",
    "마지막까지 날 위로해주던\n",
    "니 눈물 잘 알아\n",
    "그만큼 우리 미치도록 힘들었잖아\n",
    "사랑한 만큼 아프던\n",
    "그날들이 지나가면\n",
    "이젠 너도 좋은 기억만 남을 거니까\n",
    "흔들리지마 이젠 나는 괜찮아\n",
    "너도 이젠 너의 갈길\n",
    "그대로 그냥 가면 돼\n",
    "내가 널 놓을 수 있게\n",
    "너도 그냥 날 놓아주면 돼\n",
    "좋은 기억들만 가지고 제발 가\n",
    "네가 잘 지냈으면 좋겠어\n",
    "행복하면 더 좋고\n",
    "흔들리지마 이젠 나는 괜찮아\n",
    "너도 이젠 너의 갈길\n",
    "그대로 그냥 가면 돼\n",
    "내가 널 놓을 수 있게\n",
    "너도 그냥 날 놓아주면 돼\n",
    "아픈 기억들만 내게 두고\n",
    "제발 가 제발 가\"\"\""
   ]
  },
  {
   "cell_type": "markdown",
   "metadata": {},
   "source": [
    "## Tokenize"
   ]
  },
  {
   "cell_type": "code",
   "execution_count": 15,
   "metadata": {
    "collapsed": true
   },
   "outputs": [],
   "source": [
    "def make_corpus(text):\n",
    "    corpus = []\n",
    "    for s in text.split('\\n'):\n",
    "        corpus.append(['/'.join(p) for p in twitter.pos(s)])\n",
    "    return corpus\n",
    "\n",
    "def make_corpus_rm_stopwords(text):\n",
    "    corpus = []\n",
    "    for s in text.split('\\n'):\n",
    "        corpus.append(['/'.join(p) for p in twitter.pos(s) if p[1] != \"Josa\"]) #임베딩에 필요없는 조사 빼고! \n",
    "    return corpus"
   ]
  },
  {
   "cell_type": "code",
   "execution_count": 16,
   "metadata": {
    "collapsed": true
   },
   "outputs": [],
   "source": [
    "corpus = make_corpus(text)"
   ]
  },
  {
   "cell_type": "markdown",
   "metadata": {},
   "source": [
    "## Train"
   ]
  },
  {
   "cell_type": "code",
   "execution_count": 17,
   "metadata": {
    "collapsed": true
   },
   "outputs": [],
   "source": [
    "from gensim.models import Word2Vec, fasttext\n",
    "# input format : [[\"my\", \"name\", \"is\", \"jamie\"], [\"jamie\", \"is\", \"cute\"]]\n",
    "# size : 임베딩 차원\n",
    "# window : 윈도우 사이즈\n",
    "# min_count : 고려할 단어의 최소 빈도 기준\n",
    "# workers : cpu core 수\n",
    "# iter : 반복 학습 횟수(epoch)\n",
    "# sg : 0 -> CBOW, 1 -> Skip-Gram\n",
    "# CBOW_model - Word2Vec(corpus, size=2, window=2, min_count=2, workers=1, iter=1000, sg=1)"
   ]
  },
  {
   "cell_type": "code",
   "execution_count": 18,
   "metadata": {
    "collapsed": true
   },
   "outputs": [],
   "source": [
    "Skip_Gram_model = Word2Vec(corpus, size=2, window=2, min_count=2, workers=1, iter=1000, sg=1)"
   ]
  },
  {
   "cell_type": "code",
   "execution_count": 19,
   "metadata": {
    "collapsed": true
   },
   "outputs": [],
   "source": [
    "# FT_CB_model = FastText(corpus, size=2, window=2, min_count=2, workers=1, iter=1000, sg=0)"
   ]
  },
  {
   "cell_type": "code",
   "execution_count": 20,
   "metadata": {
    "collapsed": true
   },
   "outputs": [],
   "source": [
    "# FT_SG_model = FastText(corpus, size=2, window=2, min_count=2, workers=1, iter=1000, sg=1)"
   ]
  },
  {
   "cell_type": "markdown",
   "metadata": {},
   "source": [
    "## Test & Result"
   ]
  },
  {
   "cell_type": "code",
   "execution_count": 21,
   "metadata": {},
   "outputs": [
    {
     "data": {
      "text/plain": [
       "['너/Noun',\n",
       " '도/Josa',\n",
       " '돼/Verb',\n",
       " '이/Determiner',\n",
       " '젠/Noun',\n",
       " '날/Noun',\n",
       " '그냥/Noun',\n",
       " '놓/Verb',\n",
       " '주/PreEomi',\n",
       " '아/Eomi',\n",
       " '들/Suffix',\n",
       " '가/Josa',\n",
       " '오늘/Noun',\n",
       " '을/Eomi',\n",
       " '기억/Noun',\n",
       " '만/Josa',\n",
       " '제발/Noun',\n",
       " '가/Verb',\n",
       " '좋/Adjective',\n",
       " '반복/Noun',\n",
       " '반복해/Verb',\n",
       " '던/Eomi',\n",
       " '잘/Verb',\n",
       " '흔들리/Verb',\n",
       " '지/PreEomi',\n",
       " '마/Eomi',\n",
       " '나/Noun',\n",
       " '는/Josa',\n",
       " '괜찮/Adjective',\n",
       " '의/Josa',\n",
       " '갈/Verb',\n",
       " '길/Eomi',\n",
       " '그대로/Noun',\n",
       " '가면/Noun',\n",
       " '내/Noun',\n",
       " '널/Noun',\n",
       " '수/Noun',\n",
       " '있게/Adjective',\n",
       " '아/PreEomi',\n",
       " '면/Eomi',\n",
       " '이렇게/Adverb',\n",
       " '또/Noun',\n",
       " '나도/Verb',\n",
       " '모르/Verb',\n",
       " '게/Eomi',\n",
       " '와/Josa',\n",
       " '함께/Adverb',\n",
       " '듣던/Verb',\n",
       " '이/Noun',\n",
       " '노래/Noun',\n",
       " '마지막/Noun',\n",
       " '까지/Josa',\n",
       " '니/Noun',\n",
       " '알/Noun',\n",
       " '아/Josa',\n",
       " '그만큼/Adverb',\n",
       " '우리/Noun',\n",
       " '미치/Adjective',\n",
       " '도록/Eomi',\n",
       " '잖/PreEomi',\n",
       " '이/Josa',\n",
       " '지나가면/Verb',\n",
       " '거/Noun',\n",
       " '니까/Josa',\n",
       " '아픈/Adjective',\n",
       " '내게/Verb',\n",
       " '두고/Verb',\n",
       " '은/Eomi']"
      ]
     },
     "execution_count": 21,
     "metadata": {},
     "output_type": "execute_result"
    }
   ],
   "source": [
    "words = Skip_Gram_model.wv.index2word #one-hot encoding알아서 해줌 \n",
    "words"
   ]
  },
  {
   "cell_type": "code",
   "execution_count": 22,
   "metadata": {},
   "outputs": [
    {
     "data": {
      "text/plain": [
       "array([[-0.96681166,  0.24016763],\n",
       "       [-1.0654404 ,  0.27016434],\n",
       "       [-0.9700646 , -0.14874561],\n",
       "       [-2.3618422 ,  1.6781194 ],\n",
       "       [-2.2296653 ,  1.6085312 ],\n",
       "       [-1.0314714 , -0.20509347],\n",
       "       [-0.95295596, -0.1905242 ],\n",
       "       [-0.9982668 , -0.9334151 ],\n",
       "       [-1.0178603 , -0.26795805],\n",
       "       [-1.260312  ,  0.6833897 ],\n",
       "       [-1.4387703 ,  0.56494784],\n",
       "       [-1.3793999 , -1.8085021 ],\n",
       "       [-0.91746753, -0.11480567],\n",
       "       [-0.8776369 , -0.877326  ],\n",
       "       [-1.7138941 ,  0.873075  ],\n",
       "       [-1.7227486 ,  0.87679374],\n",
       "       [-1.5923058 ,  0.7589286 ],\n",
       "       [-1.5767488 ,  0.73762727],\n",
       "       [-1.1096683 ,  0.2933513 ],\n",
       "       [-0.9347936 , -0.04009958],\n",
       "       [-1.1155257 , -1.0354766 ],\n",
       "       [-1.0906026 , -0.17823091],\n",
       "       [-1.390577  , -1.9618627 ],\n",
       "       [-3.1234057 ,  2.3844552 ],\n",
       "       [-3.3821836 ,  2.5480661 ],\n",
       "       [-3.5430784 ,  2.6696281 ],\n",
       "       [-3.459473  ,  2.6427898 ],\n",
       "       [-3.3452299 ,  2.524202  ],\n",
       "       [-3.208725  ,  2.343586  ],\n",
       "       [-1.9510207 ,  1.3723768 ],\n",
       "       [-2.0373838 ,  1.4934236 ],\n",
       "       [-1.9218549 ,  1.3687044 ],\n",
       "       [-0.89337885, -0.11982402],\n",
       "       [-0.88121736, -0.12260385],\n",
       "       [-1.5288527 , -1.9845549 ],\n",
       "       [-1.5156317 , -2.067415  ],\n",
       "       [-1.544286  , -2.0815873 ],\n",
       "       [-1.5427545 , -2.0094168 ],\n",
       "       [-0.9955797 , -0.28780264],\n",
       "       [-1.0020963 , -0.28505832],\n",
       "       [-0.93458766, -0.02055362],\n",
       "       [-1.0865957 , -0.9293671 ],\n",
       "       [-1.3839955 , -1.5279056 ],\n",
       "       [-1.3663795 , -1.5541954 ],\n",
       "       [-1.4013488 , -1.5556968 ],\n",
       "       [-1.7752646 , -2.255937  ],\n",
       "       [-2.1111732 , -2.7037215 ],\n",
       "       [-2.148079  , -2.7826114 ],\n",
       "       [-2.23086   , -2.8990738 ],\n",
       "       [-2.2129464 , -2.87364   ],\n",
       "       [-1.0553511 , -0.1755774 ],\n",
       "       [-1.0181792 , -0.20169139],\n",
       "       [-1.5809476 , -2.2617874 ],\n",
       "       [-1.5988222 , -2.2725713 ],\n",
       "       [-1.624259  , -2.3247259 ],\n",
       "       [-2.1502929 , -2.2933326 ],\n",
       "       [-2.1189873 , -2.2683127 ],\n",
       "       [-2.0914881 , -2.2496526 ],\n",
       "       [-2.0332355 , -2.100447  ],\n",
       "       [-1.8952433 , -1.8637654 ],\n",
       "       [-1.0773653 ,  0.03903063],\n",
       "       [-1.0877903 ,  0.09174844],\n",
       "       [-1.4750084 ,  0.66481376],\n",
       "       [-1.4834676 ,  0.63701266],\n",
       "       [-1.6880887 ,  0.7737747 ],\n",
       "       [-1.6985209 ,  0.8222041 ],\n",
       "       [-1.6942317 ,  0.77621084],\n",
       "       [-1.5992782 ,  0.837957  ]], dtype=float32)"
      ]
     },
     "execution_count": 22,
     "metadata": {},
     "output_type": "execute_result"
    }
   ],
   "source": [
    "vectors = Skip_Gram_model.wv.vectors\n",
    "vectors"
   ]
  },
  {
   "cell_type": "code",
   "execution_count": 23,
   "metadata": {},
   "outputs": [],
   "source": [
    "Skip_Gram_model_result = dict(zip(words, vectors))"
   ]
  },
  {
   "cell_type": "code",
   "execution_count": 25,
   "metadata": {},
   "outputs": [
    {
     "name": "stderr",
     "output_type": "stream",
     "text": [
      "C:\\Users\\CSH\\Anaconda3\\lib\\site-packages\\ipykernel\\__main__.py:1: DeprecationWarning: Call to deprecated `most_similar` (Method will be removed in 4.0.0, use self.wv.most_similar() instead).\n",
      "  if __name__ == '__main__':\n"
     ]
    },
    {
     "data": {
      "text/plain": [
       "[('도/Josa', 0.9999882578849792),\n",
       " ('좋/Adjective', 0.9998880624771118),\n",
       " ('들/Suffix', 0.9914736151695251),\n",
       " ('지나가면/Verb', 0.9873323440551758),\n",
       " ('니까/Josa', 0.9868882298469543)]"
      ]
     },
     "execution_count": 25,
     "metadata": {},
     "output_type": "execute_result"
    }
   ],
   "source": [
    "Skip_Gram_model.most_similar('너/Noun', topn=5)  #너라는 토큰과 유사한 top5개 보기  #word2vec 코사인 유사도!"
   ]
  },
  {
   "cell_type": "code",
   "execution_count": 26,
   "metadata": {},
   "outputs": [
    {
     "data": {
      "text/html": [
       "<div>\n",
       "<style>\n",
       "    .dataframe thead tr:only-child th {\n",
       "        text-align: right;\n",
       "    }\n",
       "\n",
       "    .dataframe thead th {\n",
       "        text-align: left;\n",
       "    }\n",
       "\n",
       "    .dataframe tbody tr th {\n",
       "        vertical-align: top;\n",
       "    }\n",
       "</style>\n",
       "<table border=\"1\" class=\"dataframe\">\n",
       "  <thead>\n",
       "    <tr style=\"text-align: right;\">\n",
       "      <th></th>\n",
       "      <th>word</th>\n",
       "      <th>x1</th>\n",
       "      <th>x2</th>\n",
       "    </tr>\n",
       "  </thead>\n",
       "  <tbody>\n",
       "    <tr>\n",
       "      <th>0</th>\n",
       "      <td>너/Noun</td>\n",
       "      <td>-0.966812</td>\n",
       "      <td>0.240168</td>\n",
       "    </tr>\n",
       "    <tr>\n",
       "      <th>1</th>\n",
       "      <td>도/Josa</td>\n",
       "      <td>-1.065440</td>\n",
       "      <td>0.270164</td>\n",
       "    </tr>\n",
       "    <tr>\n",
       "      <th>2</th>\n",
       "      <td>돼/Verb</td>\n",
       "      <td>-0.970065</td>\n",
       "      <td>-0.148746</td>\n",
       "    </tr>\n",
       "    <tr>\n",
       "      <th>3</th>\n",
       "      <td>이/Determiner</td>\n",
       "      <td>-2.361842</td>\n",
       "      <td>1.678119</td>\n",
       "    </tr>\n",
       "    <tr>\n",
       "      <th>4</th>\n",
       "      <td>젠/Noun</td>\n",
       "      <td>-2.229665</td>\n",
       "      <td>1.608531</td>\n",
       "    </tr>\n",
       "    <tr>\n",
       "      <th>5</th>\n",
       "      <td>날/Noun</td>\n",
       "      <td>-1.031471</td>\n",
       "      <td>-0.205093</td>\n",
       "    </tr>\n",
       "    <tr>\n",
       "      <th>6</th>\n",
       "      <td>그냥/Noun</td>\n",
       "      <td>-0.952956</td>\n",
       "      <td>-0.190524</td>\n",
       "    </tr>\n",
       "    <tr>\n",
       "      <th>7</th>\n",
       "      <td>놓/Verb</td>\n",
       "      <td>-0.998267</td>\n",
       "      <td>-0.933415</td>\n",
       "    </tr>\n",
       "    <tr>\n",
       "      <th>8</th>\n",
       "      <td>주/PreEomi</td>\n",
       "      <td>-1.017860</td>\n",
       "      <td>-0.267958</td>\n",
       "    </tr>\n",
       "    <tr>\n",
       "      <th>9</th>\n",
       "      <td>아/Eomi</td>\n",
       "      <td>-1.260312</td>\n",
       "      <td>0.683390</td>\n",
       "    </tr>\n",
       "    <tr>\n",
       "      <th>10</th>\n",
       "      <td>들/Suffix</td>\n",
       "      <td>-1.438770</td>\n",
       "      <td>0.564948</td>\n",
       "    </tr>\n",
       "    <tr>\n",
       "      <th>11</th>\n",
       "      <td>가/Josa</td>\n",
       "      <td>-1.379400</td>\n",
       "      <td>-1.808502</td>\n",
       "    </tr>\n",
       "    <tr>\n",
       "      <th>12</th>\n",
       "      <td>오늘/Noun</td>\n",
       "      <td>-0.917468</td>\n",
       "      <td>-0.114806</td>\n",
       "    </tr>\n",
       "    <tr>\n",
       "      <th>13</th>\n",
       "      <td>을/Eomi</td>\n",
       "      <td>-0.877637</td>\n",
       "      <td>-0.877326</td>\n",
       "    </tr>\n",
       "    <tr>\n",
       "      <th>14</th>\n",
       "      <td>기억/Noun</td>\n",
       "      <td>-1.713894</td>\n",
       "      <td>0.873075</td>\n",
       "    </tr>\n",
       "    <tr>\n",
       "      <th>15</th>\n",
       "      <td>만/Josa</td>\n",
       "      <td>-1.722749</td>\n",
       "      <td>0.876794</td>\n",
       "    </tr>\n",
       "    <tr>\n",
       "      <th>16</th>\n",
       "      <td>제발/Noun</td>\n",
       "      <td>-1.592306</td>\n",
       "      <td>0.758929</td>\n",
       "    </tr>\n",
       "    <tr>\n",
       "      <th>17</th>\n",
       "      <td>가/Verb</td>\n",
       "      <td>-1.576749</td>\n",
       "      <td>0.737627</td>\n",
       "    </tr>\n",
       "    <tr>\n",
       "      <th>18</th>\n",
       "      <td>좋/Adjective</td>\n",
       "      <td>-1.109668</td>\n",
       "      <td>0.293351</td>\n",
       "    </tr>\n",
       "    <tr>\n",
       "      <th>19</th>\n",
       "      <td>반복/Noun</td>\n",
       "      <td>-0.934794</td>\n",
       "      <td>-0.040100</td>\n",
       "    </tr>\n",
       "    <tr>\n",
       "      <th>20</th>\n",
       "      <td>반복해/Verb</td>\n",
       "      <td>-1.115526</td>\n",
       "      <td>-1.035477</td>\n",
       "    </tr>\n",
       "    <tr>\n",
       "      <th>21</th>\n",
       "      <td>던/Eomi</td>\n",
       "      <td>-1.090603</td>\n",
       "      <td>-0.178231</td>\n",
       "    </tr>\n",
       "    <tr>\n",
       "      <th>22</th>\n",
       "      <td>잘/Verb</td>\n",
       "      <td>-1.390577</td>\n",
       "      <td>-1.961863</td>\n",
       "    </tr>\n",
       "    <tr>\n",
       "      <th>23</th>\n",
       "      <td>흔들리/Verb</td>\n",
       "      <td>-3.123406</td>\n",
       "      <td>2.384455</td>\n",
       "    </tr>\n",
       "    <tr>\n",
       "      <th>24</th>\n",
       "      <td>지/PreEomi</td>\n",
       "      <td>-3.382184</td>\n",
       "      <td>2.548066</td>\n",
       "    </tr>\n",
       "    <tr>\n",
       "      <th>25</th>\n",
       "      <td>마/Eomi</td>\n",
       "      <td>-3.543078</td>\n",
       "      <td>2.669628</td>\n",
       "    </tr>\n",
       "    <tr>\n",
       "      <th>26</th>\n",
       "      <td>나/Noun</td>\n",
       "      <td>-3.459473</td>\n",
       "      <td>2.642790</td>\n",
       "    </tr>\n",
       "    <tr>\n",
       "      <th>27</th>\n",
       "      <td>는/Josa</td>\n",
       "      <td>-3.345230</td>\n",
       "      <td>2.524202</td>\n",
       "    </tr>\n",
       "    <tr>\n",
       "      <th>28</th>\n",
       "      <td>괜찮/Adjective</td>\n",
       "      <td>-3.208725</td>\n",
       "      <td>2.343586</td>\n",
       "    </tr>\n",
       "    <tr>\n",
       "      <th>29</th>\n",
       "      <td>의/Josa</td>\n",
       "      <td>-1.951021</td>\n",
       "      <td>1.372377</td>\n",
       "    </tr>\n",
       "    <tr>\n",
       "      <th>...</th>\n",
       "      <td>...</td>\n",
       "      <td>...</td>\n",
       "      <td>...</td>\n",
       "    </tr>\n",
       "    <tr>\n",
       "      <th>38</th>\n",
       "      <td>아/PreEomi</td>\n",
       "      <td>-0.995580</td>\n",
       "      <td>-0.287803</td>\n",
       "    </tr>\n",
       "    <tr>\n",
       "      <th>39</th>\n",
       "      <td>면/Eomi</td>\n",
       "      <td>-1.002096</td>\n",
       "      <td>-0.285058</td>\n",
       "    </tr>\n",
       "    <tr>\n",
       "      <th>40</th>\n",
       "      <td>이렇게/Adverb</td>\n",
       "      <td>-0.934588</td>\n",
       "      <td>-0.020554</td>\n",
       "    </tr>\n",
       "    <tr>\n",
       "      <th>41</th>\n",
       "      <td>또/Noun</td>\n",
       "      <td>-1.086596</td>\n",
       "      <td>-0.929367</td>\n",
       "    </tr>\n",
       "    <tr>\n",
       "      <th>42</th>\n",
       "      <td>나도/Verb</td>\n",
       "      <td>-1.383996</td>\n",
       "      <td>-1.527906</td>\n",
       "    </tr>\n",
       "    <tr>\n",
       "      <th>43</th>\n",
       "      <td>모르/Verb</td>\n",
       "      <td>-1.366379</td>\n",
       "      <td>-1.554195</td>\n",
       "    </tr>\n",
       "    <tr>\n",
       "      <th>44</th>\n",
       "      <td>게/Eomi</td>\n",
       "      <td>-1.401349</td>\n",
       "      <td>-1.555697</td>\n",
       "    </tr>\n",
       "    <tr>\n",
       "      <th>45</th>\n",
       "      <td>와/Josa</td>\n",
       "      <td>-1.775265</td>\n",
       "      <td>-2.255937</td>\n",
       "    </tr>\n",
       "    <tr>\n",
       "      <th>46</th>\n",
       "      <td>함께/Adverb</td>\n",
       "      <td>-2.111173</td>\n",
       "      <td>-2.703722</td>\n",
       "    </tr>\n",
       "    <tr>\n",
       "      <th>47</th>\n",
       "      <td>듣던/Verb</td>\n",
       "      <td>-2.148079</td>\n",
       "      <td>-2.782611</td>\n",
       "    </tr>\n",
       "    <tr>\n",
       "      <th>48</th>\n",
       "      <td>이/Noun</td>\n",
       "      <td>-2.230860</td>\n",
       "      <td>-2.899074</td>\n",
       "    </tr>\n",
       "    <tr>\n",
       "      <th>49</th>\n",
       "      <td>노래/Noun</td>\n",
       "      <td>-2.212946</td>\n",
       "      <td>-2.873640</td>\n",
       "    </tr>\n",
       "    <tr>\n",
       "      <th>50</th>\n",
       "      <td>마지막/Noun</td>\n",
       "      <td>-1.055351</td>\n",
       "      <td>-0.175577</td>\n",
       "    </tr>\n",
       "    <tr>\n",
       "      <th>51</th>\n",
       "      <td>까지/Josa</td>\n",
       "      <td>-1.018179</td>\n",
       "      <td>-0.201691</td>\n",
       "    </tr>\n",
       "    <tr>\n",
       "      <th>52</th>\n",
       "      <td>니/Noun</td>\n",
       "      <td>-1.580948</td>\n",
       "      <td>-2.261787</td>\n",
       "    </tr>\n",
       "    <tr>\n",
       "      <th>53</th>\n",
       "      <td>알/Noun</td>\n",
       "      <td>-1.598822</td>\n",
       "      <td>-2.272571</td>\n",
       "    </tr>\n",
       "    <tr>\n",
       "      <th>54</th>\n",
       "      <td>아/Josa</td>\n",
       "      <td>-1.624259</td>\n",
       "      <td>-2.324726</td>\n",
       "    </tr>\n",
       "    <tr>\n",
       "      <th>55</th>\n",
       "      <td>그만큼/Adverb</td>\n",
       "      <td>-2.150293</td>\n",
       "      <td>-2.293333</td>\n",
       "    </tr>\n",
       "    <tr>\n",
       "      <th>56</th>\n",
       "      <td>우리/Noun</td>\n",
       "      <td>-2.118987</td>\n",
       "      <td>-2.268313</td>\n",
       "    </tr>\n",
       "    <tr>\n",
       "      <th>57</th>\n",
       "      <td>미치/Adjective</td>\n",
       "      <td>-2.091488</td>\n",
       "      <td>-2.249653</td>\n",
       "    </tr>\n",
       "    <tr>\n",
       "      <th>58</th>\n",
       "      <td>도록/Eomi</td>\n",
       "      <td>-2.033236</td>\n",
       "      <td>-2.100447</td>\n",
       "    </tr>\n",
       "    <tr>\n",
       "      <th>59</th>\n",
       "      <td>잖/PreEomi</td>\n",
       "      <td>-1.895243</td>\n",
       "      <td>-1.863765</td>\n",
       "    </tr>\n",
       "    <tr>\n",
       "      <th>60</th>\n",
       "      <td>이/Josa</td>\n",
       "      <td>-1.077365</td>\n",
       "      <td>0.039031</td>\n",
       "    </tr>\n",
       "    <tr>\n",
       "      <th>61</th>\n",
       "      <td>지나가면/Verb</td>\n",
       "      <td>-1.087790</td>\n",
       "      <td>0.091748</td>\n",
       "    </tr>\n",
       "    <tr>\n",
       "      <th>62</th>\n",
       "      <td>거/Noun</td>\n",
       "      <td>-1.475008</td>\n",
       "      <td>0.664814</td>\n",
       "    </tr>\n",
       "    <tr>\n",
       "      <th>63</th>\n",
       "      <td>니까/Josa</td>\n",
       "      <td>-1.483468</td>\n",
       "      <td>0.637013</td>\n",
       "    </tr>\n",
       "    <tr>\n",
       "      <th>64</th>\n",
       "      <td>아픈/Adjective</td>\n",
       "      <td>-1.688089</td>\n",
       "      <td>0.773775</td>\n",
       "    </tr>\n",
       "    <tr>\n",
       "      <th>65</th>\n",
       "      <td>내게/Verb</td>\n",
       "      <td>-1.698521</td>\n",
       "      <td>0.822204</td>\n",
       "    </tr>\n",
       "    <tr>\n",
       "      <th>66</th>\n",
       "      <td>두고/Verb</td>\n",
       "      <td>-1.694232</td>\n",
       "      <td>0.776211</td>\n",
       "    </tr>\n",
       "    <tr>\n",
       "      <th>67</th>\n",
       "      <td>은/Eomi</td>\n",
       "      <td>-1.599278</td>\n",
       "      <td>0.837957</td>\n",
       "    </tr>\n",
       "  </tbody>\n",
       "</table>\n",
       "<p>68 rows × 3 columns</p>\n",
       "</div>"
      ],
      "text/plain": [
       "            word        x1        x2\n",
       "0         너/Noun -0.966812  0.240168\n",
       "1         도/Josa -1.065440  0.270164\n",
       "2         돼/Verb -0.970065 -0.148746\n",
       "3   이/Determiner -2.361842  1.678119\n",
       "4         젠/Noun -2.229665  1.608531\n",
       "5         날/Noun -1.031471 -0.205093\n",
       "6        그냥/Noun -0.952956 -0.190524\n",
       "7         놓/Verb -0.998267 -0.933415\n",
       "8      주/PreEomi -1.017860 -0.267958\n",
       "9         아/Eomi -1.260312  0.683390\n",
       "10      들/Suffix -1.438770  0.564948\n",
       "11        가/Josa -1.379400 -1.808502\n",
       "12       오늘/Noun -0.917468 -0.114806\n",
       "13        을/Eomi -0.877637 -0.877326\n",
       "14       기억/Noun -1.713894  0.873075\n",
       "15        만/Josa -1.722749  0.876794\n",
       "16       제발/Noun -1.592306  0.758929\n",
       "17        가/Verb -1.576749  0.737627\n",
       "18   좋/Adjective -1.109668  0.293351\n",
       "19       반복/Noun -0.934794 -0.040100\n",
       "20      반복해/Verb -1.115526 -1.035477\n",
       "21        던/Eomi -1.090603 -0.178231\n",
       "22        잘/Verb -1.390577 -1.961863\n",
       "23      흔들리/Verb -3.123406  2.384455\n",
       "24     지/PreEomi -3.382184  2.548066\n",
       "25        마/Eomi -3.543078  2.669628\n",
       "26        나/Noun -3.459473  2.642790\n",
       "27        는/Josa -3.345230  2.524202\n",
       "28  괜찮/Adjective -3.208725  2.343586\n",
       "29        의/Josa -1.951021  1.372377\n",
       "..           ...       ...       ...\n",
       "38     아/PreEomi -0.995580 -0.287803\n",
       "39        면/Eomi -1.002096 -0.285058\n",
       "40    이렇게/Adverb -0.934588 -0.020554\n",
       "41        또/Noun -1.086596 -0.929367\n",
       "42       나도/Verb -1.383996 -1.527906\n",
       "43       모르/Verb -1.366379 -1.554195\n",
       "44        게/Eomi -1.401349 -1.555697\n",
       "45        와/Josa -1.775265 -2.255937\n",
       "46     함께/Adverb -2.111173 -2.703722\n",
       "47       듣던/Verb -2.148079 -2.782611\n",
       "48        이/Noun -2.230860 -2.899074\n",
       "49       노래/Noun -2.212946 -2.873640\n",
       "50      마지막/Noun -1.055351 -0.175577\n",
       "51       까지/Josa -1.018179 -0.201691\n",
       "52        니/Noun -1.580948 -2.261787\n",
       "53        알/Noun -1.598822 -2.272571\n",
       "54        아/Josa -1.624259 -2.324726\n",
       "55    그만큼/Adverb -2.150293 -2.293333\n",
       "56       우리/Noun -2.118987 -2.268313\n",
       "57  미치/Adjective -2.091488 -2.249653\n",
       "58       도록/Eomi -2.033236 -2.100447\n",
       "59     잖/PreEomi -1.895243 -1.863765\n",
       "60        이/Josa -1.077365  0.039031\n",
       "61     지나가면/Verb -1.087790  0.091748\n",
       "62        거/Noun -1.475008  0.664814\n",
       "63       니까/Josa -1.483468  0.637013\n",
       "64  아픈/Adjective -1.688089  0.773775\n",
       "65       내게/Verb -1.698521  0.822204\n",
       "66       두고/Verb -1.694232  0.776211\n",
       "67        은/Eomi -1.599278  0.837957\n",
       "\n",
       "[68 rows x 3 columns]"
      ]
     },
     "execution_count": 26,
     "metadata": {},
     "output_type": "execute_result"
    }
   ],
   "source": [
    "import pandas as pd\n",
    "w2v_df = pd.DataFrame(vectors, columns = ['x1', 'x2'])\n",
    "w2v_df['word'] = words\n",
    "w2v_df = w2v_df[['word', 'x1', 'x2']]\n",
    "w2v_df"
   ]
  },
  {
   "cell_type": "code",
   "execution_count": 27,
   "metadata": {},
   "outputs": [
    {
     "data": {
      "image/png": "[encoded data removed]",
      "text/plain": [
       "<matplotlib.figure.Figure at 0x248cea3c588>"
      ]
     },
     "metadata": {},
     "output_type": "display_data"
    }
   ],
   "source": [
    "import matplotlib.pyplot as plt\n",
    "import numpy as np\n",
    "\n",
    "fig, ax = plt.subplots()\n",
    "\n",
    "for word, x1, x2 in zip(w2v_df['word'], w2v_df['x1'], w2v_df['x2']):\n",
    "    ax.annotate(word, (x1,x2 ))\n",
    "    \n",
    "PADDING = 1.0\n",
    "x_axis_min = np.amin(vectors, axis=0)[0] - PADDING\n",
    "y_axis_min = np.amin(vectors, axis=0)[1] - PADDING\n",
    "x_axis_max = np.amax(vectors, axis=0)[0] + PADDING\n",
    "y_axis_max = np.amax(vectors, axis=0)[1] + PADDING\n",
    " \n",
    "plt.xlim(x_axis_min,x_axis_max)\n",
    "plt.ylim(y_axis_min,y_axis_max)\n",
    "plt.rcParams[\"figure.figsize\"] = (10,10)\n",
    "\n",
    "plt.show()"
   ]
  }
 ],
 "metadata": {
  "anaconda-cloud": {},
  "kernelspec": {
   "display_name": "Python 3",
   "language": "python",
   "name": "python3"
  },
  "language_info": {
   "codemirror_mode": {
    "name": "ipython",
    "version": 3
   },
   "file_extension": ".py",
   "mimetype": "text/x-python",
   "name": "python",
   "nbconvert_exporter": "python",
   "pygments_lexer": "ipython3",
   "version": "3.7.1"
  }
 },
 "nbformat": 4,
 "nbformat_minor": 2
}
