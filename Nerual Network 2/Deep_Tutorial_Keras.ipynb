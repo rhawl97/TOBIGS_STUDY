{
 "cells": [
  {
   "cell_type": "markdown",
   "metadata": {},
   "source": [
    "# Keras CIFAR-10"
   ]
  },
  {
   "cell_type": "code",
   "execution_count": 1,
   "metadata": {},
   "outputs": [
    {
     "name": "stderr",
     "output_type": "stream",
     "text": [
      "Using TensorFlow backend.\n"
     ]
    }
   ],
   "source": [
    "import os\n",
    "import keras\n",
    "from keras.datasets import cifar10\n",
    "\n",
    "(train_images, train_labels), (test_images, test_labels) = cifar10.load_data()"
   ]
  },
  {
   "cell_type": "code",
   "execution_count": 2,
   "metadata": {},
   "outputs": [],
   "source": [
    "batch_size = 4\n",
    "num_classes = 10\n",
    "epochs = 5\n",
    "data_augmentation = True\n",
    "num_prediction = 20\n",
    "save_dir = os.path.join(os.getcwd(), '/keras_models', 'saved_models')"
   ]
  },
  {
   "cell_type": "code",
   "execution_count": 3,
   "metadata": {},
   "outputs": [
    {
     "name": "stdout",
     "output_type": "stream",
     "text": [
      "(50000, 32, 32, 3)\n",
      "(50000, 1)\n",
      "(10000, 32, 32, 3)\n"
     ]
    }
   ],
   "source": [
    "print(train_images.shape)\n",
    "print(train_labels.shape)\n",
    "print(test_images.shape)"
   ]
  },
  {
   "cell_type": "code",
   "execution_count": 5,
   "metadata": {},
   "outputs": [],
   "source": [
    "y_train = keras.utils.to_categorical(train_labels, num_classes)   #one-hot encoding \n",
    "y_test = keras.utils.to_categorical(test_labels, num_classes)"
   ]
  },
  {
   "cell_type": "code",
   "execution_count": 8,
   "metadata": {},
   "outputs": [
    {
     "name": "stdout",
     "output_type": "stream",
     "text": [
      "(10000, 10)\n",
      "[[0. 0. 0. ... 0. 0. 0.]\n",
      " [0. 0. 0. ... 0. 1. 0.]\n",
      " [0. 0. 0. ... 0. 1. 0.]\n",
      " ...\n",
      " [0. 0. 0. ... 0. 0. 0.]\n",
      " [0. 1. 0. ... 0. 0. 0.]\n",
      " [0. 0. 0. ... 1. 0. 0.]]\n"
     ]
    }
   ],
   "source": [
    "print(y_test.shape)\n",
    "print(y_test)"
   ]
  },
  {
   "cell_type": "code",
   "execution_count": 10,
   "metadata": {},
   "outputs": [],
   "source": [
    "from keras.layers import Input, Dense, Dropout, Activation, Flatten\n",
    "from keras.layers import Conv2D, MaxPooling2D\n",
    "from keras import layers\n",
    "from keras import models\n",
    "\n",
    "inputs = Input( (32, 32 ,3) )"
   ]
  },
  {
   "cell_type": "code",
   "execution_count": 11,
   "metadata": {},
   "outputs": [],
   "source": [
    "# block1\n",
    "net = models.Sequential()\n",
    "\n",
    "net.add(Conv2D(32, (3,3), activation='relu', padding='same', name='block1_conv1'))  #계속 하나씩 추가 \n",
    "net.add(Conv2D(32, (3,3), activation='relu', padding='valid', name='block1_conv2'))\n",
    "net.add(MaxPooling2D((2, 2), name='block1_pool'))\n",
    "net.add(Dropout(0.25))"
   ]
  },
  {
   "cell_type": "code",
   "execution_count": 12,
   "metadata": {},
   "outputs": [],
   "source": [
    "# block2\n",
    "net.add(Conv2D(32, (3,3), activation='relu', padding='same', name='block2_conv1'))\n",
    "net.add(Conv2D(32, (3,3), activation='relu', padding='valid', name='block2_conv2'))\n",
    "net.add(MaxPooling2D((2, 2), name='block2_pool'))\n",
    "net.add(Dropout(0.25))"
   ]
  },
  {
   "cell_type": "code",
   "execution_count": 13,
   "metadata": {},
   "outputs": [],
   "source": [
    "net.add(Flatten())\n",
    "net.add(Dense(512, activation='relu', name='dense1'))\n",
    "net.add(Dropout(0.5))\n",
    "net.add(Dense(num_classes, activation='softmax', name='dense2'))"
   ]
  },
  {
   "cell_type": "code",
   "execution_count": 15,
   "metadata": {},
   "outputs": [],
   "source": [
    "optimizer = keras.optimizers.rmsprop(lr=0.0001, decay=1e-6)\n",
    "\n",
    "net.compile(loss='categorical_crossentropy', #net이라는 모델에 loss , optimizer, metric 지표 선언 \n",
    "              optimizer=optimizer,\n",
    "              metrics=['accuracy'])"
   ]
  },
  {
   "cell_type": "code",
   "execution_count": 16,
   "metadata": {},
   "outputs": [
    {
     "name": "stdout",
     "output_type": "stream",
     "text": [
      "Train on 50000 samples, validate on 10000 samples\n",
      "Epoch 1/5\n",
      "50000/50000 [==============================] - 443s 9ms/step - loss: 1.7227 - acc: 0.3665 - val_loss: 1.4025 - val_acc: 0.4871\n",
      "Epoch 2/5\n",
      "50000/50000 [==============================] - 523s 10ms/step - loss: 1.4166 - acc: 0.4870 - val_loss: 1.2707 - val_acc: 0.5460\n",
      "Epoch 3/5\n",
      "50000/50000 [==============================] - 475s 9ms/step - loss: 1.3289 - acc: 0.5272 - val_loss: 1.2443 - val_acc: 0.5602\n",
      "Epoch 4/5\n",
      "50000/50000 [==============================] - 483s 10ms/step - loss: 1.2880 - acc: 0.5533 - val_loss: 1.2718 - val_acc: 0.5575\n",
      "Epoch 5/5\n",
      "50000/50000 [==============================] - 451s 9ms/step - loss: 1.2728 - acc: 0.5594 - val_loss: 1.1899 - val_acc: 0.5848\n"
     ]
    },
    {
     "data": {
      "text/plain": [
       "<keras.callbacks.History at 0x1aba3850978>"
      ]
     },
     "execution_count": 16,
     "metadata": {},
     "output_type": "execute_result"
    }
   ],
   "source": [
    "x_train = train_images.astype('float32') / 255  #normalization\n",
    "x_test = test_images.astype('float32') / 255\n",
    "\n",
    "net.fit(x_train, y_train,  #tensorflow와 pytorch에서는 for문으로 길었던 부분 \n",
    "              batch_size=batch_size,\n",
    "              epochs=epochs,\n",
    "              validation_data=(x_test, y_test),\n",
    "              shuffle=True)  "
   ]
  },
  {
   "cell_type": "code",
   "execution_count": null,
   "metadata": {},
   "outputs": [],
   "source": [
    "test_loss, test_acc = net.evaluate(x_test, y_test)"
   ]
  },
  {
   "cell_type": "code",
   "execution_count": 18,
   "metadata": {},
   "outputs": [
    {
     "name": "stdout",
     "output_type": "stream",
     "text": [
      "test_loss: 1.1899055150985718\n",
      "test_acc: 0.5848\n"
     ]
    }
   ],
   "source": [
    "print('test_loss:', test_loss)\n",
    "print('test_acc:', test_acc)"
   ]
  }
 ],
 "metadata": {
  "kernelspec": {
   "display_name": "Python 3",
   "language": "python",
   "name": "python3"
  },
  "language_info": {
   "codemirror_mode": {
    "name": "ipython",
    "version": 3
   },
   "file_extension": ".py",
   "mimetype": "text/x-python",
   "name": "python",
   "nbconvert_exporter": "python",
   "pygments_lexer": "ipython3",
   "version": "3.5.6"
  }
 },
 "nbformat": 4,
 "nbformat_minor": 2
}
