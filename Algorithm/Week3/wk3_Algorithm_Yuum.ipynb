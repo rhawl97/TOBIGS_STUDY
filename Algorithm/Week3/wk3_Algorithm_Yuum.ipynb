{
 "cells": [
  {
   "cell_type": "code",
   "execution_count": 18,
   "metadata": {},
   "outputs": [],
   "source": [
    "def Q1():\n",
    "    A = list(map(int,input(\"A = \").split()))  #list로 입력받기\n",
    "    B1 = [0]*len(A) #input과 같은 길이로 리스트 생성\n",
    "    B2 = [0]*len(A) \n",
    "    B1[0] = A[0]  #첫번째 값은 A의 첫 숫자와 같은 수 할당\n",
    "    B2[0] = A[0]\n",
    "    val1 = val2 =  0 \n",
    "    for i in range(1,len(A)): #첫번째 값은 이미 할당했으므로 그 다음 인덱스부터\n",
    "        if A[i] >= A[i-1]:   #생각해야 할 조건 2가지 1.같은 인덱스에 해당하는 A의 값과 차이가 적어야 함 2.직전 인덱스에 해당하는 B의 값에 영향을 받음  #if조건문을 통해 부분적으로 단조증가와 단조감소를 파악 \n",
    "            B1[i] = B1[i-1]    #조건 2번 \n",
    "            B2[i] = A[i]       #조건 1번 \n",
    "        else:               \n",
    "            B1[i] = A[i]      #조건 1번\n",
    "            B2[i] = B2[i-1]   #조건 2번 \n",
    "        val1 += abs(A[i]-B1[i])  #A원소와 B원소 간 차의 절대값 구하기 \n",
    "        val2 += abs(A[i]-B2[i])\n",
    "    value = min(val1,val2)  #두 경우 중 차의 절대값이 최소인 경우를 선택 \n",
    "    if value == val1:\n",
    "        B = B1    \n",
    "    elif value == val2:\n",
    "        B = B2    \n",
    "    print(\"B =\", B, \"\\n\", \"합의 최솟값 = \", value)"
   ]
  },
  {
   "cell_type": "code",
   "execution_count": 94,
   "metadata": {},
   "outputs": [
    {
     "name": "stdout",
     "output_type": "stream",
     "text": [
      "A = 9 3 5 4 2 3 1\n",
      "B = [9, 3, 3, 4, 2, 2, 1] \n",
      " 합의 최솟값 =  3\n"
     ]
    }
   ],
   "source": [
    "Q1()"
   ]
  },
  {
   "cell_type": "code",
   "execution_count": 116,
   "metadata": {},
   "outputs": [],
   "source": [
    "def Q2():\n",
    "    n = int(input())\n",
    "    def factorial(n):  #팩토리얼 계산 함수 만들기\n",
    "        if n==1:\n",
    "            return 1\n",
    "        else:\n",
    "            return n*factorial(n-1)\n",
    "    for a in range(n-1): #(n-1)시간만에 120m이거나 135m일 때, n시간만에 150m를 도달할 확률을 가짐 \n",
    "        for b in range(n-1):\n",
    "            if (a + b == n-1) & (15*a+30*b == 120):   #a: 15m 미끄러진 횟수   b: 미끄러지지 않고 30m 올라간 횟수 \n",
    "                prob1 = (factorial(n-1)/(factorial(n-1-a)*a))*(0.5**(n-1))*0.5   #0.5의 확률로 n시간에 150m까지 도달하지 못하고 미끄러질 수 있음\n",
    "            elif (a + b == n-1) & (15*a+30*b == 135):\n",
    "                prob2 = (factorial(n-1)/(factorial(n-1-a)*a))*(0.5**(n-1))   #무조건 n시간에는 150m 도달 \n",
    "    prob = (prob1+prob2)*100\n",
    "    print(prob,\"%\")"
   ]
  },
  {
   "cell_type": "code",
   "execution_count": 117,
   "metadata": {},
   "outputs": [
    {
     "name": "stdout",
     "output_type": "stream",
     "text": [
      "6\n",
      "31.25 %\n"
     ]
    }
   ],
   "source": [
    "Q2()"
   ]
  },
  {
   "cell_type": "code",
   "execution_count": null,
   "metadata": {},
   "outputs": [],
   "source": [
    "import numpy as np"
   ]
  },
  {
   "cell_type": "code",
   "execution_count": 91,
   "metadata": {},
   "outputs": [],
   "source": [
    "def Q3(word):\n",
    "    lst = list(word)\n",
    "    change = 0\n",
    "    for i in range(len(lst)-1):\n",
    "        if lst[i] != lst[i+1]:\n",
    "            change += 1   #단어가 바뀌는 횟수\n",
    "    uni = len(np.unique(lst))   #단어에 속한 알파벳 개수\n",
    "    if uni == change+1:  #위 두 값이 같다면 반복 스펠링 단어!\n",
    "        result = 1\n",
    "    else:\n",
    "        result = 0\n",
    "    return(result)"
   ]
  },
  {
   "cell_type": "code",
   "execution_count": 93,
   "metadata": {},
   "outputs": [
    {
     "data": {
      "text/plain": [
       "0"
      ]
     },
     "execution_count": 93,
     "metadata": {},
     "output_type": "execute_result"
    }
   ],
   "source": [
    "Q3(\"alpha\")"
   ]
  },
  {
   "cell_type": "code",
   "execution_count": 24,
   "metadata": {},
   "outputs": [],
   "source": [
    "data = open('C:/Users/Kim Yuum/Desktop/투빅스/3주차/Algorithm/a_dic.txt')\n",
    "a_dic = [string for string in data.read().split()]"
   ]
  },
  {
   "cell_type": "code",
   "execution_count": 92,
   "metadata": {},
   "outputs": [
    {
     "data": {
      "text/plain": [
       "1035"
      ]
     },
     "execution_count": 92,
     "metadata": {},
     "output_type": "execute_result"
    }
   ],
   "source": [
    "final = 0 \n",
    "for i in a_dic:\n",
    "    final += Q3(i)\n",
    "final  #1035개"
   ]
  },
  {
   "cell_type": "code",
   "execution_count": 74,
   "metadata": {},
   "outputs": [],
   "source": [
    "def Q4(k,a,b):\n",
    "    def divi(number):  #약수 개수 구하는 함수 먼저 만들쟝!\n",
    "        divisors = [] #약수 저장소\n",
    "        t_num = int(number/2) #약수는 자기 자신과 자기 자신을 2로 나눈 수를 넘지 않음\n",
    "        divisors.append(number) #일단 자기 자신도 약수니까 추가추가\n",
    "        while t_num >= 1:  #약수는 1 미만일 수 없음 \n",
    "            if number % t_num == 0 :  #나누어 떨어지면 약수로 취급\n",
    "                divisors.append(t_num)\n",
    "            t_num -= 1  \n",
    "        return(len(divisors))  #약수 개수 반환\n",
    "    count = 0\n",
    "    divided = []\n",
    "    for i in range(a,b+1):  #a와 b사이에서 \n",
    "        if divi(i) == k:    #약수의 개수가 k개인 수들\n",
    "            count += 1      \n",
    "            divided.append(i)  \n",
    "    print(divided, \"\\n\", count, \"개 입니다.\")"
   ]
  },
  {
   "cell_type": "code",
   "execution_count": 75,
   "metadata": {},
   "outputs": [
    {
     "name": "stdout",
     "output_type": "stream",
     "text": [
      "[6, 8, 10] \n",
      " 3 개 입니다.\n"
     ]
    }
   ],
   "source": [
    "Q4(4,5,10)"
   ]
  },
  {
   "cell_type": "code",
   "execution_count": 71,
   "metadata": {},
   "outputs": [],
   "source": [
    "def Q5():\n",
    "    def convert(num,b):  #변환할 수와 진수를 input으로 넣었을 때 변환된 값을 반환하는 함수 생성\n",
    "        answer = \"\"\n",
    "        while num // b >= 1:  \n",
    "            remain = num % b   #나머지 저장\n",
    "            num = num // b     #새로 변환할 수 업데이트 \n",
    "            answer = str(remain) + answer #나머지 계속 연결 #숫자로 더하지 않고 문자 그대로 연결 \n",
    "            if num < b :  #끝까지 루프 다 돌았을 때 \n",
    "                answer = str(num) + answer\n",
    "        return(answer)\n",
    "    count = 0\n",
    "    base = int(input(\"2과 10 사이의 값을 입력해주세요 : \")) #변환할 진수\n",
    "    for i in range(1,301):\n",
    "        number = i**2                           #1부터 300까지의 수 각각 제곱 \n",
    "        afterconvert = convert(number,base)     #변환된 값 \n",
    "        if afterconvert ==  afterconvert[::-1]: #뒤집어도 같으면 대칭\n",
    "            count += 1\n",
    "            print(number, afterconvert)\n",
    "    print(count, \"개의 진수대칭변환이 있습니다.\")"
   ]
  },
  {
   "cell_type": "code",
   "execution_count": 73,
   "metadata": {},
   "outputs": [
    {
     "name": "stdout",
     "output_type": "stream",
     "text": [
      "2과 10 사이의 값을 입력해주세요 : 7\n",
      "1 \n",
      "4 \n",
      "16 22\n",
      "64 121\n",
      "100 202\n",
      "121 232\n",
      "400 1111\n",
      "1024 2662\n",
      "1600 4444\n",
      "2500 10201\n",
      "3249 12321\n",
      "4096 14641\n",
      "6400 24442\n",
      "25600 134431\n",
      "40000 224422\n",
      "15 개의 진수대칭변환이 있습니다.\n"
     ]
    }
   ],
   "source": [
    "Q5()"
   ]
  }
 ],
 "metadata": {
  "kernelspec": {
   "display_name": "Python 3",
   "language": "python",
   "name": "python3"
  },
  "language_info": {
   "codemirror_mode": {
    "name": "ipython",
    "version": 3
   },
   "file_extension": ".py",
   "mimetype": "text/x-python",
   "name": "python",
   "nbconvert_exporter": "python",
   "pygments_lexer": "ipython3",
   "version": "3.7.1"
  }
 },
 "nbformat": 4,
 "nbformat_minor": 2
}
