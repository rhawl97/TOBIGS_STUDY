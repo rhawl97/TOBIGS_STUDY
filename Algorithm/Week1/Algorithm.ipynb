{
 "cells": [
  {
   "cell_type": "code",
   "execution_count": 3,
   "metadata": {},
   "outputs": [],
   "source": [
    "import numpy as np\n",
    "import pandas as pd"
   ]
  },
  {
   "cell_type": "code",
   "execution_count": 4,
   "metadata": {},
   "outputs": [],
   "source": [
    "####Q1. 영문 대소문자로 이루어진 문자열을 입력하였을 때, 문자열 내에 몇 개의 단어가 있는지 구하는 알고리즘####\n",
    "def howmanywords(input):\n",
    "    a = list(input)  #input을 알파벳 단위로 쪼갬\n",
    "    for i in range(len(a)):\n",
    "        if a[i].isalpha()==0 and a[i] != \" \":   #띄어쓰기를 제외한 나머지 문자 중 알파벳 외 , ? ! 등 특수문자 유무 확인\n",
    "            input = input.replace(a[i], \"\")     #알파벳과 띄어쓰기를 제외한 나머지 문자 제거\n",
    "    words = input.lower().split(' ')   #중복 단어 찾을 수 있도록 문장을 모두 소문자화 => 띄어쓰기를 기준으로 단어 분리 \n",
    "    numofw = len(np.unique(words))     #고유한 단어 개수 반환\n",
    "    return numofw"
   ]
  },
  {
   "cell_type": "code",
   "execution_count": 5,
   "metadata": {},
   "outputs": [
    {
     "data": {
      "text/plain": [
       "6"
      ]
     },
     "execution_count": 5,
     "metadata": {},
     "output_type": "execute_result"
    }
   ],
   "source": [
    "howmanywords(\"Loving can heal, loving can mend your soul heal\")"
   ]
  },
  {
   "cell_type": "code",
   "execution_count": null,
   "metadata": {},
   "outputs": [],
   "source": [
    "####Q2. 영어 대문자로 이루어진 문자열을 입력하였을 때 특정 문자열이 몇 번 등장하는지 구하는 알고리즘####\n",
    "def howmanystrings(string, word):\n",
    "    if string in word:\n",
    "        numofs = word.count(string)  #특정 문자열이 속해있을 때 해당 문자열의 개수 반환\n",
    "    else:\n",
    "        numofs = 0            #속해있지 않을 때 0 반환\n",
    "    return numofs"
   ]
  },
  {
   "cell_type": "code",
   "execution_count": null,
   "metadata": {},
   "outputs": [],
   "source": [
    "howmanystrings(\"BCA\", \"ABCABCDABCABEABCDEFBCABCCA\")"
   ]
  },
  {
   "cell_type": "code",
   "execution_count": null,
   "metadata": {},
   "outputs": [],
   "source": [
    "####Q3. 숫자와 알파벳으로 구성된 문자열을 입력받아서 숫자만큼 알파벳을 반복시켜 반환하는 함수####\n",
    "def uncompress(input):\n",
    "    a = list(input)   #input을 원소 단위로 분해 \n",
    "    result = \"\"       #빈 문자열 벡터 생성\n",
    "    for i in range(len(a)):\n",
    "        if a[i].isalpha():    #원소단위로 분해한 input 중 하나가 알파벳일 때 \n",
    "            result += a[i]*int(a[i-1])   #해당 알파벳을 왼쪽 숫자만큼 출력\n",
    "    return(result)"
   ]
  },
  {
   "cell_type": "code",
   "execution_count": null,
   "metadata": {},
   "outputs": [],
   "source": [
    "uncompress(\"2a5b1c\")\n",
    "uncompress(\"3x5y2z\")"
   ]
  },
  {
   "cell_type": "code",
   "execution_count": 12,
   "metadata": {},
   "outputs": [],
   "source": [
    "####Q4. 하나의 단어를 입력받아서 그 단어에 들어 있는 모음('a','e','i','o','u’)의 개수를 각각 출력하는 프로그램####\n",
    "def findvowel():\n",
    "    dic = {1:'a', 2:'e', 3: 'i', 4: 'o', 5:'u'}   #사전 생성   #dictionary 사용\n",
    "    word = input(\"Enter one word : \")  #입력받기\n",
    "    numofa = numofe = numofi = numofo = numofu = 0  #영벡터 생성\n",
    "    listword = list(word)   #입력받은 단어를 알파벳 단위로 쪼개기 \n",
    "    for i in range(len(listword)):  #입력받은 단어의 알파벳과 사전의 모음을 하나씩 비교  #for문 사용\n",
    "        if dic[1] in listword[i]:   #해당 알파벳이 속해있으면 count 1 \n",
    "            numofa += 1\n",
    "        if dic[2] in listword[i]:\n",
    "            numofe += 1\n",
    "        if dic[3] in listword[i]:\n",
    "            numofi += 1\n",
    "        if dic[4] in listword[i]:\n",
    "            numofo += 1\n",
    "        if dic[5] in listword[i]:\n",
    "            numofu += 1\n",
    "    return(print(\"vowel a: \", numofa, \"\\n\"\n",
    "                \"vowel e: \", numofe, \"\\n\"\n",
    "                \"vowel i: \", numofi, \"\\n\"\n",
    "                \"vowel o: \", numofo, \"\\n\"\n",
    "                \"vowel u: \", numofu))\n",
    "        \n",
    "            "
   ]
  },
  {
   "cell_type": "code",
   "execution_count": 13,
   "metadata": {},
   "outputs": [
    {
     "name": "stdout",
     "output_type": "stream",
     "text": [
      "Enter one word : temporary\n",
      "vowel a:  1 \n",
      "vowel e:  1 \n",
      "vowel i:  0 \n",
      "vowel o:  1 \n",
      "vowel u:  0\n"
     ]
    }
   ],
   "source": [
    "findvowel()"
   ]
  },
  {
   "cell_type": "code",
   "execution_count": 53,
   "metadata": {},
   "outputs": [],
   "source": [
    "####Q5. anagram 함수 ####\n",
    "import itertools\n",
    "def anagram():\n",
    "    word = input(\"Enter a word: \")  #입력받기 \n",
    "    pool = list(word)  #입력받은 단어를 원소단위로 분해 \n",
    "    print(list(map(''.join, itertools.permutations(pool)))) # word의 원소로 수열 만들기\n",
    "    print(\"There are \", len(list(map(''.join, itertools.permutations(pool)))), \"anagrams!\") #anagram 개수 출력"
   ]
  },
  {
   "cell_type": "code",
   "execution_count": 55,
   "metadata": {},
   "outputs": [
    {
     "name": "stdout",
     "output_type": "stream",
     "text": [
      "Enter a word: python\n",
      "['python', 'pythno', 'pytohn', 'pytonh', 'pytnho', 'pytnoh', 'pyhton', 'pyhtno', 'pyhotn', 'pyhont', 'pyhnto', 'pyhnot', 'pyothn', 'pyotnh', 'pyohtn', 'pyohnt', 'pyonth', 'pyonht', 'pyntho', 'pyntoh', 'pynhto', 'pynhot', 'pynoth', 'pynoht', 'ptyhon', 'ptyhno', 'ptyohn', 'ptyonh', 'ptynho', 'ptynoh', 'pthyon', 'pthyno', 'pthoyn', 'pthony', 'pthnyo', 'pthnoy', 'ptoyhn', 'ptoynh', 'ptohyn', 'ptohny', 'ptonyh', 'ptonhy', 'ptnyho', 'ptnyoh', 'ptnhyo', 'ptnhoy', 'ptnoyh', 'ptnohy', 'phyton', 'phytno', 'phyotn', 'phyont', 'phynto', 'phynot', 'phtyon', 'phtyno', 'phtoyn', 'phtony', 'phtnyo', 'phtnoy', 'phoytn', 'phoynt', 'photyn', 'photny', 'phonyt', 'phonty', 'phnyto', 'phnyot', 'phntyo', 'phntoy', 'phnoyt', 'phnoty', 'poythn', 'poytnh', 'poyhtn', 'poyhnt', 'poynth', 'poynht', 'potyhn', 'potynh', 'pothyn', 'pothny', 'potnyh', 'potnhy', 'pohytn', 'pohynt', 'pohtyn', 'pohtny', 'pohnyt', 'pohnty', 'ponyth', 'ponyht', 'pontyh', 'ponthy', 'ponhyt', 'ponhty', 'pnytho', 'pnytoh', 'pnyhto', 'pnyhot', 'pnyoth', 'pnyoht', 'pntyho', 'pntyoh', 'pnthyo', 'pnthoy', 'pntoyh', 'pntohy', 'pnhyto', 'pnhyot', 'pnhtyo', 'pnhtoy', 'pnhoyt', 'pnhoty', 'pnoyth', 'pnoyht', 'pnotyh', 'pnothy', 'pnohyt', 'pnohty', 'ypthon', 'ypthno', 'yptohn', 'yptonh', 'yptnho', 'yptnoh', 'yphton', 'yphtno', 'yphotn', 'yphont', 'yphnto', 'yphnot', 'ypothn', 'ypotnh', 'ypohtn', 'ypohnt', 'yponth', 'yponht', 'ypntho', 'ypntoh', 'ypnhto', 'ypnhot', 'ypnoth', 'ypnoht', 'ytphon', 'ytphno', 'ytpohn', 'ytponh', 'ytpnho', 'ytpnoh', 'ythpon', 'ythpno', 'ythopn', 'ythonp', 'ythnpo', 'ythnop', 'ytophn', 'ytopnh', 'ytohpn', 'ytohnp', 'ytonph', 'ytonhp', 'ytnpho', 'ytnpoh', 'ytnhpo', 'ytnhop', 'ytnoph', 'ytnohp', 'yhpton', 'yhptno', 'yhpotn', 'yhpont', 'yhpnto', 'yhpnot', 'yhtpon', 'yhtpno', 'yhtopn', 'yhtonp', 'yhtnpo', 'yhtnop', 'yhoptn', 'yhopnt', 'yhotpn', 'yhotnp', 'yhonpt', 'yhontp', 'yhnpto', 'yhnpot', 'yhntpo', 'yhntop', 'yhnopt', 'yhnotp', 'yopthn', 'yoptnh', 'yophtn', 'yophnt', 'yopnth', 'yopnht', 'yotphn', 'yotpnh', 'yothpn', 'yothnp', 'yotnph', 'yotnhp', 'yohptn', 'yohpnt', 'yohtpn', 'yohtnp', 'yohnpt', 'yohntp', 'yonpth', 'yonpht', 'yontph', 'yonthp', 'yonhpt', 'yonhtp', 'ynptho', 'ynptoh', 'ynphto', 'ynphot', 'ynpoth', 'ynpoht', 'yntpho', 'yntpoh', 'ynthpo', 'ynthop', 'yntoph', 'yntohp', 'ynhpto', 'ynhpot', 'ynhtpo', 'ynhtop', 'ynhopt', 'ynhotp', 'ynopth', 'ynopht', 'ynotph', 'ynothp', 'ynohpt', 'ynohtp', 'tpyhon', 'tpyhno', 'tpyohn', 'tpyonh', 'tpynho', 'tpynoh', 'tphyon', 'tphyno', 'tphoyn', 'tphony', 'tphnyo', 'tphnoy', 'tpoyhn', 'tpoynh', 'tpohyn', 'tpohny', 'tponyh', 'tponhy', 'tpnyho', 'tpnyoh', 'tpnhyo', 'tpnhoy', 'tpnoyh', 'tpnohy', 'typhon', 'typhno', 'typohn', 'typonh', 'typnho', 'typnoh', 'tyhpon', 'tyhpno', 'tyhopn', 'tyhonp', 'tyhnpo', 'tyhnop', 'tyophn', 'tyopnh', 'tyohpn', 'tyohnp', 'tyonph', 'tyonhp', 'tynpho', 'tynpoh', 'tynhpo', 'tynhop', 'tynoph', 'tynohp', 'thpyon', 'thpyno', 'thpoyn', 'thpony', 'thpnyo', 'thpnoy', 'thypon', 'thypno', 'thyopn', 'thyonp', 'thynpo', 'thynop', 'thopyn', 'thopny', 'thoypn', 'thoynp', 'thonpy', 'thonyp', 'thnpyo', 'thnpoy', 'thnypo', 'thnyop', 'thnopy', 'thnoyp', 'topyhn', 'topynh', 'tophyn', 'tophny', 'topnyh', 'topnhy', 'toyphn', 'toypnh', 'toyhpn', 'toyhnp', 'toynph', 'toynhp', 'tohpyn', 'tohpny', 'tohypn', 'tohynp', 'tohnpy', 'tohnyp', 'tonpyh', 'tonphy', 'tonyph', 'tonyhp', 'tonhpy', 'tonhyp', 'tnpyho', 'tnpyoh', 'tnphyo', 'tnphoy', 'tnpoyh', 'tnpohy', 'tnypho', 'tnypoh', 'tnyhpo', 'tnyhop', 'tnyoph', 'tnyohp', 'tnhpyo', 'tnhpoy', 'tnhypo', 'tnhyop', 'tnhopy', 'tnhoyp', 'tnopyh', 'tnophy', 'tnoyph', 'tnoyhp', 'tnohpy', 'tnohyp', 'hpyton', 'hpytno', 'hpyotn', 'hpyont', 'hpynto', 'hpynot', 'hptyon', 'hptyno', 'hptoyn', 'hptony', 'hptnyo', 'hptnoy', 'hpoytn', 'hpoynt', 'hpotyn', 'hpotny', 'hponyt', 'hponty', 'hpnyto', 'hpnyot', 'hpntyo', 'hpntoy', 'hpnoyt', 'hpnoty', 'hypton', 'hyptno', 'hypotn', 'hypont', 'hypnto', 'hypnot', 'hytpon', 'hytpno', 'hytopn', 'hytonp', 'hytnpo', 'hytnop', 'hyoptn', 'hyopnt', 'hyotpn', 'hyotnp', 'hyonpt', 'hyontp', 'hynpto', 'hynpot', 'hyntpo', 'hyntop', 'hynopt', 'hynotp', 'htpyon', 'htpyno', 'htpoyn', 'htpony', 'htpnyo', 'htpnoy', 'htypon', 'htypno', 'htyopn', 'htyonp', 'htynpo', 'htynop', 'htopyn', 'htopny', 'htoypn', 'htoynp', 'htonpy', 'htonyp', 'htnpyo', 'htnpoy', 'htnypo', 'htnyop', 'htnopy', 'htnoyp', 'hopytn', 'hopynt', 'hoptyn', 'hoptny', 'hopnyt', 'hopnty', 'hoyptn', 'hoypnt', 'hoytpn', 'hoytnp', 'hoynpt', 'hoyntp', 'hotpyn', 'hotpny', 'hotypn', 'hotynp', 'hotnpy', 'hotnyp', 'honpyt', 'honpty', 'honypt', 'honytp', 'hontpy', 'hontyp', 'hnpyto', 'hnpyot', 'hnptyo', 'hnptoy', 'hnpoyt', 'hnpoty', 'hnypto', 'hnypot', 'hnytpo', 'hnytop', 'hnyopt', 'hnyotp', 'hntpyo', 'hntpoy', 'hntypo', 'hntyop', 'hntopy', 'hntoyp', 'hnopyt', 'hnopty', 'hnoypt', 'hnoytp', 'hnotpy', 'hnotyp', 'opythn', 'opytnh', 'opyhtn', 'opyhnt', 'opynth', 'opynht', 'optyhn', 'optynh', 'opthyn', 'opthny', 'optnyh', 'optnhy', 'ophytn', 'ophynt', 'ophtyn', 'ophtny', 'ophnyt', 'ophnty', 'opnyth', 'opnyht', 'opntyh', 'opnthy', 'opnhyt', 'opnhty', 'oypthn', 'oyptnh', 'oyphtn', 'oyphnt', 'oypnth', 'oypnht', 'oytphn', 'oytpnh', 'oythpn', 'oythnp', 'oytnph', 'oytnhp', 'oyhptn', 'oyhpnt', 'oyhtpn', 'oyhtnp', 'oyhnpt', 'oyhntp', 'oynpth', 'oynpht', 'oyntph', 'oynthp', 'oynhpt', 'oynhtp', 'otpyhn', 'otpynh', 'otphyn', 'otphny', 'otpnyh', 'otpnhy', 'otyphn', 'otypnh', 'otyhpn', 'otyhnp', 'otynph', 'otynhp', 'othpyn', 'othpny', 'othypn', 'othynp', 'othnpy', 'othnyp', 'otnpyh', 'otnphy', 'otnyph', 'otnyhp', 'otnhpy', 'otnhyp', 'ohpytn', 'ohpynt', 'ohptyn', 'ohptny', 'ohpnyt', 'ohpnty', 'ohyptn', 'ohypnt', 'ohytpn', 'ohytnp', 'ohynpt', 'ohyntp', 'ohtpyn', 'ohtpny', 'ohtypn', 'ohtynp', 'ohtnpy', 'ohtnyp', 'ohnpyt', 'ohnpty', 'ohnypt', 'ohnytp', 'ohntpy', 'ohntyp', 'onpyth', 'onpyht', 'onptyh', 'onpthy', 'onphyt', 'onphty', 'onypth', 'onypht', 'onytph', 'onythp', 'onyhpt', 'onyhtp', 'ontpyh', 'ontphy', 'ontyph', 'ontyhp', 'onthpy', 'onthyp', 'onhpyt', 'onhpty', 'onhypt', 'onhytp', 'onhtpy', 'onhtyp', 'npytho', 'npytoh', 'npyhto', 'npyhot', 'npyoth', 'npyoht', 'nptyho', 'nptyoh', 'npthyo', 'npthoy', 'nptoyh', 'nptohy', 'nphyto', 'nphyot', 'nphtyo', 'nphtoy', 'nphoyt', 'nphoty', 'npoyth', 'npoyht', 'npotyh', 'npothy', 'npohyt', 'npohty', 'nyptho', 'nyptoh', 'nyphto', 'nyphot', 'nypoth', 'nypoht', 'nytpho', 'nytpoh', 'nythpo', 'nythop', 'nytoph', 'nytohp', 'nyhpto', 'nyhpot', 'nyhtpo', 'nyhtop', 'nyhopt', 'nyhotp', 'nyopth', 'nyopht', 'nyotph', 'nyothp', 'nyohpt', 'nyohtp', 'ntpyho', 'ntpyoh', 'ntphyo', 'ntphoy', 'ntpoyh', 'ntpohy', 'ntypho', 'ntypoh', 'ntyhpo', 'ntyhop', 'ntyoph', 'ntyohp', 'nthpyo', 'nthpoy', 'nthypo', 'nthyop', 'nthopy', 'nthoyp', 'ntopyh', 'ntophy', 'ntoyph', 'ntoyhp', 'ntohpy', 'ntohyp', 'nhpyto', 'nhpyot', 'nhptyo', 'nhptoy', 'nhpoyt', 'nhpoty', 'nhypto', 'nhypot', 'nhytpo', 'nhytop', 'nhyopt', 'nhyotp', 'nhtpyo', 'nhtpoy', 'nhtypo', 'nhtyop', 'nhtopy', 'nhtoyp', 'nhopyt', 'nhopty', 'nhoypt', 'nhoytp', 'nhotpy', 'nhotyp', 'nopyth', 'nopyht', 'noptyh', 'nopthy', 'nophyt', 'nophty', 'noypth', 'noypht', 'noytph', 'noythp', 'noyhpt', 'noyhtp', 'notpyh', 'notphy', 'notyph', 'notyhp', 'nothpy', 'nothyp', 'nohpyt', 'nohpty', 'nohypt', 'nohytp', 'nohtpy', 'nohtyp']\n",
      "There are  720 anagrams!\n"
     ]
    }
   ],
   "source": [
    "anagram()"
   ]
  },
  {
   "cell_type": "code",
   "execution_count": null,
   "metadata": {},
   "outputs": [],
   "source": []
  },
  {
   "cell_type": "code",
   "execution_count": null,
   "metadata": {},
   "outputs": [],
   "source": []
  }
 ],
 "metadata": {
  "kernelspec": {
   "display_name": "Python 3",
   "language": "python",
   "name": "python3"
  },
  "language_info": {
   "codemirror_mode": {
    "name": "ipython",
    "version": 3
   },
   "file_extension": ".py",
   "mimetype": "text/x-python",
   "name": "python",
   "nbconvert_exporter": "python",
   "pygments_lexer": "ipython3",
   "version": "3.7.1"
  }
 },
 "nbformat": 4,
 "nbformat_minor": 2
}
