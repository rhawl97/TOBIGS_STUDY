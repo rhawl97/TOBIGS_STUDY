{
 "cells": [
  {
   "cell_type": "markdown",
   "metadata": {},
   "source": [
    "# Automatic Feature Selection"
   ]
  },
  {
   "cell_type": "markdown",
   "metadata": {},
   "source": [
    "- 차원을 줄여보자.\n",
    "- 방법 : Univariate Selection, Model-based Selection, Iterative Selection"
   ]
  },
  {
   "cell_type": "markdown",
   "metadata": {},
   "source": [
    "## 1. Univarivate Selection\n",
    "- label과 feature 하나하나를 pair하게 비교하여 Selection\n",
    "- P-value가 낮은 순서대로 Selection\n",
    "- SelectKBest : 피쳐의 갯수 K개 만큼 선택\n",
    "- SelectPercentile : 갯수가 아닌 Percent로 선택"
   ]
  },
  {
   "cell_type": "code",
   "execution_count": 1,
   "metadata": {},
   "outputs": [],
   "source": [
    "import numpy as np\n",
    "from sklearn.datasets import load_breast_cancer\n",
    "from sklearn.model_selection import train_test_split\n",
    "from sklearn.feature_selection import SelectKBest, SelectPercentile  #k개만큼 select or 50%만 select\n",
    "\n",
    "import warnings\n",
    "warnings.filterwarnings('ignore')"
   ]
  },
  {
   "cell_type": "code",
   "execution_count": 2,
   "metadata": {},
   "outputs": [
    {
     "data": {
      "text/plain": [
       "(569, 30)"
      ]
     },
     "execution_count": 2,
     "metadata": {},
     "output_type": "execute_result"
    }
   ],
   "source": [
    "cancer = load_breast_cancer()\n",
    "\n",
    "cancer.data.shape\n",
    "#처음 피쳐의 갯수는 30개이다."
   ]
  },
  {
   "cell_type": "code",
   "execution_count": 3,
   "metadata": {},
   "outputs": [
    {
     "data": {
      "text/plain": [
       "(569, 30)"
      ]
     },
     "execution_count": 3,
     "metadata": {},
     "output_type": "execute_result"
    }
   ],
   "source": [
    "#여기에 아무 의미 없는 피쳐 30개를 더 만들어 보자\n",
    "rng = np.random.RandomState(42)\n",
    "noise = rng.normal(size = (len(cancer.data), 30))\n",
    "noise.shape\n",
    "#의미없는 피쳐 30개"
   ]
  },
  {
   "cell_type": "code",
   "execution_count": 4,
   "metadata": {},
   "outputs": [
    {
     "data": {
      "text/plain": [
       "(569, 60)"
      ]
     },
     "execution_count": 4,
     "metadata": {},
     "output_type": "execute_result"
    }
   ],
   "source": [
    "#두개를 합치자\n",
    "X_w_noise = np.hstack([cancer.data, noise])\n",
    "X_w_noise.shape"
   ]
  },
  {
   "cell_type": "markdown",
   "metadata": {},
   "source": [
    "데이터 나누기"
   ]
  },
  {
   "cell_type": "code",
   "execution_count": 5,
   "metadata": {},
   "outputs": [],
   "source": [
    "X_train, X_test, y_train, y_test = train_test_split(X_w_noise, cancer.target,\n",
    "                                                   random_state = 0, test_size = 0.5)"
   ]
  },
  {
   "cell_type": "markdown",
   "metadata": {},
   "source": [
    "본격적으로 Feature Selection하기"
   ]
  },
  {
   "cell_type": "code",
   "execution_count": 6,
   "metadata": {},
   "outputs": [
    {
     "name": "stdout",
     "output_type": "stream",
     "text": [
      "Shape of X_train (284, 60)\n",
      "Shape of X_train_selected (284, 30)\n"
     ]
    }
   ],
   "source": [
    "select1 = SelectPercentile(percentile=50)  #가장 유의한 50%만 select\n",
    "select1.fit(X_train, y_train)  #통계적으로 pvalue를 보기위해 fit\n",
    "X_train_selected = select1.transform(X_train)\n",
    "\n",
    "print(\"Shape of X_train\", X_train.shape)\n",
    "print(\"Shape of X_train_selected\", X_train_selected.shape)  #통계적으로 유의한건 30개다 --pvalue로 판단"
   ]
  },
  {
   "cell_type": "code",
   "execution_count": 7,
   "metadata": {},
   "outputs": [],
   "source": [
    "import matplotlib.pyplot as plt"
   ]
  },
  {
   "cell_type": "markdown",
   "metadata": {},
   "source": [
    "어떤 놈들이 Selection 됐을까?"
   ]
  },
  {
   "cell_type": "code",
   "execution_count": 8,
   "metadata": {},
   "outputs": [
    {
     "name": "stdout",
     "output_type": "stream",
     "text": [
      "[ True  True  True  True  True  True  True  True  True False  True False\n",
      "  True  True  True  True  True  True False False  True  True  True  True\n",
      "  True  True  True  True  True  True False False False False False False\n",
      " False False False False False False False False  True False False False\n",
      " False False False  True False False False False  True False  True False]\n"
     ]
    },
    {
     "data": {
      "text/plain": [
       "<matplotlib.image.AxesImage at 0x183343c5cc0>"
      ]
     },
     "execution_count": 8,
     "metadata": {},
     "output_type": "execute_result"
    },
    {
     "data": {
      "image/png": "[encoded data removed]",
      "text/plain": [
       "<Figure size 1152x144 with 1 Axes>"
      ]
     },
     "metadata": {},
     "output_type": "display_data"
    }
   ],
   "source": [
    "mask = select1.get_support()\n",
    "print(mask)\n",
    "plt.matshow(mask.reshape(1,-1), cmap = 'gray_r')  #검은색이 select된 애들 "
   ]
  },
  {
   "cell_type": "markdown",
   "metadata": {},
   "source": [
    "#### 선택 전 후 성능 비교해보기"
   ]
  },
  {
   "cell_type": "code",
   "execution_count": 9,
   "metadata": {},
   "outputs": [
    {
     "name": "stdout",
     "output_type": "stream",
     "text": [
      "All Feature Score is  0.9298245614035088\n",
      "Selected Feature Score is  0.9508771929824561\n"
     ]
    }
   ],
   "source": [
    "from sklearn.linear_model import LogisticRegression\n",
    "\n",
    "X_test_selected = select1.transform(X_test)\n",
    "logist = LogisticRegression()\n",
    "logist.fit(X_train, y_train)\n",
    "print(\"All Feature Score is \", logist.score(X_test, y_test))  #r-square\n",
    "\n",
    "logist.fit(X_train_selected, y_train)\n",
    "print(\"Selected Feature Score is \", logist.score(X_test_selected, y_test))"
   ]
  },
  {
   "cell_type": "markdown",
   "metadata": {},
   "source": [
    "아래는 SelectKBest 방법입니다."
   ]
  },
  {
   "cell_type": "code",
   "execution_count": 10,
   "metadata": {},
   "outputs": [
    {
     "name": "stdout",
     "output_type": "stream",
     "text": [
      "Shape of X_train (284, 60)\n",
      "Shape of X_train_selected (284, 30)\n"
     ]
    }
   ],
   "source": [
    "select2 = SelectKBest(k=30)\n",
    "select2.fit(X_train, y_train)\n",
    "X_train_selected = select2.transform(X_train)\n",
    "\n",
    "print(\"Shape of X_train\", X_train.shape)\n",
    "print(\"Shape of X_train_selected\", X_train_selected.shape)"
   ]
  },
  {
   "cell_type": "markdown",
   "metadata": {},
   "source": [
    "## 2. Model-Based Feature Selection\n",
    "- feature의 Importance를 뽑아 낼 수 있는 모델을 사용하여 Feature Selection을 실시"
   ]
  },
  {
   "cell_type": "code",
   "execution_count": 11,
   "metadata": {},
   "outputs": [
    {
     "name": "stdout",
     "output_type": "stream",
     "text": [
      "Shape of X_train (284, 60)\n",
      "Shape of X_train_selected (284, 30)\n"
     ]
    }
   ],
   "source": [
    "from sklearn.feature_selection import SelectFromModel\n",
    "from sklearn.ensemble import RandomForestClassifier\n",
    "\n",
    "select3 = SelectFromModel(RandomForestClassifier(n_estimators = 100, random_state = 42),  #rf했을 때 나오는 중요도 median을 기준으로 작은놈은 버리겠다\n",
    "                          threshold = \"median\")\n",
    "select3.fit(X_train, y_train)\n",
    "X_train_selected = select3.transform(X_train)\n",
    "\n",
    "print(\"Shape of X_train\", X_train.shape)\n",
    "print(\"Shape of X_train_selected\", X_train_selected.shape)"
   ]
  },
  {
   "cell_type": "code",
   "execution_count": 12,
   "metadata": {},
   "outputs": [
    {
     "name": "stdout",
     "output_type": "stream",
     "text": [
      "[ True  True  True  True  True  True  True  True  True  True  True  True\n",
      "  True  True False False  True  True False  True  True  True  True  True\n",
      "  True  True  True  True  True  True False False False False False False\n",
      " False False False False False False False False False  True False  True\n",
      " False  True False False False False False False False False False False]\n"
     ]
    },
    {
     "data": {
      "text/plain": [
       "<matplotlib.image.AxesImage at 0x183346dff28>"
      ]
     },
     "execution_count": 12,
     "metadata": {},
     "output_type": "execute_result"
    },
    {
     "data": {
      "image/png": "[encoded data removed]",
      "text/plain": [
       "<Figure size 1152x144 with 1 Axes>"
      ]
     },
     "metadata": {},
     "output_type": "display_data"
    }
   ],
   "source": [
    "mask = select3.get_support()\n",
    "print(mask)\n",
    "plt.matshow(mask.reshape(1,-1), cmap = 'gray_r')"
   ]
  },
  {
   "cell_type": "code",
   "execution_count": 13,
   "metadata": {},
   "outputs": [
    {
     "name": "stdout",
     "output_type": "stream",
     "text": [
      "All Feature Score is  0.9298245614035088\n",
      "Selected Feature Score is  0.9543859649122807\n"
     ]
    }
   ],
   "source": [
    "from sklearn.linear_model import LogisticRegression\n",
    "\n",
    "X_test_selected = select3.transform(X_test)\n",
    "logist = LogisticRegression()\n",
    "logist.fit(X_train, y_train)\n",
    "print(\"All Feature Score is \", logist.score(X_test, y_test))\n",
    "\n",
    "logist.fit(X_train_selected, y_train)\n",
    "print(\"Selected Feature Score is \", logist.score(X_test_selected, y_test))"
   ]
  },
  {
   "cell_type": "markdown",
   "metadata": {},
   "source": [
    "# 3. Iteractive Selection"
   ]
  },
  {
   "cell_type": "code",
   "execution_count": 24,
   "metadata": {},
   "outputs": [
    {
     "name": "stdout",
     "output_type": "stream",
     "text": [
      "Shape of X_train (284, 60)\n",
      "Shape of X_train_selected (284, 30)\n"
     ]
    }
   ],
   "source": [
    "from sklearn.feature_selection import RFE\n",
    "\n",
    "select4 = RFE(RandomForestClassifier(), 30, step=100)  #rf로 가장 작은 놈 버리고 다시 돌려보고 다시 버리고 다시 돌려보고 \n",
    "select4.fit(X_train, y_train)\n",
    "\n",
    "X_train_selected = select4.transform(X_train)\n",
    "\n",
    "print(\"Shape of X_train\", X_train.shape)\n",
    "print(\"Shape of X_train_selected\", X_train_selected.shape)"
   ]
  },
  {
   "cell_type": "code",
   "execution_count": 27,
   "metadata": {},
   "outputs": [
    {
     "name": "stdout",
     "output_type": "stream",
     "text": [
      "[ True  True False  True False  True  True  True  True False  True False\n",
      " False  True False  True  True  True False  True  True  True  True  True\n",
      "  True  True  True  True False  True  True False False False  True False\n",
      "  True False False False  True False False False False  True False False\n",
      " False  True False False False False False  True  True False False False]\n"
     ]
    },
    {
     "data": {
      "text/plain": [
       "<matplotlib.image.AxesImage at 0x183358910b8>"
      ]
     },
     "execution_count": 27,
     "metadata": {},
     "output_type": "execute_result"
    },
    {
     "data": {
      "image/png": "[encoded data removed]",
      "text/plain": [
       "<Figure size 1152x144 with 1 Axes>"
      ]
     },
     "metadata": {},
     "output_type": "display_data"
    }
   ],
   "source": [
    "mask = select4.get_support()\n",
    "print(mask)\n",
    "plt.matshow(mask.reshape(1,-1), cmap = 'gray_r')"
   ]
  },
  {
   "cell_type": "code",
   "execution_count": 28,
   "metadata": {},
   "outputs": [
    {
     "name": "stdout",
     "output_type": "stream",
     "text": [
      "All Feature Score is  0.9298245614035088\n",
      "Selected Feature Score is  0.9614035087719298\n"
     ]
    }
   ],
   "source": [
    "from sklearn.linear_model import LogisticRegression\n",
    "\n",
    "X_test_selected = select4.transform(X_test)\n",
    "logist = LogisticRegression()\n",
    "logist.fit(X_train, y_train)\n",
    "print(\"All Feature Score is \", logist.score(X_test, y_test))\n",
    "\n",
    "logist.fit(X_train_selected, y_train)\n",
    "print(\"Selected Feature Score is \", logist.score(X_test_selected, y_test)) #성능이 가장 좋아짐 RFE방법이 가장 좋다고 알려짐!"
   ]
  }
 ],
 "metadata": {
  "kernelspec": {
   "display_name": "Python 3",
   "language": "python",
   "name": "python3"
  },
  "language_info": {
   "codemirror_mode": {
    "name": "ipython",
    "version": 3
   },
   "file_extension": ".py",
   "mimetype": "text/x-python",
   "name": "python",
   "nbconvert_exporter": "python",
   "pygments_lexer": "ipython3",
   "version": "3.7.1"
  }
 },
 "nbformat": 4,
 "nbformat_minor": 2
}
